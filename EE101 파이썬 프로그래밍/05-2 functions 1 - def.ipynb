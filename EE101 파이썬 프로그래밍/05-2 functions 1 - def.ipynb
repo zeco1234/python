{
 "cells": [
  {
   "attachments": {},
   "cell_type": "markdown",
   "metadata": {
    "collapsed": false
   },
   "source": [
    "# 함수 (Functions)\n",
    "\n",
    "> 함수는 프로그램의 일부를 재사용하기 위해 문장 블록에 대해 이름을 부여한 것\n",
    ">\n",
    "> 함수의 이름을 적어주면 그 위치에서 해당 블록이 실행된다. 이를 함수 호춯(*calling*)이라 한다.\n",
    ">\n",
    "> 프로그램 내에서 여러 번 호출할 수 있다.\n",
    "\n",
    "#### 1) 함수의 정의\n",
    "> `def` 키워드 사용 \n",
    ">\n",
    "> 키워드 다음에 함수명 (*identifier*)를 적고, 매개변수를 둘러싼 괄호를 적어준 다음 마지막에 콜론(`:`)을 적는다 (함수 헤더)\n",
    "- 매개변수가 없는 함수 정의도 가능하다.\n",
    ">\n",
    "> 그 아래 들여쓰기 후 함수가 호출되었을 때 실행할 문장 블록을 적는다.\n",
    "\n",
    "Example (save as `function1.py`):\n"
   ]
  },
  {
   "cell_type": "code",
   "execution_count": 1,
   "metadata": {
    "collapsed": false
   },
   "outputs": [
    {
     "name": "stdout",
     "output_type": "stream",
     "text": [
      "hello world\n",
      "hello world\n"
     ]
    }
   ],
   "source": [
    "def say_hello():\n",
    "    '''\n",
    "    The first program you have ever written.\n",
    "    '''\n",
    "    # block belonging to the function\n",
    "    print('hello world')\n",
    "# End of function\n",
    "\n"
   ]
  },
  {
   "attachments": {},
   "cell_type": "markdown",
   "metadata": {},
   "source": [
    "#### 2) 함수의 호출\n",
    "\n",
    "> 함수의 호출은 함수명 다음에 괄호로 둘러싸인 전달인자를 적어주면 된다."
   ]
  },
  {
   "cell_type": "code",
   "execution_count": null,
   "metadata": {},
   "outputs": [],
   "source": [
    "say_hello()  # call the function\n",
    "say_hello()  # call the function again"
   ]
  },
  {
   "attachments": {},
   "cell_type": "markdown",
   "metadata": {
    "collapsed": false
   },
   "source": [
    "#### 3) 매개변수 (Function Parameters) 와 전달 인자(Arguments)\n",
    "\n",
    "> 함수 호출할 때 특별한 값을 지정하여 호출할 수 있는데, 이 값을 받아오기 위한 지역 변수를 매개변수라 한다.\n",
    ">- 함수 헤더의 괄호 안에 콤마로 구분해서 나열된 변수들이 매개변수(*parameters*)이다.\n",
    ">- 매개변수는 호출 시 전달되는 인자(*arguments*)의 값으로 초기화되어 사용될 뿐, 일반 지역 변수와 동일하다. \n",
    "\n",
    "Example (save as `function_param.py`):\n"
   ]
  },
  {
   "cell_type": "code",
   "execution_count": 2,
   "metadata": {
    "collapsed": false
   },
   "outputs": [
    {
     "name": "stdout",
     "output_type": "stream",
     "text": [
      "4 is maximum among (4,3)\n",
      "7 is maximum among (5,7)\n"
     ]
    }
   ],
   "source": [
    "def print_max(a, b):\n",
    "    '''\n",
    "    a and b are parameters, which are local variables (discussed later)\n",
    "    '''\n",
    "    if a > b:\n",
    "        print(a, 'is maximum', end=' ')\n",
    "    elif a == b:\n",
    "        print(a, 'is equal to', b, end=' ')\n",
    "    else:\n",
    "        print(b, 'is maximum', end=' ')\n",
    "    print('among ({},{})'.format(a,b))\n",
    "\n",
    "\n",
    "# directly pass literal values\n",
    "print_max(4, 3) # 4와 3을 인자(argument)로 하는 호출\n",
    "\n",
    "x = 5\n",
    "y = 7\n",
    "\n",
    "# pass variables as arguments\n",
    "print_max(x, y) # (수식) x와 (수식)y를 인자(argument)로 하는 호출, 수식의 결과값으로 해당 매개변수를 초기화하게 된다.\n"
   ]
  },
  {
   "attachments": {},
   "cell_type": "markdown",
   "metadata": {
    "collapsed": false
   },
   "source": [
    "**How It Works**\n",
    "\n",
    ">1. 함수 `print_max()` 는 두 개의 파라미터 `a` 와 `b`를 가지고 있는 함수이다.  \n",
    ">2. 첫번째 호출에서 `a`와 `b`에는 각각 `4`와 `3`이 저장된 상태에서 함수 블록이 실행된다.\n",
    ">3. 두번째 호출에서 `a`와 `b`에는 각각 `x` 수식과 `y` 수식의 결과값인 `5`와 `7`이 저장된 상태에서 함수 블록이 실행된다."
   ]
  },
  {
   "attachments": {},
   "cell_type": "markdown",
   "metadata": {
    "collapsed": false
   },
   "source": [
    "## 실습\n",
    "\n",
    "[1] 소수(prime number)는 1과 자기 자신 외의 약수를 가지지 않는 1 보다 큰 자연수이다. 주어진 정수가 소수일 때만 그 수를 출력하는 함수를 작성하시오.\n",
    "이 함수를 반복적으로 호출하여 2부터 100 사이의 소수를 찾아서 출력하는 프로그램을 작성하라.\n",
    "\n"
   ]
  },
  {
   "cell_type": "code",
   "execution_count": 2,
   "metadata": {},
   "outputs": [
    {
     "name": "stdout",
     "output_type": "stream",
     "text": [
      "    \n",
      "    입력된 파라미터가 소수(prime number)일 때 그 수를 출력하는 함수\n",
      "    \n",
      "2 3 5 7 11 13 17 19 23 29 31 37 41 43 47 53 59 61 67 71 73 79 83 89 97 "
     ]
    }
   ],
   "source": [
    "def print_prime(x):\n",
    "    \"\"\"    \n",
    "    입력된 파라미터가 소수(prime number)일 때 그 수를 출력하는 함수\n",
    "    \"\"\"\n",
    "    isPrime = True\n",
    "    for n in range(2,x):\n",
    "        if x % n == 0:\n",
    "            isPrime = False\n",
    "    if isPrime:\n",
    "        print(x, end=' ')\n",
    "# end of function\n",
    "\n",
    "\n",
    "print(print_prime.__doc__)\n",
    " \n",
    "# 2부터 100 사이의 소수를 출력한다.\n",
    "for k in range(2,101):\n",
    "    print_prime(k)\n"
   ]
  },
  {
   "attachments": {},
   "cell_type": "markdown",
   "metadata": {},
   "source": [
    "[2] 두 저항 x, y에 대하여, 직렬 결합할 때의 등가저항은 x+y, 병렬 결합할 때의 등가저항은 xy/(x+y) 이다. 두 양의 정수를 파라미터로 입력하면 직렬 저항의 합과 병렬 저항의 합을 각각 출력하는 함수 series(x,y)와 parallel(x,y)를 정의하라.이 함수를 호출하여 입력된 두 저항을 직렬 결합할 때와 병렬 결합할 때 얻을 수 있는 저항값을 출력하는 프로그램을 작성하시오. \n",
    "\n",
    "(Ex. 1 9 -> 5 3 1.8 / 2 3 -> 2.5 2.44949 2.4)\n"
   ]
  },
  {
   "cell_type": "code",
   "execution_count": 3,
   "metadata": {},
   "outputs": [
    {
     "name": "stdout",
     "output_type": "stream",
     "text": [
      "6와 12의 직렬결합 등가저항은 18\n",
      "6와 12의 병렬결합 등가저항은 4\n"
     ]
    }
   ],
   "source": [
    "def series(x,y):\n",
    "    '''\n",
    "    equivalent resistance of series-connected resistors\n",
    "    '''\n",
    "    r = x+y\n",
    "    print(f'{x:g}와 {y:g}의 직렬결합 등가저항은 {r:g}')\n",
    "# end of function\n",
    "\n",
    "\n",
    "def parallel(x,y):\n",
    "    '''\n",
    "    equivalent resistance of parallel-connected resistors\n",
    "    '''\n",
    "    r = x*y/(x+y)\n",
    "    print(f'{x:g}와 {y:g}의 병렬결합 등가저항은 {r:g}')\n",
    "# end of function\n",
    "\n",
    "a = float(input('첫 번째 저항값 : '))\n",
    "b = float(input('두 번째 저항값 : '))\n",
    "\n",
    "series(a, b)\n",
    "parallel(a,b)"
   ]
  }
 ],
 "metadata": {
  "kernelspec": {
   "display_name": "Python 3",
   "language": "python",
   "name": "python3"
  },
  "language_info": {
   "codemirror_mode": {
    "name": "ipython",
    "version": 3
   },
   "file_extension": ".py",
   "mimetype": "text/x-python",
   "name": "python",
   "nbconvert_exporter": "python",
   "pygments_lexer": "ipython3",
   "version": "3.11.0"
  },
  "vscode": {
   "interpreter": {
    "hash": "10340f3b4385e401792eeb44b8b5edca2cd8c002c17926bde515355c1d6e3c5e"
   }
  }
 },
 "nbformat": 4,
 "nbformat_minor": 0
}
