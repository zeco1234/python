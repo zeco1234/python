{
 "cells": [
  {
   "attachments": {},
   "cell_type": "markdown",
   "metadata": {
    "collapsed": false
   },
   "source": [
    "#### 5) 클래스 변수와 객체 변수 (Class Variables vs Object Variables)\n",
    "\n",
    "> 필드는 클래스와 객체의 **namespaces** 에 _바인드되어_ (_bound_)있을 뿐, 일반 변수와 똑같이 취급할 수 있다. \n",
    ">- 필드는 해당 클래스와 객체의 콘텍스트 내에서만 유효하다. (**namesspaces**라고 부르는 이유)\n",
    ">\n",
    "> _필드_ (_fields_)에도 두 유형이 있다. 클래스와 객체 중에서 무엇이 해당 변수를 _소유_ (_owns_) 하는가에 의해서 구분 \n",
    ">- **클래스 변수**: 해당 클래스의 모든 인스턴스에서 공유된다. 클래스 변수의 복사본은 하나뿐이며, 한 개체가 클래스 변수를 변경하면 다른 모든 인스턴스에서도 해당 변경 내용을 볼 수 있다.\n",
    ">- **객체 변수**: 개별 객체/인스턴스에 의해 소유된다. 각 객체는 해당 필드의 고유 복사본을 가지고 있어서 다른 인스턴스에서 동일한 이름을 갖는 필드가 있어도 전혀 관계되지 않는다. \n",
    "\n",
    "Example (`oop_objvar.py`):\n"
   ]
  },
  {
   "cell_type": "code",
   "execution_count": null,
   "metadata": {
    "collapsed": false
   },
   "outputs": [],
   "source": [
    "class Robot:\n",
    "    \"\"\"Represents a robot, with a name.\"\"\"\n",
    "\n",
    "    # A class variable, counting the number of robots\n",
    "    population = 0\n",
    "\n",
    "    def __init__(self, name):\n",
    "        \"\"\"Initializes the data.\"\"\"\n",
    "        self.name = name\n",
    "        print(\"(Initializing {})\".format(self.name))\n",
    "\n",
    "        # When this person is created, the robot\n",
    "        # adds to the population\n",
    "        Robot.population += 1\n",
    "\n",
    "    def die(self):\n",
    "        \"\"\"I am dying.\"\"\"\n",
    "        print(\"{} is being destroyed!\".format(self.name))\n",
    "\n",
    "        Robot.population -= 1\n",
    "\n",
    "        if Robot.population == 0:\n",
    "            print(\"{} was the last one.\".format(self.name))\n",
    "        else:\n",
    "            print(\"There are still {:d} robots working.\".format(\n",
    "                Robot.population))\n",
    "\n",
    "    def say_hi(self):\n",
    "        \"\"\"Greeting by the robot.\n",
    "\n",
    "        Yeah, they can do that.\"\"\"\n",
    "        print(\"Greetings, my masters call me {}.\".format(self.name))\n",
    "\n",
    "    @classmethod\n",
    "    def how_many(cls):\n",
    "        \"\"\"Prints the current population.\"\"\"\n",
    "        print(\"We have {:d} robots.\".format(cls.population))\n",
    "\n",
    "\n",
    "droid1 = Robot(\"R2-D2\")\n",
    "droid1.say_hi()\n",
    "Robot.how_many()\n",
    "\n",
    "droid2 = Robot(\"C-3PO\")\n",
    "droid2.say_hi()\n",
    "Robot.how_many()\n",
    "\n",
    "print(\"\\nRobots can do some work here.\\n\")\n",
    "\n",
    "print(\"Robots have finished their work. So let's destroy them.\")\n",
    "droid1.die()\n",
    "droid2.die()\n",
    "\n",
    "Robot.how_many()\n"
   ]
  },
  {
   "attachments": {},
   "cell_type": "markdown",
   "metadata": {
    "collapsed": false
   },
   "source": [
    "**How It Works**\n",
    "\n",
    ">1. 클래스 필드 `Robot.population`와 객체 필드 `self.population`\n",
    ">- 클래스 필드 `Robot.population` 대신에 `self.__class__.population` 을 사용해서 접근할 수 있다.\n",
    ">- 모든 객체에는 `self.__class__` attribute 가 포함되어 있다.\n",
    ">2. `how_many`는 `classmethod` \n",
    ">- `@classmethod` decorator 를 이용해서 classmethod로 지정\n",
    ">3. 모든 클래스 멤버는 public 이다. 단, _double underscore prefix_ 를 갖는 변수는 예외 (private)"
   ]
  },
  {
   "attachments": {},
   "cell_type": "markdown",
   "metadata": {
    "collapsed": false
   },
   "source": [
    "#### 6) 상속 (Inheritance)\n",
    "\n",
    "> 객체 지향 프로그래밍의 주요 이점 중 하나는 코드의 `재사용`(**reuse**)이며, 이를 달성하는 방법 중 하나가 **상속(inherirance)** 메커니즘이다.\n",
    ">\n",
    "> 상속을 통해 클래스 사이에 **type 및 subtype** 관계를 형성한다.\n",
    ">\n",
    "대학에서 교사와 학생을 기록해야 하는 프로그램을 작성한다고 가정해보자. 교사와 학생 모두 이름, 나이, 주소와 같은 몇 가지 공통된 특성을 가지고 있다. \n",
    "그러나 한편으로는 교사에게 고유한 특성, 예를 들어 급여, 과정, 휴가 등이 있을 수 있고, 또 학생에게는 고유 특성으로 점수와 수업료 등이 있을 수 있다,\n",
    "\n",
    "교수와 학생 각 유형에 대해 두 개의 독립된 클래스를 생성해서 이를 처리할 수도 있지만, 이 경우 공통 특성도 두 개의 독립 클래스에 모두 추가해야 하는데, 이렇게 되면 코드가 빠르게 복잡해진다.\n",
    "\n",
    "더 좋은 방법은 `SchoolMember`라는 공통 클래스를 만든 다음에 `Teacher` 클래스와 `Student` 클래스로 하여금 이 클래스를 **상속**(_inherit_)하게 하는 것이다. \n",
    "즉, `Teacher`와 `Student` 클래스는  `SchoolMember` 클래스의 하위 유형(`subtype`)으로 만든다. 그런다음 이 하위 유형에 자신의 고유 특성을 추가할 수 있다.\n",
    "\n",
    "> 이 접근법에는 많은 이점이 있다:\n",
    ">- `SchoolMember`에서 기능을 추가/변경하면 하위 유형에도 자동으로 반영된다. 예를 들어, `SchoolMember` 클래스에 새 ID 카드 필드를 추가하기만 하면 교사와 학생 모두를 위한 새 ID 카드 필드가 추가된다. \n",
    ">- 하위 유형의 변경 사항은 다른 하위 유형에 영향을 주지 않는다. \n",
    ">- 교사나 학생 객체를 필요에 따라 `SchoolMember` 객체로 지칭할 수 있는 것도 장점이다. 이를 **다형성(polymorphism)**이라고 하는데, 여기서 하위 유형은 언제든지 부모 유형으로 대체될 수 있다. 즉, 개체를 부모 클래스의 인스턴스처럼 다룰 수 있다.\n",
    ">- 독립적인 클래스를 사용한다면 서로 다른 클래스 내부에서 코드를 재사용을 할 수가 없지만, 클래스를 상속하는 경우에는 부모 클래스의 코드를 재사용할 수 있다. \n",
    "\n",
    "> 위와 같은 시나리오에서 `SchoolMember` 클래스는 **base class** 또는 **superclass**라고 하고, `Teacher` 클래스와 `Student` 클래스는 **derived classes** 또는 **subclasses**라고 부른다.\n",
    "\n",
    "Example (`oop_subclass.py`):\n"
   ]
  },
  {
   "cell_type": "code",
   "execution_count": 1,
   "metadata": {
    "collapsed": false,
    "pycharm": {
     "is_executing": true
    }
   },
   "outputs": [
    {
     "name": "stdout",
     "output_type": "stream",
     "text": [
      "(Initialized SchoolMember: Mrs. Shrividya)\n",
      "(Initialized Teacher: Mrs. Shrividya)\n",
      "(Initialized SchoolMember: Swaroop)\n",
      "(Initialized Student: Swaroop)\n",
      "\n",
      "Name:\"Mrs. Shrividya\" Age:\"40\" Salary: \"30000\"\n",
      "Name:\"Swaroop\" Age:\"25\" Marks: \"75\"\n"
     ]
    }
   ],
   "source": [
    "class SchoolMember:\n",
    "    '''Represents any school member.'''\n",
    "    def __init__(self, name, age):\n",
    "        self.name = name\n",
    "        self.age = age\n",
    "        print('(Initialized SchoolMember: {})'.format(self.name))\n",
    "\n",
    "    def tell(self):\n",
    "        '''Tell my details.'''\n",
    "        print('Name:\"{}\" Age:\"{}\"'.format(self.name, self.age), end=\" \")\n",
    "\n",
    "\n",
    "class Teacher(SchoolMember):\n",
    "    '''Represents a teacher.'''\n",
    "    def __init__(self, name, age, salary):\n",
    "        SchoolMember.__init__(self, name, age)\n",
    "        self.salary = salary\n",
    "        print('(Initialized Teacher: {})'.format(self.name))\n",
    "\n",
    "    def tell(self):\n",
    "        SchoolMember.tell(self)\n",
    "        print('Salary: \"{:d}\"'.format(self.salary))\n",
    "\n",
    "\n",
    "class Student(SchoolMember):\n",
    "    '''Represents a student.'''\n",
    "    def __init__(self, name, age, marks):\n",
    "        SchoolMember.__init__(self, name, age)\n",
    "        self.marks = marks\n",
    "        print('(Initialized Student: {})'.format(self.name))\n",
    "\n",
    "    def tell(self):\n",
    "        SchoolMember.tell(self)\n",
    "        print('Marks: \"{:d}\"'.format(self.marks))\n",
    "\n",
    "t = Teacher('Mrs. Shrividya', 40, 30000)\n",
    "s = Student('Swaroop', 25, 75)\n",
    "\n",
    "# prints a blank line\n",
    "print()\n",
    "\n",
    "members = [t, s]\n",
    "for member in members:\n",
    "    # Works for both Teachers and Students\n",
    "    member.tell()\n"
   ]
  },
  {
   "attachments": {},
   "cell_type": "markdown",
   "metadata": {
    "collapsed": false
   },
   "source": [
    "**How It Works**\n",
    "\n",
    ">1. 베이스 클래스의 `__init__` 메서드는 필요시 각각의 서브클래스에서 명시적으로 호출하여야 한다.\n",
    ">- 서브클래스의 `__init__` 메서드는 인스턴스 생성시 지동으로 실행된다.\n",
    ">2. 베이스 클래스와 서브클래스에 동일한 이름의 메서드가 존재하는 경우, 서브클래스의 메서드가 우선된다.\n",
    ">3. **multiple inheritance**: 상속 튜플에 여러 개의 클래스를 리스트하면, 각 클래스의 속성을 상속한다. \n"
   ]
  },
  {
   "attachments": {},
   "cell_type": "markdown",
   "metadata": {
    "collapsed": false
   },
   "source": [
    "## 실습\n",
    "\n",
    "[1] `NaturalNumber` 클래스를 선언하라. \n",
    "`class variable`을 이용해서 0이 입력될 때까지 입력된 0이 아닌 양의 정수의 개수와 최대값을 갱신하도록 하는 __init__ 메서드를 작성하라. \n",
    "0이하의 값이 들어오면 객체 변수 `val`의 값을 0으로 셋팅하라.\n",
    "사용자로부터 정수를 반복적으로 입력 받아, 이 정수를 argument로 하여 인스턴스를 발생시키는 프로그램을 작성하라.\n",
    "인스턴스 변수 `val`의 값이 0이면 그떄까지 입력된 자연수의 개수와 최대값을 출력하라. (classmethod를 정의하여 처리하라)"
   ]
  },
  {
   "cell_type": "code",
   "execution_count": 21,
   "metadata": {},
   "outputs": [
    {
     "name": "stdout",
     "output_type": "stream",
     "text": [
      "2 is a natural number\n",
      "\"2\" is less than the current maximum by -2\n",
      "<__main__.NaturalNumber object at 0x000001BF30F113D0> 2\n",
      "6 is a natural number\n",
      "\"6\" is less than the current maximum by -4\n",
      "<__main__.NaturalNumber object at 0x000001BF30F14790> 6\n",
      "0 is not a natural number\n",
      "<__main__.NaturalNumber object at 0x000001BF30F113D0> 0\n",
      "maximum among 2 numbers is 6\n",
      "[2 6 0 8 8 3 7 8 5 4 6 9 7 8 8 9 4 7 0 2 7 5 2 0 5 9 3 3 2 7 5 5 1 9 7 9 3\n",
      " 3 6 8 1 5 1 4 7 7 1 3 2 2 4 2 7 9 3 5 2 1 7 2 7 0 3 3 2 1 8 4 6 0 9 5 7 0\n",
      " 2 2 4 4 2 5 3 6 5 3 6 8 9 1 3 7 6 8 8 6 1 6 8 6 7 5]\n"
     ]
    }
   ],
   "source": [
    "class NaturalNumber():\n",
    "    '''Represents a natural number.'''\n",
    "\n",
    "    # a class variable\n",
    "    maximum = 0\n",
    "    count = 0\n",
    "\n",
    "    def __init__(self, val):\n",
    "        if val <= 0:\n",
    "            print('{} is not a natural number'.format(val))\n",
    "            self.val = 0\n",
    "        else:\n",
    "            print('{} is a natural number'.format(val))\n",
    "            print('\"{:d}\" is less than the current maximum by {:d}'.format(val, NaturalNumber.maximum-val))    \n",
    "            self.val = val\n",
    "            NaturalNumber.count += 1\n",
    "            if val > NaturalNumber.maximum:\n",
    "                NaturalNumber.maximum = val\n",
    "                \n",
    "    @classmethod\n",
    "    def tell(cls):\n",
    "        print('maximum among {} numbers is {}'.format(cls.count, cls.maximum))\n",
    "\n",
    "\n",
    "import numpy as np\n",
    "\n",
    "seq = np.random.randint(0, 10, 100, dtype=np.int32)\n",
    "\n",
    "for a in seq:\n",
    "    n = NaturalNumber(a)\n",
    "    print(n, n.val)\n",
    "    if n.val == 0:\n",
    "        break\n",
    "\n",
    "NaturalNumber.tell()\n",
    "\n",
    "print(seq)\n"
   ]
  },
  {
   "attachments": {},
   "cell_type": "markdown",
   "metadata": {},
   "source": [
    "[2] 위 예제에서 `NaturalNumber` 클래스가 `int` 클래스를 상속하도록 수정하라. 프로그램 동작 특성에서 어떤 차이가 있는가? "
   ]
  },
  {
   "cell_type": "code",
   "execution_count": 20,
   "metadata": {},
   "outputs": [
    {
     "name": "stdout",
     "output_type": "stream",
     "text": [
      "7 is a natural number\n",
      "\"7\" is less than the current maximum by -7\n",
      "7 7\n",
      "3 is a natural number\n",
      "\"3\" is less than the current maximum by 4\n",
      "3 3\n",
      "9 is a natural number\n",
      "\"9\" is less than the current maximum by -2\n",
      "9 9\n",
      "2 is a natural number\n",
      "\"2\" is less than the current maximum by 7\n",
      "2 2\n",
      "8 is a natural number\n",
      "\"8\" is less than the current maximum by 1\n",
      "8 8\n",
      "6 is a natural number\n",
      "\"6\" is less than the current maximum by 3\n",
      "6 6\n",
      "3 is a natural number\n",
      "\"3\" is less than the current maximum by 6\n",
      "3 3\n",
      "3 is a natural number\n",
      "\"3\" is less than the current maximum by 6\n",
      "3 3\n",
      "2 is a natural number\n",
      "\"2\" is less than the current maximum by 7\n",
      "2 2\n",
      "0 is not a natural number\n",
      "0 0\n",
      "maximum among 9 numbers is 9\n",
      "[7 3 9 2 8 6 3 3 2 0 0 1 6 7 5 7 6 4 6 0 7 9 7 9 9 8 4 2 5 9 3 2 5 4 9 5 9\n",
      " 6 9 2 0 2 3 2 4 0 4 6 8 8 6 1 8 6 8 5 2 8 2 6 8 3 4 7 2 5 6 4 7 6 9 0 1 9\n",
      " 4 0 0 8 7 7 8 9 2 8 8 8 4 9 4 7 7 6 4 5 8 0 5 6 1 8]\n"
     ]
    }
   ],
   "source": [
    "class NaturalNumber(int):\n",
    "    '''Represents a natural number.'''\n",
    "\n",
    "    # a class variable\n",
    "    maximum = 0\n",
    "    count = 0\n",
    "\n",
    "    def __init__(self, val):\n",
    "        if val <= 0:\n",
    "            print('{} is not a natural number'.format(val))\n",
    "            self.val = 0\n",
    "        else:\n",
    "            print('{} is a natural number'.format(val))\n",
    "            print('\"{:d}\" is less than the current maximum by {:d}'.format(val, NaturalNumber.maximum-val))    \n",
    "            self.val = val\n",
    "            NaturalNumber.count += 1\n",
    "            if val > NaturalNumber.maximum:\n",
    "                NaturalNumber.maximum = val\n",
    "                \n",
    "    @classmethod\n",
    "    def tell(cls):\n",
    "        print('maximum among {} numbers is {}'.format(cls.count, cls.maximum))\n",
    "\n",
    "\n",
    "import numpy as np\n",
    "\n",
    "seq = np.random.randint(0, 10, 100, dtype=np.int32)\n",
    "\n",
    "for a in seq:\n",
    "    n = NaturalNumber(a)\n",
    "    print(n, n.val)\n",
    "    if n.val == 0:\n",
    "        break\n",
    "\n",
    "NaturalNumber.tell()\n",
    "\n",
    "print(seq)\n"
   ]
  }
 ],
 "metadata": {
  "kernelspec": {
   "display_name": "Python 3",
   "language": "python",
   "name": "python3"
  },
  "language_info": {
   "codemirror_mode": {
    "name": "ipython",
    "version": 3
   },
   "file_extension": ".py",
   "mimetype": "text/x-python",
   "name": "python",
   "nbconvert_exporter": "python",
   "pygments_lexer": "ipython3",
   "version": "3.11.0 (main, Oct 24 2022, 18:26:48) [MSC v.1933 64 bit (AMD64)]"
  },
  "vscode": {
   "interpreter": {
    "hash": "10340f3b4385e401792eeb44b8b5edca2cd8c002c17926bde515355c1d6e3c5e"
   }
  }
 },
 "nbformat": 4,
 "nbformat_minor": 0
}
