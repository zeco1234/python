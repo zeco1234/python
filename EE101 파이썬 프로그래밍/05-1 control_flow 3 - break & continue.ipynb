{
 "cells": [
  {
   "attachments": {},
   "cell_type": "markdown",
   "metadata": {
    "collapsed": false
   },
   "source": [
    "## `break` 문\n",
    "\n",
    "> 루프 실행 도중 중간에서 루프를 탈출할 때 `break` 문을 사용힌디.\n",
    ">\n",
    "> `break`로 루프를 탈출하는 경우에는 `for`나 `while`의 `else` clause를 실햏하지 않는다.\n",
    "\n",
    "Example (save as `break.py`):\n"
   ]
  },
  {
   "cell_type": "code",
   "execution_count": 2,
   "metadata": {
    "collapsed": false
   },
   "outputs": [
    {
     "name": "stdout",
     "output_type": "stream",
     "text": [
      "Done: while\n",
      "Done: while\n",
      "Done: while\n",
      "Done: for\n",
      "end of program\n"
     ]
    }
   ],
   "source": [
    "for i in range(3):\n",
    "    while True:\n",
    "        s = input('Enter something : ')\n",
    "        if s == 'quit' or s == 'q':\n",
    "            break\n",
    "        print('Length of the string is', len(s))\n",
    "    print('Done: while')\n",
    "else:\n",
    "    print('Done: for')\n",
    "\n",
    "print('end of program')"
   ]
  },
  {
   "attachments": {},
   "cell_type": "markdown",
   "metadata": {
    "collapsed": false
   },
   "source": [
    "**How It Works**\n",
    "\n",
    ">1. 사용자로부터 입력받은 스트링이 `'quit'` 이거나 `'q'`이면 루프를 탈출한다.\n",
    ">2. 내장 함수 `len()`은 시퀀스의 item 개수를 반환하는 함수이다. 문자열의 경우에는 문자열의 길이를 반환한다.\n",
    ">3. `break`는 가장 가까운 위치의 루프(여기서는 `while` 루프)를 탈출한다.\n"
   ]
  },
  {
   "cell_type": "markdown",
   "metadata": {
    "collapsed": false
   },
   "source": [
    "**Swaroop's Poetic Python**\n",
    "\n",
    "The input I have used here is a mini poem I have written:\n",
    "\n",
    "```\n",
    "Programming is fun\n",
    "When the work is done\n",
    "if you wanna make your work also fun:\n",
    "    use Python!\n",
    "```"
   ]
  },
  {
   "attachments": {},
   "cell_type": "markdown",
   "metadata": {
    "collapsed": false
   },
   "source": [
    "## `continue` 문\n",
    "\n",
    "> 루프 실행 도중에 `continue` 문을 만나면 현재 루프 블록의 나머지 문장들을 건너뛰고 다음 반복으로 진행한다.\n",
    "\n",
    "Example (save as `continue.py`):\n"
   ]
  },
  {
   "cell_type": "code",
   "execution_count": null,
   "metadata": {
    "collapsed": false
   },
   "outputs": [],
   "source": [
    "while True:\n",
    "    s = input('Enter something : ')\n",
    "    if s == 'quit':\n",
    "        break\n",
    "    if len(s) < 3:\n",
    "        print('Too small')\n",
    "        continue\n",
    "    print('Input is of sufficient length')\n",
    "    # Do other kinds of processing here...\n"
   ]
  },
  {
   "attachments": {},
   "cell_type": "markdown",
   "metadata": {
    "collapsed": false
   },
   "source": [
    "**How It Works**\n",
    "\n",
    ">1. 사용자로부터 입력받은 스트링이 `'quit'` 이거나 `'q'`이면 루프를 탈출한다.\n",
    ">2. 내장 함수 `len()`은 시퀀스의 item 개수를 반환하는 함수이다. 문자열의 경우에는 문자열의 길이를 반환한다.\n",
    ">3. 문자열의 길이가 3보다 작으면 'Too small'이라고 메시지를 출력하고, 다음 반복으로 전행한다. ('sufficient length` 메시지를 건너뛴다)\n"
   ]
  },
  {
   "attachments": {},
   "cell_type": "markdown",
   "metadata": {
    "collapsed": false
   },
   "source": [
    "## 실습\n",
    "\n",
    "[1] 0이 입력될 때까지 임의의 개수의 정수들을 입력 받아 마지막 0을 제외한 수들의 최소공배수를 구하는 프로그램을 작성하라. \n",
    "\n",
    "(Ex. 3 4 5 2 0 -> 60   /  3 4 5 6 0 -> 60)\n"
   ]
  },
  {
   "cell_type": "code",
   "execution_count": 5,
   "metadata": {},
   "outputs": [
    {
     "name": "stdout",
     "output_type": "stream",
     "text": [
      "lcm(2) = 3\n"
     ]
    }
   ],
   "source": [
    "import math\n",
    "\n",
    "# 데이터를 리스트에 저장하는 프로그램\n",
    "data = []\n",
    "while True:  # 무한 루프\n",
    "    a = int(input('정수 : '))\n",
    "    if a == 0: # 0이 입력되면, 리스트 작성을 마치고 루프를 빠져나온다.\n",
    "        break\n",
    "    # 리스트에 아이템을 추가한다.\n",
    "    data.append(a)\n",
    "\n",
    "l = math.lcm(*data)\n",
    "\n",
    "print('lcm({}) = {}'.format(data,l))\n"
   ]
  },
  {
   "cell_type": "markdown",
   "metadata": {
    "collapsed": false
   },
   "source": [
    "[2] 0이 입력될 때까지 임의의 개수의 정수들을 입력 받아 입력된 양수들의 개수와 평균을 출력하는 프로그램을 작성하시오. \n",
    "\n",
    "(Ex. 3 -4 5 -2 0 -> 2 4 / 3 4 -5 -6 0 -> 2 3.5)\n"
   ]
  },
  {
   "cell_type": "code",
   "execution_count": 6,
   "metadata": {},
   "outputs": [
    {
     "name": "stdout",
     "output_type": "stream",
     "text": [
      "4 개 양수의 평균은 0.5\n"
     ]
    }
   ],
   "source": [
    "# 데이터를 리스트에 저장하는 프로그램\n",
    "data = []\n",
    "while True:  # 무한 루프\n",
    "    a = int(input('정수 : '))\n",
    "    if a == 0: # 0이 입력되면, 리스트 작성을 마치고 루프를 빠져나온다.\n",
    "        break\n",
    "    # 리스트에 아이템을 추가한다.\n",
    "    data.append(a)\n",
    "\n",
    "print('{} 개 양수의 평균은 {:g}'.format(len(data),sum(data)/len(data)))"
   ]
  },
  {
   "cell_type": "markdown",
   "metadata": {},
   "source": [
    "[3] 0이 입력될 때까지 임의의 개수의 정수들을 입력 받아 마지막 0을 제외한 숫자들 중에서 10에 가장 가까운 숫자를 출력하는 프로그램을 작성하시오. 단 10에 가장 가까운 숫자가 여럿일 경우에는 더 늦게 입력된 숫자를 출력하시오. \n",
    "\n",
    "(Ex. 3 -5 0 -> 3 / 1 2 9 11 8 0 -> 11 )\n"
   ]
  },
  {
   "cell_type": "code",
   "execution_count": 7,
   "metadata": {},
   "outputs": [
    {
     "name": "stdout",
     "output_type": "stream",
     "text": [
      "10에 가장 가까운 수중에서 가장 최근에 입력된 수는 3\n"
     ]
    }
   ],
   "source": [
    "# 데이터를 리스트에 저장하는 프로그램\n",
    "data = []\n",
    "while True:  # 무한 루프\n",
    "    a = int(input('정수 : '))\n",
    "    if a == 0: # 0이 입력되면, 리스트 작성을 마치고 루프를 빠져나온다.\n",
    "        break\n",
    "    # 리스트에 아이템을 추가한다.\n",
    "    data.append(a)\n",
    "\n",
    "ans = data[0] # 첫 번째 입력 정수가 답이라고 가정한다.\n",
    "for a in data[1:]:\n",
    "    if abs(a-10) <= abs(ans-10):  # '등호'를 포함하면, 저장된 답과 새로운 입력이 10에 이르는 거리가 서로 같은 경우 답을 새 입력으로 갱신\n",
    "        ans = a\n",
    "\n",
    "print(f'10에 가장 가까운 수중에서 가장 최근에 입력된 수는 {ans}')"
   ]
  },
  {
   "cell_type": "markdown",
   "metadata": {},
   "source": [
    "[4] 0이 입력될 때까지 임의의 개수의 정수들을 입력 받아 마지막 0을 제외한 숫자들 중에서 그 절대값이 10에 가장 가까운 숫자를 출력하는 프로그램을 작성하시오. 단 10에 가장 가까운 숫자가 여럿일 경우에는 가장 먼저 입력된 숫자를 출력하시오. \n",
    "\n",
    "(Ex. 3 -5 0 -> -5 / 1 2 -9 11 8 0 -> -9 )\n"
   ]
  },
  {
   "cell_type": "code",
   "execution_count": 8,
   "metadata": {},
   "outputs": [
    {
     "name": "stdout",
     "output_type": "stream",
     "text": [
      "절대값이 10에 가장 가까운 수중에서 가장 먼저 입력된 수는 -9\n"
     ]
    }
   ],
   "source": [
    "# 데이터를 리스트에 저장하는 프로그램\n",
    "data = []\n",
    "while True:  # 무한 루프\n",
    "    a = int(input('정수 : '))\n",
    "    if a == 0: # 0이 입력되면, 리스트 작성을 마치고 루프를 빠져나온다.\n",
    "        break\n",
    "    # 리스트에 아이템을 추가한다.\n",
    "    data.append(a)\n",
    "\n",
    "ans = data[0]\n",
    "for a in data[1:]:\n",
    "    if abs(abs(a)-10) < abs(abs(ans)-10): # '등호'를 포함하지 않으면, 저장된 답과 새로운 입력의 절대값들이 10에 이르는 거리가 서로 같은 경우, 기존의 답을 유지\n",
    "        ans = a\n",
    "\n",
    "print(f'절대값이 10에 가장 가까운 수중에서 가장 먼저 입력된 수는 {ans}')"
   ]
  },
  {
   "cell_type": "markdown",
   "metadata": {},
   "source": [
    "[5] 0이 입력될 때까지 세 개 이상의 임의의 개수의 정수들을 입력 받아 마지막 0을 제외한 숫자들 중에서 최소값 1개와 최대값 1개를 제외한 나머지 숫자들의 평균을 구하는 프로그램을 작성하시오. \n",
    "\n",
    "(Ex. 1 2 3 4 0 -> 2.5 / 1 2 3 4 6 0 -> 3)\n"
   ]
  },
  {
   "cell_type": "code",
   "execution_count": 9,
   "metadata": {
    "collapsed": false
   },
   "outputs": [
    {
     "name": "stdout",
     "output_type": "stream",
     "text": [
      "[1, 2, 3, 4, 5, 6]\n",
      "최대값과 최소값을 제외한 수의 평균은 3.5\n"
     ]
    }
   ],
   "source": [
    "# 데이터를 리스트에 저장하는 프로그램\n",
    "data = []\n",
    "while True:  # 무한 루프\n",
    "    a = int(input('정수 : '))\n",
    "    if a == 0: # 0이 입력되면, 리스트 작성을 마치고 루프를 빠져나온다.\n",
    "        break\n",
    "    # 리스트에 아이템을 추가한다.\n",
    "    data.append(a)\n",
    "\n",
    "print(data)\n",
    "\n",
    "avg = (sum(data)-max(data)-min(data))/(len(data)-2) # 최대값과 최소값을 제외한 수의 평균\n",
    "\n",
    "print(f'최대값과 최소값을 제외한 수의 평균은 {avg:g}')"
   ]
  }
 ],
 "metadata": {
  "kernelspec": {
   "display_name": "Python 3",
   "language": "python",
   "name": "python3"
  },
  "language_info": {
   "codemirror_mode": {
    "name": "ipython",
    "version": 3
   },
   "file_extension": ".py",
   "mimetype": "text/x-python",
   "name": "python",
   "nbconvert_exporter": "python",
   "pygments_lexer": "ipython3",
   "version": "3.11.0"
  },
  "vscode": {
   "interpreter": {
    "hash": "10340f3b4385e401792eeb44b8b5edca2cd8c002c17926bde515355c1d6e3c5e"
   }
  }
 },
 "nbformat": 4,
 "nbformat_minor": 0
}
