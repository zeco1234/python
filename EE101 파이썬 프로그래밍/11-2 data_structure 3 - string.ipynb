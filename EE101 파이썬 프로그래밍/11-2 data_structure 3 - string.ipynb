{
 "cells": [
  {
   "attachments": {},
   "cell_type": "markdown",
   "metadata": {
    "collapsed": false
   },
   "source": [
    "## 문자열 (Strings) 심화 \n",
    "\n",
    "#### 1) 문자열 (String) 사용 규칙\n",
    "- 따옴표로 감싸진 텍스트\n",
    "- 텍스트 두개를 더하면 문자열이 이어 붙여짐\n",
    "- 텍스트는 더하기만 가능하고, 빼기(-)등 다른 계산은 불가능\n",
    "- 리스트와 동일한 방식으로 indexing과 slicing을 통해 개별 요소나 부분을 읽어오기는 가능하나, 그 내용을 수정할 수는 없다(**immutable** object).\n",
    "- 문자열 메소드(string method)들은 이용해서 원래의 string으로부터 새로운 string을 생성하는 것은 가능하다.\n",
    "\n",
    "\n",
    "문자열은 `str` class의 객체(object)이다. \n",
    "\n",
    "* `format` 메서드\n",
    "\n",
    "see `help(str)`.\n",
    "\n",
    "Example (save as `ds_str_methods.py`):\n",
    "\n"
   ]
  },
  {
   "cell_type": "code",
   "execution_count": 4,
   "metadata": {
    "collapsed": false
   },
   "outputs": [
    {
     "name": "stdout",
     "output_type": "stream",
     "text": [
      "<class 'str'>\n"
     ]
    }
   ],
   "source": [
    "# This is a string object\n",
    "name = 'swaroop'\n",
    "\n",
    "print(type(name))"
   ]
  },
  {
   "cell_type": "code",
   "execution_count": 5,
   "metadata": {},
   "outputs": [
    {
     "name": "stdout",
     "output_type": "stream",
     "text": [
      "['__add__', '__class__', '__contains__', '__delattr__', '__dir__', '__doc__', '__eq__', '__format__', '__ge__', '__getattribute__', '__getitem__', '__getnewargs__', '__getstate__', '__gt__', '__hash__', '__init__', '__init_subclass__', '__iter__', '__le__', '__len__', '__lt__', '__mod__', '__mul__', '__ne__', '__new__', '__reduce__', '__reduce_ex__', '__repr__', '__rmod__', '__rmul__', '__setattr__', '__sizeof__', '__str__', '__subclasshook__', 'capitalize', 'casefold', 'center', 'count', 'encode', 'endswith', 'expandtabs', 'find', 'format', 'format_map', 'index', 'isalnum', 'isalpha', 'isascii', 'isdecimal', 'isdigit', 'isidentifier', 'islower', 'isnumeric', 'isprintable', 'isspace', 'istitle', 'isupper', 'join', 'ljust', 'lower', 'lstrip', 'maketrans', 'partition', 'removeprefix', 'removesuffix', 'replace', 'rfind', 'rindex', 'rjust', 'rpartition', 'rsplit', 'rstrip', 'split', 'splitlines', 'startswith', 'strip', 'swapcase', 'title', 'translate', 'upper', 'zfill']\n"
     ]
    }
   ],
   "source": [
    "print(dir(str))"
   ]
  },
  {
   "cell_type": "code",
   "execution_count": 8,
   "metadata": {},
   "outputs": [
    {
     "name": "stdout",
     "output_type": "stream",
     "text": [
      "Swaroop\n",
      "swaroop\n",
      "Swaroop\n"
     ]
    }
   ],
   "source": [
    "print(name.capitalize())\n",
    "\n",
    "print(name)\n",
    "name = name.capitalize()\n",
    "print(name)"
   ]
  },
  {
   "cell_type": "code",
   "execution_count": 9,
   "metadata": {},
   "outputs": [
    {
     "name": "stdout",
     "output_type": "stream",
     "text": [
      "Yes, the string starts with \"Swa\"\n",
      "Yes, it contains the string \"a\"\n",
      "Yes, it contains the string \"war\"\n",
      "Brazil_*_Russia_*_India_*_China\n"
     ]
    }
   ],
   "source": [
    "if name.startswith('Swa'):\n",
    "    print('Yes, the string starts with \"Swa\"')\n",
    "\n",
    "if 'a' in name:\n",
    "    print('Yes, it contains the string \"a\"')\n",
    "\n",
    "if name.find('war') != -1:\n",
    "    print('Yes, it contains the string \"war\"')\n",
    "\n",
    "delimiter = '_*_'\n",
    "mylist = ['Brazil', 'Russia', 'India', 'China']\n",
    "print(delimiter.join(mylist))"
   ]
  },
  {
   "attachments": {},
   "cell_type": "markdown",
   "metadata": {
    "collapsed": false
   },
   "source": [
    "**How It Works**\n",
    "\n",
    ">1. `startswith` 메서드: to find out whether the string starts with the given string. \n",
    ">2. `in` 연산자: used to check if a given string is a part of the string.\n",
    ">3. `find` 메서드: to locate the position of the given substring within the string; `find` returns -1 if it is unsuccessful in finding the substring. \n",
    ">4. `join` 메서드: the items of a sequence with the string acting as a delimiter between each item of the sequence and returns a bigger string generated from this.\n"
   ]
  },
  {
   "attachments": {},
   "cell_type": "markdown",
   "metadata": {
    "collapsed": false
   },
   "source": [
    "#### 2) String formatting\n",
    "\n",
    "(1) Method1\n",
    ">- 문자열에 **%** 와 형식지정자를 사용해서 대체할 데이터의 삽입 위치 지정\n",
    ">- 문자열 끝에 **%** 기호와 데체할 데이터 튜플을 붙여준다.\n",
    "\n",
    "(2) Method2\n",
    ">- 문자열의 대괄호 자리에 **format** 뒤의 괄호안에 들어있는 값을 하나씩 넣는다\n",
    ">- 문자열에 포함된 대괄호 개수 보다 format안에 들어 있는 값의 수가 많으면 정상 동작\n",
    ">- 문자열에 포함된 대괄호 개수 보다 format안에 들어 있는 값의 수가 적으면 오류"
   ]
  },
  {
   "cell_type": "code",
   "execution_count": 2,
   "metadata": {
    "collapsed": false
   },
   "outputs": [
    {
     "name": "stdout",
     "output_type": "stream",
     "text": [
      "An integer: 1 ; a float: 0.1 ; another string: string \n",
      "processing_of_dataset_102.txt\n",
      "processing_of_dataset_102.txt\n"
     ]
    }
   ],
   "source": [
    "print('An integer: %i ; a float: %g ; another string: %s ' % (1, 0.1, 'string') )\n",
    "i = 102\n",
    "filename = 'processing_of_dataset_%d.txt' % i\n",
    "print(filename)\n",
    "filename2 = 'processing_of_dataset_{}.txt'.format(i)\n",
    "print(filename)"
   ]
  },
  {
   "cell_type": "code",
   "execution_count": null,
   "metadata": {
    "collapsed": false
   },
   "outputs": [],
   "source": [
    "base = '{} 번 손님 {}' # 20 번 손님 환영합니다\n",
    "number = 20\n",
    "welcome = '환영합니다'\n",
    "sentence = base.format(number, welcome)\n",
    "print('%i 번 손님 %s' % (number, welcome))\n",
    "print(number,'번 손님',welcome)\n",
    "print(base.format(number,welcome))\n",
    "print('{} 번 손님 {}'.format(number,welcome))\n",
    "print(sentence)"
   ]
  }
 ],
 "metadata": {
  "kernelspec": {
   "display_name": "Python 3",
   "language": "python",
   "name": "python3"
  },
  "language_info": {
   "codemirror_mode": {
    "name": "ipython",
    "version": 3
   },
   "file_extension": ".py",
   "mimetype": "text/x-python",
   "name": "python",
   "nbconvert_exporter": "python",
   "pygments_lexer": "ipython3",
   "version": "3.11.0"
  },
  "vscode": {
   "interpreter": {
    "hash": "0b2bdffbbf57437aa6140432692de430db1972ffcbbe1f064b3d962bd2c25975"
   }
  }
 },
 "nbformat": 4,
 "nbformat_minor": 0
}
