{
 "cells": [
  {
   "attachments": {},
   "cell_type": "markdown",
   "metadata": {
    "collapsed": false
   },
   "source": [
    "# 스크립트 (Script)\n",
    "\n",
    "명령어 시퀀스들로 구성된 파일을 미리 작성한 다음, 파일을 호출할 때마다 명령어들을 실행시키는 방법\n",
    "\n",
    "스크립트 파일의 확장자는 `*.py`\n",
    "\n",
    "실행 방법: 예를 들어 script file 이름이 file.py일 때, cmd shell에서 `python file.py`라고 입력하고 실행시킨다.\n"
   ]
  },
  {
   "attachments": {},
   "cell_type": "markdown",
   "metadata": {
    "collapsed": false
   },
   "source": [
    "# 모듈 (Modules)\n",
    "\n",
    "미리 만들어진 코드(함수)를 가져와서 재사용하는 방법\n",
    "\n",
    "모듈 파일의 확장자도 `*.py`\n",
    "\n",
    "import `모듈이름`\n",
    "\n",
    "사용 방법: 모듈이름`.`모듈안의 구성요소  예) math.pi numpy.random.randint()\n",
    "\n",
    "**주요 모듈**\n",
    "- math : 해석학 함수들\n",
    "- numpy : 행렬 처리\n",
    "\n",
    "Example (save as `module_using_sys.py`):\n"
   ]
  },
  {
   "cell_type": "code",
   "execution_count": null,
   "metadata": {
    "collapsed": false
   },
   "outputs": [],
   "source": [
    "import sys\n",
    "\n",
    "print('The command line arguments are:')\n",
    "for i in sys.argv:\n",
    "    print(i)\n",
    "\n",
    "print('\\n\\nThe PYTHONPATH is', sys.path, '\\n')\n"
   ]
  },
  {
   "cell_type": "markdown",
   "metadata": {
    "collapsed": false
   },
   "source": [
    "**How It Works**\n",
    "\n",
    "First, we *import* the `sys` module using the `import` statement. Basically, this translates to us telling Python that we want to use this module. The `sys` module contains functionality related to the Python interpreter and its environment i.e. the **sys**tem.\n",
    "\n",
    "When Python executes the `import sys` statement, it looks for the `sys` module. In this case, it is one of the built-in modules, and hence Python knows where to find it.\n",
    "\n",
    "If it was not a compiled module i.e. a module written in Python, then the Python interpreter will search for it in the directories listed in its `sys.path` variable. If the module is found, then the statements in the body of that module are run and the module is made *available* for you to use. Note that the initialization is done only the *first* time that we import a module.\n",
    "\n",
    "The `argv` variable in the `sys` module is accessed using the dotted notation i.e. `sys.argv`. It clearly indicates that this name is part of the `sys` module. Another advantage of this approach is that the name does not clash with any `argv` variable used in your program.\n",
    "\n",
    "The `sys.argv` variable is a *list* of strings (lists are explained in detail in a [later chapter](./data_structures.md#data-structures)). Specifically, the `sys.argv` contains the list of *command line arguments* i.e. the arguments passed to your program using the command line.\n",
    "\n",
    "If you are using an IDE to write and run these programs, look for a way to specify command line arguments to the program in the menus.\n",
    "\n",
    "Here, when we execute `python module_using_sys.py we are arguments`, we run the module `module_using_sys.py` with the `python` command and the other things that follow are arguments passed to the program. Python stores the command line arguments in the `sys.argv` variable for us to use.\n",
    "\n",
    "Remember, the name of the script running is always the first element in the `sys.argv` list. So, in this case we will have `'module_using_sys.py'` as `sys.argv[0]`, `'we'` as `sys.argv[1]`, `'are'` as `sys.argv[2]` and `'arguments'` as `sys.argv[3]`. Notice that Python starts counting from 0 and not 1.\n",
    "\n",
    "The `sys.path` contains the list of directory names where modules are imported from. Observe that the first string in `sys.path` is empty - this empty string indicates that the current directory is also part of the `sys.path` which is same as the `PYTHONPATH` environment variable. This means that you can directly import modules located in the current directory. Otherwise, you will have to place your module in one of the directories listed in `sys.path`.\n",
    "\n",
    "Note that the current directory is the directory from which the program is launched. \n",
    "\n",
    "Run `import os; print(os.getcwd())` to find out the current directory of your program.\n"
   ]
  },
  {
   "cell_type": "code",
   "execution_count": null,
   "metadata": {
    "collapsed": false
   },
   "outputs": [],
   "source": [
    "import os\n",
    "\n",
    "print(os.getcwd())"
   ]
  },
  {
   "cell_type": "markdown",
   "metadata": {
    "collapsed": false
   },
   "source": [
    "## Byte-compiled .pyc files {#pyc}\n",
    "\n",
    "Importing a module is a relatively costly affair, so Python does some tricks to make it faster. One way is to create *byte-compiled* files with the extension `.pyc` which is an intermediate form that Python transforms the program into (remember the [introduction section](./about_python.md#interpreted) on how Python works?). This `.pyc` file is useful when you import the module the next time from a different program - it will be much faster since a portion of the processing required in importing a module is already done. Also, these byte-compiled files are platform-independent.\n",
    "\n",
    "NOTE: These `.pyc` files are usually created in the same directory as the corresponding `.py` files. If Python does not have permission to write to files in that directory, then the `.pyc` files will _not_ be created.\n"
   ]
  },
  {
   "attachments": {},
   "cell_type": "markdown",
   "metadata": {
    "collapsed": false
   },
   "source": [
    "## The from..import statement \n",
    "\n",
    "If you want to directly import the `argv` variable into your program (to avoid typing the `sys.` everytime for it), then you can use the `from sys import argv` statement.\n",
    "\n",
    "> WARNING: In general, *avoid* using the `from..import` statement, use the `import` statement instead. This is because your program will avoid name clashes and will be more readable.\n",
    "\n",
    "Example: (Not-preferred)\n"
   ]
  },
  {
   "cell_type": "code",
   "execution_count": null,
   "metadata": {
    "collapsed": false
   },
   "outputs": [],
   "source": [
    "from math import sqrt\n",
    "print(\"Square root of 16 is\", sqrt(16))"
   ]
  },
  {
   "cell_type": "markdown",
   "metadata": {
    "collapsed": false
   },
   "source": [
    "## A module's `__name__` {#module-name}\n",
    "\n",
    "Every module has a name and statements in a module can find out the name of their module. This is handy for the particular purpose of figuring out whether the module is being run standalone or being imported. As mentioned previously, when a module is imported for the first time, the code it contains gets executed. We can use this to make the module behave in different ways depending on whether it is being used by itself or being imported from another module. This can be achieved using the `__name__` attribute of the module.\n",
    "\n",
    "Example (save as `module_using_name.py`):\n"
   ]
  },
  {
   "cell_type": "code",
   "execution_count": null,
   "metadata": {
    "collapsed": false
   },
   "outputs": [],
   "source": [
    "if __name__ == '__main__':\n",
    "    print('This program is being run by itself')\n",
    "else:\n",
    "    print('I am being imported from another module')"
   ]
  },
  {
   "cell_type": "markdown",
   "metadata": {
    "collapsed": false
   },
   "source": [
    "**How It Works**\n",
    "\n",
    "Every Python module has its `__name__` defined. If this is `'__main__'`, that implies that the module is being run standalone by the user and we can take appropriate actions.\n"
   ]
  },
  {
   "attachments": {},
   "cell_type": "markdown",
   "metadata": {},
   "source": [
    "## 실습\n",
    "[1] math를 import한 후, math 모듈에 포함된 함수들이 어떤 것이 있는지 알아보라."
   ]
  },
  {
   "cell_type": "code",
   "execution_count": 17,
   "metadata": {},
   "outputs": [
    {
     "name": "stdout",
     "output_type": "stream",
     "text": [
      "math\n",
      "['__doc__', '__loader__', '__name__', '__package__', '__spec__', 'acos', 'acosh', 'asin', 'asinh', 'atan', 'atan2', 'atanh', 'cbrt', 'ceil', 'comb', 'copysign', 'cos', 'cosh', 'degrees', 'dist', 'e', 'erf', 'erfc', 'exp', 'exp2', 'expm1', 'fabs', 'factorial', 'floor', 'fmod', 'frexp', 'fsum', 'gamma', 'gcd', 'hypot', 'inf', 'isclose', 'isfinite', 'isinf', 'isnan', 'isqrt', 'lcm', 'ldexp', 'lgamma', 'log', 'log10', 'log1p', 'log2', 'modf', 'nan', 'nextafter', 'perm', 'pi', 'pow', 'prod', 'radians', 'remainder', 'sin', 'sinh', 'sqrt', 'tan', 'tanh', 'tau', 'trunc', 'ulp']\n",
      "2\n",
      "gcd([6, 10]) = 2\n",
      "lcm([6, 10]) = 30\n"
     ]
    }
   ],
   "source": [
    "import math\n",
    "\n",
    "print(math.__name__)\n",
    "print(dir(math))\n",
    "\n",
    "data = []\n",
    "while True:\n",
    "    a = int(input('integer:'))\n",
    "    if a <= 0:\n",
    "        break\n",
    "    data.append(a)\n",
    "\n",
    "print(len(data)) \n",
    "print('gcd({}) = {}'.format(data, math.gcd(*data)))\n",
    "print('lcm({}) = {}'.format(data, math.lcm(*data)))"
   ]
  },
  {
   "cell_type": "code",
   "execution_count": 19,
   "metadata": {},
   "outputs": [
    {
     "name": "stdout",
     "output_type": "stream",
     "text": [
      "Help on built-in function isqrt in module math:\n",
      "\n",
      "isqrt(n, /)\n",
      "    Return the integer part of the square root of the input.\n",
      "\n",
      "2\n"
     ]
    }
   ],
   "source": [
    "help(math.isqrt)\n",
    "\n",
    "print(math.isqrt(5))"
   ]
  },
  {
   "cell_type": "code",
   "execution_count": 25,
   "metadata": {},
   "outputs": [
    {
     "name": "stdout",
     "output_type": "stream",
     "text": [
      "Help on built-in function erfc in module math:\n",
      "\n",
      "erfc(x, /)\n",
      "    Complementary error function at x.\n",
      "\n",
      "0.0 1.0\n",
      "0.8427007929497149 0.1572992070502851\n"
     ]
    }
   ],
   "source": [
    "help(math.erfc)\n",
    "\n",
    "print(math.erf(0), math.erfc(0))\n",
    "print(math.erf(1), math.erfc(1))"
   ]
  },
  {
   "cell_type": "code",
   "execution_count": 27,
   "metadata": {},
   "outputs": [
    {
     "name": "stdout",
     "output_type": "stream",
     "text": [
      "Help on built-in function prod in module math:\n",
      "\n",
      "prod(iterable, /, *, start=1)\n",
      "    Calculate the product of all the elements in the input iterable.\n",
      "    \n",
      "    The default start value for the product is 1.\n",
      "    \n",
      "    When the iterable is empty, return the start value.  This function is\n",
      "    intended specifically for use with numeric values and may reject\n",
      "    non-numeric types.\n",
      "\n"
     ]
    }
   ],
   "source": [
    "help(math.prod)"
   ]
  }
 ],
 "metadata": {
  "kernelspec": {
   "display_name": "Python 3.11.0 64-bit",
   "language": "python",
   "name": "python3"
  },
  "language_info": {
   "codemirror_mode": {
    "name": "ipython",
    "version": 3
   },
   "file_extension": ".py",
   "mimetype": "text/x-python",
   "name": "python",
   "nbconvert_exporter": "python",
   "pygments_lexer": "ipython3",
   "version": "3.11.0 (main, Oct 24 2022, 18:26:48) [MSC v.1933 64 bit (AMD64)]"
  },
  "vscode": {
   "interpreter": {
    "hash": "10340f3b4385e401792eeb44b8b5edca2cd8c002c17926bde515355c1d6e3c5e"
   }
  }
 },
 "nbformat": 4,
 "nbformat_minor": 0
}
