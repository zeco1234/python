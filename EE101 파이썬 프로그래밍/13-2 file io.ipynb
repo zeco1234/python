{
 "cells": [
  {
   "attachments": {},
   "cell_type": "markdown",
   "metadata": {
    "collapsed": false
   },
   "source": [
    "# 입력과 출력 (Input and Output)\n",
    "\n",
    "표준 입출력 함수\n",
    "- `input()`\n",
    "- `print()` \n",
    "\n",
    "파일 읽기와 쓰기\n",
    "\n"
   ]
  },
  {
   "attachments": {},
   "cell_type": "markdown",
   "metadata": {
    "collapsed": false
   },
   "source": [
    "## 표준 입출력\n",
    "\n",
    "Save this program as `io_input.py`:\n"
   ]
  },
  {
   "cell_type": "code",
   "execution_count": 2,
   "metadata": {
    "collapsed": false
   },
   "outputs": [
    {
     "name": "stdout",
     "output_type": "stream",
     "text": [
      "Yes, it is a palindrome\n"
     ]
    }
   ],
   "source": [
    "def reverse(text):\n",
    "    return text[::-1]\n",
    "\n",
    "\n",
    "def is_palindrome(text):\n",
    "    return text == reverse(text)\n",
    "\n",
    "\n",
    "something = input(\"Enter text: \")\n",
    "if is_palindrome(something):\n",
    "    print(\"Yes, it is a palindrome\")\n",
    "else:\n",
    "    print(\"No, it is not a palindrome\")\n"
   ]
  },
  {
   "attachments": {},
   "cell_type": "markdown",
   "metadata": {
    "collapsed": false
   },
   "source": [
    "**How It Works**\n",
    "\n",
    ">1. `input()`: 사용자로부터 문자열 전달인자를 입력받아, 그 내용으로 이루어진 `str` 클래스 객체를 생성해서 반환한다.\n",
    ">2. 두 `str` 객체가 동일한 내용인지는 `==` 연산자를 통해 검사할 수 있다.\n",
    ">3. text[::-1]은 문자열의 문자 순서를 역순으로 뒤집은 문자열\n"
   ]
  },
  {
   "attachments": {},
   "cell_type": "markdown",
   "metadata": {
    "collapsed": false
   },
   "source": [
    "#### Homework exercise\n",
    "\n",
    "> 어떤 텍스트가 palindrome 인지를 판정할 때 구두점, 공란 등은 무시하여야 한다. 또 대소문자를 구분하지 않는다.\n",
    ">\n",
    "> 예를 들어 \"Rise to vote, sir.\" 도 palindrome 이다. \n",
    ">\n",
    "> 그러나, 위의 예제는 이를 반영하지 못하고 있다.\n",
    "> palindrome 인식 프로그램을 수정하라.\n",
    "\n"
   ]
  },
  {
   "cell_type": "code",
   "execution_count": 3,
   "metadata": {},
   "outputs": [
    {
     "name": "stdout",
     "output_type": "stream",
     "text": [
      "Yes, 'Rise to vote,  sir.' is a palindrome\n"
     ]
    }
   ],
   "source": [
    "def is_palindrome(text):\n",
    "    # remove all the deliminators\n",
    "    for t in \".,!?'\\\" \\t\\n\":\n",
    "        text = text.replace(t,'')\n",
    "    # 대소문자 구분을 없앤다.\n",
    "    text = text.casefold()\n",
    "    # 수미상통 조건을 검사한다.\n",
    "    return text == text[::-1]\n",
    "#end of function\n",
    "\n",
    "\n",
    "s = input('str')\n",
    "\n",
    "if is_palindrome(s):\n",
    "    print(f\"Yes, '{s}' is a palindrome\")\n",
    "else:\n",
    "    print(f\"No, '{s}' is not a palindrome\")"
   ]
  },
  {
   "attachments": {},
   "cell_type": "markdown",
   "metadata": {
    "collapsed": false
   },
   "source": [
    "## 파일 (Files)\n",
    "\n",
    "내장 함수 `open()`는 `file` class 객체를 생성한다.\n",
    "\n",
    "`file` class의 메서드\n",
    ">- `close()` 메서드\n",
    ">- `read()`, `readline()`, `write()` 메서드\n",
    "\n",
    "Example (save as `io_using_file.py`):\n"
   ]
  },
  {
   "cell_type": "code",
   "execution_count": 21,
   "metadata": {
    "collapsed": false
   },
   "outputs": [
    {
     "name": "stdout",
     "output_type": "stream",
     "text": [
      "Programming is fun\n",
      "When the work is done\n",
      "if you wanna make your work also fun:\n",
      "    use Python!\n"
     ]
    }
   ],
   "source": [
    "poem = '''\\\n",
    "Programming is fun\n",
    "When the work is done\n",
    "if you wanna make your work also fun:\n",
    "    use Python!\n",
    "'''\n",
    "\n",
    "# Open for 'w'riting\n",
    "f = open('poem.txt', 'w')\n",
    "# Write text to file\n",
    "f.write(poem)\n",
    "# Close the file\n",
    "f.close()\n",
    "\n",
    "# If no mode is specified,\n",
    "# 'r'ead mode is assumed by default\n",
    "f = open('poem.txt')\n",
    "while True:\n",
    "    line = f.readline()\n",
    "    # Zero length indicates EOF\n",
    "    if len(line) == 0:\n",
    "        break\n",
    "    # The `line` already has a newline\n",
    "    # at the end of each line\n",
    "    # since it is reading from a file.\n",
    "    print(line, end='')\n",
    "# close the file\n",
    "f.close()\n"
   ]
  },
  {
   "attachments": {},
   "cell_type": "markdown",
   "metadata": {
    "collapsed": false
   },
   "source": [
    "**How It Works**\n",
    "\n",
    ">1. built-in `open()` 메서드를 이용해서 파일 객체 생성. 함수 호출 시, 파일명과 모드를 설정한다.\n",
    ">- 모드: read mode (`'r'`), write mode (`'w'`) or append mode (`'a'`); text mode (`'t'`) or binary mode (`'b'`). \n",
    ">- 디폴트 모드: 't'ext and 'r'ead mode (`'rt'`)\n",
    ">2. 파일 쓰기를 마친 다음에는 `close()` 메서드를 호출하여 파일로 저장한다\n",
    ">3. 텍스트 모드 읽기 방법은 `readline()`\n",
    ">- 한 줄의 텍스트를 읽고 끝에 `'\\n'` 을 추가하여 반환\n",
    ">- 더 이상 읽을 줄이 없으면 _empty_ 스트링을 반환\n"
   ]
  },
  {
   "attachments": {},
   "cell_type": "markdown",
   "metadata": {
    "collapsed": false
   },
   "source": [
    "## 피클 (Pickle) 모듈\n",
    "\n",
    "임의의 파이썬 객체를 파일로 저장하고, 파일로부터 읽어와 원래의 객체를 복원한다.\n",
    "\n",
    "Example (save as `io_pickle.py`):\n"
   ]
  },
  {
   "cell_type": "code",
   "execution_count": 3,
   "metadata": {
    "collapsed": false
   },
   "outputs": [
    {
     "name": "stdout",
     "output_type": "stream",
     "text": [
      "['apple', 'mango', 'carrot']\n"
     ]
    }
   ],
   "source": [
    "import pickle\n",
    "\n",
    "# The name of the file where we will store the object\n",
    "shoplistfile = 'shoplist.data'\n",
    "# The list of things to buy\n",
    "shoplist = ['apple', 'mango', 'carrot']\n",
    "\n",
    "# Write to the file\n",
    "f = open(shoplistfile, 'wb')\n",
    "# Dump the object to a file\n",
    "pickle.dump(shoplist, f)\n",
    "f.close()\n",
    "\n",
    "# Destroy the shoplist variable\n",
    "del shoplist\n",
    "\n",
    "# Read back from the storage\n",
    "f = open(shoplistfile, 'rb')\n",
    "# Load the object from the file\n",
    "storedlist = pickle.load(f)\n",
    "print(storedlist)\n",
    "f.close()\n"
   ]
  },
  {
   "attachments": {},
   "cell_type": "markdown",
   "metadata": {
    "collapsed": false
   },
   "source": [
    "**How It Works**\n",
    "\n",
    ">1. 어떤 객체를 파일에 저장하고자 하면, 파일을 __w__rite __b__inary 모드로 `open` 한 후에 `pickle.dump` 함수를 사용해서 저장한다. 이 과정을  _pickling_ 이라 한다.\n",
    ">2. `pickle.load` 함수를 호출하면 객체를 복원할 수 있다. 이 과정을 _unpickling_ 이라 한다.\n"
   ]
  },
  {
   "attachments": {},
   "cell_type": "markdown",
   "metadata": {
    "collapsed": false
   },
   "source": [
    "## Unicode and UTF-8 Encoding\n",
    "\n",
    "> 영어와 비영어 문자가 섞여 있는 텍스트는 Unicode로 저장/처리할 수 있다. (Python 3에서는 Unicode가 디폴트)\n",
    ">\n",
    "> NOTE: Python 2인 경우라면 스트링 앞에 `u`를 붙여서 스트링이 `unicode` 유형임을 명시적으로 알려주어야 한다. 예: `u\"hello world\"`\n",
    ">\n",
    "> 데이터를 인터넷을 통해 보내려면, Unicode를 바이트(bytes)로 변환해서 보내야 한다. Unicode를 2 바이트로 변환하는 것을 부호화(encoding)라 한다.\n",
    ">- built-in open() 함수 대신에 `io  모듈`의 `io.open()` 메서드를 이용하여 파일 객체를 생성한다.\n",
    ">- `io.open()` 함수를 호출할 때 `encoding` 키워드 인자를 `UTF-8`로 지정하면, 텍스트를 읽거나 쓸 때 encoding을 수행한다.\n",
    "\n"
   ]
  },
  {
   "cell_type": "code",
   "execution_count": 25,
   "metadata": {
    "collapsed": false
   },
   "outputs": [
    {
     "name": "stdout",
     "output_type": "stream",
     "text": [
      "<class 'str'> hello world\n",
      "<class 'str'> hello world\n"
     ]
    }
   ],
   "source": [
    "s1 = \"hello world\"\n",
    "print(type(s1), s1)\n",
    "s2 = u\"hello world\"\n",
    "print(type(s2), s2)"
   ]
  },
  {
   "cell_type": "code",
   "execution_count": 24,
   "metadata": {
    "collapsed": false
   },
   "outputs": [
    {
     "name": "stdout",
     "output_type": "stream",
     "text": [
      "Imagine non-English language here\n",
      "한글을 읽고 쓴다\n"
     ]
    }
   ],
   "source": [
    "# encoding=utf-8\n",
    "import io\n",
    "\n",
    "f = io.open(\"abc.txt\", \"wt\", encoding=\"utf-8\")\n",
    "f.write(u\"Imagine non-English language here\\n\")\n",
    "f.write(\"한글을 읽고 쓴다\")\n",
    "f.close()\n",
    "\n",
    "text = io.open(\"abc.txt\", encoding=\"utf-8\").read()\n",
    "print(text)\n"
   ]
  },
  {
   "attachments": {},
   "cell_type": "markdown",
   "metadata": {
    "collapsed": false
   },
   "source": [
    "**How It Works**\n",
    "\n",
    ">1. Unicode 상수를 사용하는 프로그램을 작성할 때는 프로그램 상단에 `# encoding=utf-8` 라는 주석을 작성해 두자.\n"
   ]
  }
 ],
 "metadata": {
  "kernelspec": {
   "display_name": "Python 3",
   "language": "python",
   "name": "python3"
  },
  "language_info": {
   "codemirror_mode": {
    "name": "ipython",
    "version": 3
   },
   "file_extension": ".py",
   "mimetype": "text/x-python",
   "name": "python",
   "nbconvert_exporter": "python",
   "pygments_lexer": "ipython3",
   "version": "3.11.0 (main, Oct 24 2022, 18:26:48) [MSC v.1933 64 bit (AMD64)]"
  },
  "vscode": {
   "interpreter": {
    "hash": "0b2bdffbbf57437aa6140432692de430db1972ffcbbe1f064b3d962bd2c25975"
   }
  }
 },
 "nbformat": 4,
 "nbformat_minor": 0
}
