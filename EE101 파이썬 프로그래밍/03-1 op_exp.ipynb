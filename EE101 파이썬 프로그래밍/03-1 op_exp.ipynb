{
 "cells": [
  {
   "attachments": {},
   "cell_type": "markdown",
   "metadata": {
    "collapsed": false
   },
   "source": [
    "# 연산자와 수식 (Operators and Expressions)\n",
    "\n",
    "데이터를 처리하는 프로그램에서 모든 명령문에는 `수식`(_expressions_)(예: `2 + 3`)이 포함되어 있다.\n",
    "\n",
    "수식은 연산자와 피연산자의 결합\n",
    "- 연산자(_Operators_): 특별한 키워드로 표시, 데이터 처리의 규칙. `+`가 연산자\n",
    "- 피연산자(_Operands_): 처리에 사용되는 데이터.  `2`와 `3`이 피연산자"
   ]
  },
  {
   "attachments": {},
   "cell_type": "markdown",
   "metadata": {
    "collapsed": false
   },
   "source": [
    "#### 1) 대입 연산자 (Assignment Operator)\n",
    "\n",
    "- 이름에 값을 결합시키거나 변경 가능가능한 객체의 속성이나 아이템을 수정할 때 사용한다.\n",
    "\n",
    "- 사용법 : `var` `=` `expression`\n"
   ]
  },
  {
   "attachments": {},
   "cell_type": "markdown",
   "metadata": {
    "collapsed": false
   },
   "source": [
    "#### 2) 사칙 연산자과 비트 연산자, 논리 연산자\n",
    "\n",
    "- `+` (plus)\n",
    "    - Adds two objects\n",
    "    - `3 + 5` gives `8`. `'a' + 'b'` gives `'ab'`.\n",
    "\n",
    "- `-` (minus)\n",
    "    - Gives the subtraction of one number from the other; if the first operand is absent it is assumed to be zero.\n",
    "    - `-5.2` gives a negative number and `50 - 24` gives `26`.\n",
    "\n",
    "- `*` (multiply)\n",
    "    - Gives the multiplication of the two numbers or returns the string repeated that many times.\n",
    "    - `2 * 3` gives `6`. `'la' * 3` gives `'lalala'`.\n",
    "\n",
    "- `**` (power)\n",
    "    - Returns x to the power of y\n",
    "    - `3 ** 4` gives `81` (i.e. `3 * 3 * 3 * 3`)\n",
    "\n",
    "- `/` (divide)\n",
    "    - Divide x by y\n",
    "    - `13 / 3` gives `4.333333333333333`\n",
    "\n",
    "- `//` (divide and floor)\n",
    "    - Divide x by y and round the answer _down_ to the nearest integer value. Note that if one of the values is a float, you'll get back a float.\n",
    "    - `13 // 3` gives `4`\n",
    "    - `-13 // 3` gives `-5`\n",
    "    - `9//1.81` gives `4.0`\n",
    "\n",
    "- `%` (modulo)\n",
    "    - Returns the remainder of the division\n",
    "    - `13 % 3` gives `1`. `-25.5 % 2.25` gives `1.5`.\n",
    "\n",
    "- `<<` (left shift)\n",
    "    - Shifts the bits of the number to the left by the number of bits specified. (Each number is represented in memory by bits or binary digits i.e. 0 and 1)\n",
    "    - `2 << 2` gives `8`. `2` is represented by `10` in bits.\n",
    "    - Left shifting by 2 bits gives `1000` which represents the decimal `8`.\n",
    "\n",
    "- `>>` (right shift)\n",
    "    - Shifts the bits of the number to the right by the number of bits specified.\n",
    "    - `11 >> 1` gives `5`.\n",
    "    - `11` is represented in bits by `1011` which when right shifted by 1 bit gives `101`which is the decimal `5`.\n",
    "\n",
    "- `&` (bit-wise AND)\n",
    "    - Bit-wise AND of the numbers: if both bits are `1`, the result is `1`. Otherwise, it's `0`.\n",
    "    - `5 & 3` gives `1` (`0101 & 0011` gives `0001`)\n",
    "\n",
    "- `|` (bit-wise OR)\n",
    "    - Bitwise OR of the numbers: if both bits are `0`, the result is `0`. Otherwise, it's `1`.\n",
    "    - `5 | 3` gives `7` (`0101 | 0011` gives `0111`)\n",
    "\n",
    "- `^` (bit-wise XOR)\n",
    "    - Bitwise XOR of the numbers: if both bits (`1 or 0`) are the same, the result is `0`. Otherwise, it's `1`.\n",
    "    - `5 ^ 3` gives `6` (`O101 ^ 0011` gives `0110`)\n",
    "\n",
    "- `~` (bit-wise invert)\n",
    "    - The bit-wise inversion of x is -(x+1)\n",
    "    - `~5` gives `-6`. More details at http://stackoverflow.com/a/11810203\n",
    "\n",
    "- `<` (less than)\n",
    "    - Returns whether x is less than y. All comparison operators return `True` or `False`. Note the capitalization of these names.\n",
    "    - `5 < 3` gives `False` and `3 < 5` gives `True`.\n",
    "    - Comparisons can be chained arbitrarily: `3 < 5 < 7` gives `True`.\n",
    "\n",
    "- `>` (greater than)\n",
    "    - Returns whether x is greater than y\n",
    "    - `5 > 3` returns `True`. If both operands are numbers, they are first converted to a common type. Otherwise, it always returns `False`.\n",
    "\n",
    "- `<=` (less than or equal to)\n",
    "    - Returns whether x is less than or equal to y\n",
    "    - `x = 3; y = 6; x <= y` returns `True`\n",
    "\n",
    "- `>=` (greater than or equal to)\n",
    "    - Returns whether x is greater than or equal to y\n",
    "    - `x = 4; y = 3; x >= 3` returns `True`\n",
    "\n",
    "- `==` (equal to)\n",
    "    - Compares if the objects are equal\n",
    "    - `x = 2; y = 2; x == y` returns `True`\n",
    "    - `x = 'str'; y = 'stR'; x == y` returns `False`\n",
    "    - `x = 'str'; y = 'str'; x == y` returns `True`\n",
    "\n",
    "- `!=` (not equal to)\n",
    "    - Compares if the objects are not equal\n",
    "    - `x = 2; y = 3; x != y` returns `True`\n",
    "\n",
    "- `not` (boolean NOT)\n",
    "    - If x is `True`, it returns `False`. If x is `False`, it returns `True`.\n",
    "    - `x = True; not x` returns `False`.\n",
    "\n",
    "- `and` (boolean AND)\n",
    "    - `x and y` returns `False` if x is `False`, else it returns evaluation of y\n",
    "    - `x = False; y = True; x and y` returns `False` since x is False. In this case, Python will not evaluate y since it knows that the left hand side of the 'and' expression is `False` which implies that the whole expression will be `False` irrespective of the other values. This is called short-circuit evaluation.\n",
    "\n",
    "- `or` (boolean OR)\n",
    "    - If x is `True`, it returns True, else it returns evaluation of y\n",
    "    - `x = True; y = False; x or y` returns `True`. Short-circuit evaluation applies here as well.\n"
   ]
  },
  {
   "attachments": {},
   "cell_type": "markdown",
   "metadata": {
    "collapsed": false
   },
   "source": [
    "#### 3) 복합 대입 (Shortcut for math operation and assignment)\n",
    "\n",
    "- `var operation= expression`\n",
    "- `var = var operation expression` 에 대한 축약적 표현법\n",
    "- 수학 연산한 결과를 다시 해당 변수에 저장하는 경우에 유용하게 이용\n"
   ]
  },
  {
   "cell_type": "code",
   "execution_count": 4,
   "metadata": {
    "collapsed": false
   },
   "outputs": [
    {
     "name": "stdout",
     "output_type": "stream",
     "text": [
      "6\n"
     ]
    }
   ],
   "source": [
    "a = 2\n",
    "a *= 3\n",
    "print(a)"
   ]
  },
  {
   "attachments": {},
   "cell_type": "markdown",
   "metadata": {
    "collapsed": false
   },
   "source": [
    "#### 4) 연산 우선 순위 (Evaluation Order)\n",
    "\n",
    "> 다음과 같은 우선 순위를 갖는다 (낮은 우선 순위부터 차례대로) \n",
    "\n",
    "- `lambda` : Lambda Expression\n",
    "- `if - else` : Conditional expression\n",
    "- `or` : Boolean OR\n",
    "- `and` : Boolean AND\n",
    "- `not x` : Boolean NOT\n",
    "- `in, not in, is, is not, <, <=, >, >=, !=, ==` : Comparisons, including membership tests and identity tests\n",
    "- `|` : Bitwise OR\n",
    "- `^` : Bitwise XOR\n",
    "- `&` : Bitwise AND\n",
    "- `<<, >>` : Shifts\n",
    "- `+, -` : Addition and subtraction\n",
    "- `*, /, //, %` : Multiplication, Division, Floor Division and Remainder\n",
    "- `+x, -x, ~x` : Positive, Negative, bitwise NOT\n",
    "- `**` : Exponentiation\n",
    "- `x[index], x[index:index], x(arguments...), x.attribute` : Subscription, slicing, call, attribute reference\n",
    "- `(expressions...), [expressions...], {key: value...}, {expressions...}` : Binding or tuple display, list display, dictionary display, set display\n",
    "\n"
   ]
  },
  {
   "attachments": {},
   "cell_type": "markdown",
   "metadata": {
    "collapsed": false
   },
   "source": [
    "#### 5) 연산 순서의 변경\n",
    "\n",
    "> `괄호` 로 둘러싸진 수식을 최우선적으로 계산한다 (괄호를 통한 연산 순서 지정을 권장).\n",
    ">\n",
    "> 같은 우선 순위일 때는 좌에서 우의 순서대로 계산한다."
   ]
  },
  {
   "attachments": {},
   "cell_type": "markdown",
   "metadata": {
    "collapsed": false
   },
   "source": [
    "#### 6) 수식 (Expressions)의 결과\n",
    "\n",
    ">- 수식의 결과는 값(value) (정수, 실수 또는 복소수)\n",
    ">- 수식의 결과 (값)를 다른 변수에 대입하여 저장할 수 있다.\n",
    "\n",
    "Example (save as `expression.py`):\n"
   ]
  },
  {
   "cell_type": "code",
   "execution_count": 8,
   "metadata": {
    "collapsed": false
   },
   "outputs": [
    {
     "name": "stdout",
     "output_type": "stream",
     "text": [
      "Area is 10\n",
      "Perimeter is 14\n"
     ]
    }
   ],
   "source": [
    "length = 5\n",
    "breadth = 2\n",
    "\n",
    "area = length * breadth\n",
    "peri = 2 * (length + breadth)\n",
    "print('Area is', area)\n",
    "print('Perimeter is', peri)"
   ]
  },
  {
   "attachments": {},
   "cell_type": "markdown",
   "metadata": {
    "collapsed": false
   },
   "source": [
    "**How It Works**\n",
    "\n",
    ">1. `length`와 `breadth` 변수에 직사각형의 높이와 폭을 저장한다. \n",
    ">2. 곱셈과 덧셈을 이용해서 면적과 둘레를 계산하여 그 결과값을 각각 `area`와 `peri` 변수에 대입한다.\n",
    ">3. `area`와 `peri`를 읽어와서 `print()` 문을 활용해서 출력한다.\n",
    "> 동일한 결과를 다음과 같이 출력할 수도 있다.\n",
    "```python\n",
    "print('Area is', length * breadth)\n",
    "print('Perimeter is', 2 * (length + breadth))\n",
    "```\n"
   ]
  },
  {
   "attachments": {},
   "cell_type": "markdown",
   "metadata": {
    "collapsed": false
   },
   "source": [
    "## 실습\n",
    "[1] 원화로 된 금액과 환율을 입력하면 잔돈과 함께 몇 달러까지 받을 수 있는 지를 출력하는 프로그램을 작성하시오. 단 원화 금액은 정수, 환율은 실수로 주어지고, 잔돈은 1원 이하 절사하라.\n",
    "\n",
    "(Ex. 3000 1140 -> 2,720   / 1140 1140 -> 1,0   / 4000 1154.25 -> 3,537)\n"
   ]
  },
  {
   "cell_type": "code",
   "execution_count": 6,
   "metadata": {},
   "outputs": [
    {
     "name": "stdout",
     "output_type": "stream",
     "text": [
      "2 dollars + 720 won\n"
     ]
    }
   ],
   "source": [
    "won = int(input('원화 금액'))  # 환전하고자 하는 원화 금액 입력\n",
    "exchangeRate = float(input('환율(달러 당 원)'))  # 환율 입력\n",
    "\n",
    "# 다음 built-in 함수를 대체할 프로그램을 작성하라.\n",
    "dollar, change = divmod(won, exchangeRate)\n",
    "\n",
    "print('{} dollars + {} won'.format(int(dollar), int(change)))"
   ]
  },
  {
   "cell_type": "markdown",
   "metadata": {},
   "source": [
    "[2] 월급과 기간(y년 m개월)을 입력하면 그 기간 동안에 받은 총 수입을 계산하는 프로그램을 작성하시오. \n",
    "\n",
    "(Ex. 1000 2 4 -> 28000)\n",
    "\n"
   ]
  },
  {
   "cell_type": "code",
   "execution_count": 8,
   "metadata": {},
   "outputs": [
    {
     "name": "stdout",
     "output_type": "stream",
     "text": [
      "총 수입 = 28000 원\n"
     ]
    }
   ],
   "source": [
    "sallery = int(input('sallery'))\n",
    "years = int(input('years'))\n",
    "months = int(input('months'))\n",
    "\n",
    "earning = sallery*(months + years*12)\n",
    "\n",
    "print('총 수입 = {} 원'.format(earning))"
   ]
  },
  {
   "cell_type": "markdown",
   "metadata": {},
   "source": [
    "[3] 시간을 시, 분, 초로 입력하면 모두 몇 초인지를 계산하여 출력하는 프로그램을 작성하시오. \n",
    "\n",
    "(Ex. 2 46 40 -> 10000)\n",
    "\n"
   ]
  },
  {
   "cell_type": "code",
   "execution_count": 9,
   "metadata": {},
   "outputs": [
    {
     "name": "stdout",
     "output_type": "stream",
     "text": [
      "2 시간 46 분 40초는 총 10000 초에 해당된다\n"
     ]
    }
   ],
   "source": [
    "h = int(input('hours'))\n",
    "m = int(input('minutes'))\n",
    "s = int(input('seconds'))\n",
    "\n",
    "secs = s + 60*(m + 60*h)\n",
    "print('{} 시간 {} 분 {}초는 총 {} 초에 해당된다'.format(h,m,s,secs))"
   ]
  },
  {
   "cell_type": "markdown",
   "metadata": {},
   "source": [
    "[4] 속도를 시속(km/h)으로 입력하면 초속(m/s)으로 바꾸어 출력하는 프로그램을 작성하시오. 단 시속은 정수로 주어진다. \n",
    "\n",
    "(Ex. 12 -> 3.33333 / 36 -> 10)\n",
    "\n"
   ]
  },
  {
   "cell_type": "code",
   "execution_count": 11,
   "metadata": {},
   "outputs": [
    {
     "name": "stdout",
     "output_type": "stream",
     "text": [
      "36 kmph is 10 mps\n"
     ]
    }
   ],
   "source": [
    "kmph = int(input('km/h'))\n",
    "\n",
    "mps = kmph * 1000/3600\n",
    "\n",
    "print('{} kmph is {:g} mps'.format(kmph,mps))"
   ]
  },
  {
   "cell_type": "markdown",
   "metadata": {},
   "source": [
    "[5] 화씨 온도를 입력하면 섭씨 온도로 바꾸어 출력하는 프로그램을 작성하시오. 단, C=5/9*(F-32) )이며, 화씨 온도는 정수로 주어진다. \n",
    "\n",
    "(Ex. 86 -> 30 / 100 -> 37.7778)\n",
    "\n"
   ]
  },
  {
   "cell_type": "code",
   "execution_count": 13,
   "metadata": {
    "collapsed": false
   },
   "outputs": [
    {
     "name": "stdout",
     "output_type": "stream",
     "text": [
      "화씨 100도는 섭씨 37.8도\n"
     ]
    }
   ],
   "source": [
    "fer = int(input('화씨 온도'))\n",
    "\n",
    "cel = 5/9*(fer-32)\n",
    "\n",
    "print('화씨 {}도는 섭씨 {:0.1f}도'.format(fer,cel))"
   ]
  }
 ],
 "metadata": {
  "kernelspec": {
   "display_name": "Python 3.11.0 64-bit",
   "language": "python",
   "name": "python3"
  },
  "language_info": {
   "codemirror_mode": {
    "name": "ipython",
    "version": 3
   },
   "file_extension": ".py",
   "mimetype": "text/x-python",
   "name": "python",
   "nbconvert_exporter": "python",
   "pygments_lexer": "ipython3",
   "version": "3.11.0"
  },
  "vscode": {
   "interpreter": {
    "hash": "10340f3b4385e401792eeb44b8b5edca2cd8c002c17926bde515355c1d6e3c5e"
   }
  }
 },
 "nbformat": 4,
 "nbformat_minor": 0
}
