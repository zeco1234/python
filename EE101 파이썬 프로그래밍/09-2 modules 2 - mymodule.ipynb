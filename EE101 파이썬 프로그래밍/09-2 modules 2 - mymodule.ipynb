{
 "cells": [
  {
   "attachments": {},
   "cell_type": "markdown",
   "metadata": {
    "collapsed": false
   },
   "source": [
    "## 모듈 만들기\n",
    "\n",
    "사용할 함수, 메소드 코드를 작성한 모듈 파일을 생성\n",
    "\n",
    "모듈이 쓰일 파일에 import를 사용하여 모듈을 호출\n",
    "\n",
    "사용 방법은 기존의 모듈과 동일\n",
    "\n",
    "주의할 점은 사용자가 만든 모듈과 모듈을 쓸 파일이 같은 폴더에 있어야 한다.\n",
    "\n",
    "Example (save as `mymodule.py`):\n"
   ]
  },
  {
   "cell_type": "code",
   "execution_count": 1,
   "metadata": {
    "collapsed": false
   },
   "outputs": [],
   "source": [
    "def say_hi():\n",
    "    print('Hi, this is mymodule speaking.')\n",
    "\n",
    "__version__ = '0.1'"
   ]
  },
  {
   "attachments": {},
   "cell_type": "markdown",
   "metadata": {
    "collapsed": false
   },
   "source": [
    "> 모듈은 import하는 프로그램과 같은 디렉토리나 sys.path에 존재하는 디렉토리 중의 하나에 있어야 한다.\n",
    "\n",
    "Another module (save as `mymodule_demo.py`):\n"
   ]
  },
  {
   "cell_type": "code",
   "execution_count": 3,
   "metadata": {
    "collapsed": false
   },
   "outputs": [
    {
     "ename": "ModuleNotFoundError",
     "evalue": "No module named 'mymodule'",
     "output_type": "error",
     "traceback": [
      "\u001b[1;31m---------------------------------------------------------------------------\u001b[0m",
      "\u001b[1;31mModuleNotFoundError\u001b[0m                       Traceback (most recent call last)",
      "Cell \u001b[1;32mIn [3], line 1\u001b[0m\n\u001b[1;32m----> 1\u001b[0m \u001b[39mimport\u001b[39;00m \u001b[39mmymodule\u001b[39;00m\n\u001b[0;32m      3\u001b[0m mymodule\u001b[39m.\u001b[39msay_hi()\n\u001b[0;32m      4\u001b[0m \u001b[39mprint\u001b[39m(\u001b[39m'\u001b[39m\u001b[39mVersion\u001b[39m\u001b[39m'\u001b[39m, mymodule\u001b[39m.\u001b[39m__version__)\n",
      "\u001b[1;31mModuleNotFoundError\u001b[0m: No module named 'mymodule'"
     ]
    }
   ],
   "source": [
    "import mymodule\n",
    "\n",
    "mymodule.say_hi()\n",
    "print('Version', mymodule.__version__)"
   ]
  },
  {
   "attachments": {},
   "cell_type": "markdown",
   "metadata": {
    "collapsed": false
   },
   "source": [
    "**How It Works**\n",
    "\n",
    ">1. `programs` 폴더로 이동해서 `mymodule_demo.py`를 열어서 실행하면 위의 오류가 사라진다. \n",
    ">2. subdirectory `programs` 에 존재하는 module을 import 하려면, subdirectory에 empty file `programs\\__init__.py`를 생성해두고, `from...import` 문을 사용한다."
   ]
  },
  {
   "cell_type": "code",
   "execution_count": 8,
   "metadata": {},
   "outputs": [
    {
     "name": "stdout",
     "output_type": "stream",
     "text": [
      "g:\\내 드라이브\\Lecture\\EE101 파이썬 프로그래밍\n",
      "Hi, this is mymodule speaking.\n",
      "Version 0.1\n"
     ]
    }
   ],
   "source": [
    "import os\n",
    "from programs import mymodule\n",
    "\n",
    "print(os.getcwd())\n",
    "\n",
    "mymodule.say_hi()\n",
    "print('Version', mymodule.__version__)"
   ]
  },
  {
   "attachments": {},
   "cell_type": "markdown",
   "metadata": {
    "collapsed": false
   },
   "source": [
    "## 실습\n",
    "\n",
    "[1] 다음과 같은 함수를 포함하는 `mymodule.py` 모듈을 작성하라. \n",
    "1) 어떤 수 x가 소수인지를 판단하는 함수\n",
    "2) 두 수 x,y의 최대공약수를 반환하는 함수\n",
    "3) 두 수 x,y의 최소공배수를 반환하는 함수\n",
    "4) 어떤 수 x를 인수분해하여 인수 리스트와 그 멱급수 리스트를 반환하는 함수\n",
    "\n",
    "Example (save as `using_mymodule.py`):\n",
    "\n",
    "> `mymodule.py` 모듈을 `import`한 후, 사용자로부터 두 수를 입력받아, 그 최대공약수와 최소공배수를 구하고, 그것들을 각각 인수분해한 결과를 출력하라."
   ]
  },
  {
   "cell_type": "code",
   "execution_count": 9,
   "metadata": {},
   "outputs": [
    {
     "name": "stdout",
     "output_type": "stream",
     "text": [
      "programs.mymodule\n",
      "50의 인수분해 := [2, 5]^[1, 2]\n",
      "90의 인수분해 := [2, 3, 5]^[1, 2, 1]\n",
      "50와 90의 최대공약수 10의 인수분해 := [2, 5]^[1, 1]\n",
      "50와 90의 최소공배수 450의 인수분해 := [2, 3, 5]^[1, 2, 2]\n"
     ]
    }
   ],
   "source": [
    "from programs import mymodule as my\n",
    "\n",
    "print(my.__name__)\n",
    "\n",
    "x = int(input('정수 :'))\n",
    "y = int(input('정수 :'))\n",
    "\n",
    "cd = my.gcd(x,y)\n",
    "cm = my.lcm(x,y)\n",
    "xfactor, xpow = my.factor(x)\n",
    "yfactor, ypow = my.factor(y)\n",
    "gcdfactor, gcdpow = my.factor(cd)\n",
    "lcmfactor, lcmpow = my.factor(cm)\n",
    "print('{}의 인수분해 := {}^{}'.format(x,xfactor,xpow))\n",
    "print('{}의 인수분해 := {}^{}'.format(y,yfactor,ypow))\n",
    "print('{}와 {}의 최대공약수 {}의 인수분해 := {}^{}'.format(x,y,cd,gcdfactor,gcdpow))\n",
    "print('{}와 {}의 최소공배수 {}의 인수분해 := {}^{}'.format(x,y,cm,lcmfactor,lcmpow))"
   ]
  },
  {
   "cell_type": "code",
   "execution_count": null,
   "metadata": {
    "collapsed": false
   },
   "outputs": [],
   "source": []
  }
 ],
 "metadata": {
  "kernelspec": {
   "display_name": "Python 3.11.0 64-bit",
   "language": "python",
   "name": "python3"
  },
  "language_info": {
   "codemirror_mode": {
    "name": "ipython",
    "version": 3
   },
   "file_extension": ".py",
   "mimetype": "text/x-python",
   "name": "python",
   "nbconvert_exporter": "python",
   "pygments_lexer": "ipython3",
   "version": "3.11.0"
  },
  "vscode": {
   "interpreter": {
    "hash": "10340f3b4385e401792eeb44b8b5edca2cd8c002c17926bde515355c1d6e3c5e"
   }
  }
 },
 "nbformat": 4,
 "nbformat_minor": 0
}
