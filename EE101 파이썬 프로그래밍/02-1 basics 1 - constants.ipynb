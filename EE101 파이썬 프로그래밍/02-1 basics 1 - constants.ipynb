{
 "cells": [
  {
   "attachments": {},
   "cell_type": "markdown",
   "metadata": {
    "collapsed": false
   },
   "source": [
    "# 프로그램 기본 (Basics)\n",
    "\n",
    "프로그램은 컴퓨터가 입력을 받고, 처리해서, 결과를 얻기 위한 작업지시서\n",
    "\n",
    "데이터(자료)를 다룬다.\n",
    "\n",
    "> 상수 (`constants`) 와  변수 (`variables`)"
   ]
  },
  {
   "attachments": {},
   "cell_type": "markdown",
   "metadata": {
    "collapsed": false
   },
   "source": [
    "## 1) 주석 (Comments)\n",
    "\n",
    "> `#` 기호 오른 쪽부터 라인 끝까지에 쓰인 텍스트\n",
    ">\n",
    "> 프로그램 독자(6개월 후의 당신 자신)에게 제공하는 노트 (프로그램이 무엇을 하고 있는지 쉽게 이해하도록 도와준다.)\n",
    "\n",
    "[*Code tells you how, comments should tell you why*](http://www.codinghorror.com/blog/2006/12/code-tells-you-how-comments-tell-you-why.html)\n",
    "\n"
   ]
  },
  {
   "cell_type": "markdown",
   "metadata": {
    "collapsed": false
   },
   "source": [
    "Use as many useful comments as you can in your program to:\n",
    "\n",
    "- explain assumptions\n",
    "- explain important decisions\n",
    "- explain important details\n",
    "- explain problems you're trying to solve\n",
    "- explain problems you're trying to overcome in your program, etc."
   ]
  },
  {
   "attachments": {},
   "cell_type": "markdown",
   "metadata": {},
   "source": [
    "For example:\n",
    "```python\n",
    "print('hello world') # Note that print is a function\n",
    "```\n",
    "or\n",
    "```python\n",
    "# Note that print is a function\n",
    "print('hello world')\n",
    "```"
   ]
  },
  {
   "attachments": {},
   "cell_type": "markdown",
   "metadata": {
    "collapsed": false
   },
   "source": [
    "## 2) 상수 (Literal Constants)\n",
    "\n",
    "상수는 그 값이 변할 수 없기 때문에 상수\n",
    "\n",
    ">- 수 (number): `5`, `1.23`\n",
    ">- 문자열 (string): `'This is a string'`,`\"It's a string!\"`"
   ]
  },
  {
   "attachments": {},
   "cell_type": "markdown",
   "metadata": {
    "collapsed": false
   },
   "source": [
    "### 2-1) 숫자형 상수(Numbers)\n",
    "\n",
    ">- 정수 (integer): `5`, `-1`\n",
    ">- 실수 (float): `1.23`, `45.6E-7` (=$45.6 \\times 10^{-7}$)\n",
    "\n",
    "> 파이썬에서 `long` 유형은 따로 없다. 모든 정수형은 `int`.\n"
   ]
  },
  {
   "cell_type": "code",
   "execution_count": 6,
   "metadata": {
    "collapsed": false
   },
   "outputs": [
    {
     "name": "stdout",
     "output_type": "stream",
     "text": [
      "2 <class 'int'>\n",
      "['In', 'Out', '_', '__', '___', '__builtin__', '__builtins__', '__doc__', '__loader__', '__name__', '__package__', '__spec__', '__vsc_ipynb_file__', '_dh', '_i', '_i1', '_i2', '_i3', '_i4', '_i5', '_i6', '_ih', '_ii', '_iii', '_oh', 'exit', 'get_ipython', 'open', 'os', 'quit', 'sys']\n",
      "['__abs__', '__add__', '__and__', '__bool__', '__ceil__', '__class__', '__delattr__', '__dir__', '__divmod__', '__doc__', '__eq__', '__float__', '__floor__', '__floordiv__', '__format__', '__ge__', '__getattribute__', '__getnewargs__', '__getstate__', '__gt__', '__hash__', '__index__', '__init__', '__init_subclass__', '__int__', '__invert__', '__le__', '__lshift__', '__lt__', '__mod__', '__mul__', '__ne__', '__neg__', '__new__', '__or__', '__pos__', '__pow__', '__radd__', '__rand__', '__rdivmod__', '__reduce__', '__reduce_ex__', '__repr__', '__rfloordiv__', '__rlshift__', '__rmod__', '__rmul__', '__ror__', '__round__', '__rpow__', '__rrshift__', '__rshift__', '__rsub__', '__rtruediv__', '__rxor__', '__setattr__', '__sizeof__', '__str__', '__sub__', '__subclasshook__', '__truediv__', '__trunc__', '__xor__', 'as_integer_ratio', 'bit_count', 'bit_length', 'conjugate', 'denominator', 'from_bytes', 'imag', 'numerator', 'real', 'to_bytes']\n",
      "(1, 1)\n"
     ]
    }
   ],
   "source": [
    "print(2, type(2))\n",
    "\n",
    "# 문법을 익히려면, dir() 함수에 친해져야 한다.\n",
    "print(dir())\n",
    "print(dir(2)) # print(dir(int)) 도 동일한 결과\n",
    "\n",
    "# built-in function\n",
    "print(divmod(4,3))"
   ]
  },
  {
   "attachments": {},
   "cell_type": "markdown",
   "metadata": {
    "collapsed": false
   },
   "source": [
    "### 2-2) 문자열 (Strings)\n",
    "\n",
    "> string 은 문자의 열(`sequence` of `characters`) \n",
    ">\n",
    ">- Single Quote: `'Quote me on this'`\n",
    ">- Double Quote: `\"What's your name?\"`\n",
    ">- Triple Quote: `'''This is a multi-line string. This is the first line. This is the second line.'''`\n"
   ]
  },
  {
   "cell_type": "code",
   "execution_count": 4,
   "metadata": {
    "collapsed": false
   },
   "outputs": [
    {
     "name": "stdout",
     "output_type": "stream",
     "text": [
      "hello, world!\n",
      "Hello, world!\n",
      "hello, world!\n",
      "hello, world!\n",
      "\"Hello, world!\"\n",
      "\"Hello, world!\"\n"
     ]
    }
   ],
   "source": [
    "print ('hello, world!')\n",
    "print (\"Hello, world!\")\n",
    "print ('hello,', 'world!')\n",
    "print ('hello,'+' world!')\n",
    "print (\"\\\"Hello, world!\\\"\")\n",
    "print('\"Hello, world!\"')"
   ]
  },
  {
   "attachments": {},
   "cell_type": "markdown",
   "metadata": {
    "collapsed": false
   },
   "source": [
    "> 문자열 내부의 문자를 수정할 수 없다. (Strings Are Immutable)\n",
    ">- 한번 만든 문자열은 만들어진 그대로 사용해야 한다.\n",
    ">- 파이썬에는 `char` 자료형이 없다.\n",
    ">- single-quoted strings과 double-quoted strings는 완전히 같다.\n",
    "\n"
   ]
  },
  {
   "attachments": {},
   "cell_type": "markdown",
   "metadata": {},
   "source": [
    "> `format()` 메서드(함수)를 이용하면 다른 부가 정보를 이용해서 문자열을 만들 수 있다\n",
    ">\n",
    ">- Example: `str_format.py`"
   ]
  },
  {
   "cell_type": "code",
   "execution_count": 7,
   "metadata": {
    "collapsed": false
   },
   "outputs": [
    {
     "name": "stdout",
     "output_type": "stream",
     "text": [
      "Swaroop was 20 years old when he wrote this book\n"
     ]
    }
   ],
   "source": [
    "print('{1} was {0} years old when he wrote this book'.format(20, 'Swaroop'))"
   ]
  },
  {
   "attachments": {},
   "cell_type": "markdown",
   "metadata": {},
   "source": [
    "> 두번째 인자(argument)인 `'Swaroop'`가 `{1}`의 위치, 첫번째 인자인 `20`가 `{0}`의 위치를 대체하여 문자열을 완성한다."
   ]
  },
  {
   "cell_type": "code",
   "execution_count": 8,
   "metadata": {},
   "outputs": [
    {
     "name": "stdout",
     "output_type": "stream",
     "text": [
      "Why is Swaroop playing with that python?\n"
     ]
    }
   ],
   "source": [
    "print('Why is {0} playing with that python?'.format('Swaroop'))"
   ]
  },
  {
   "attachments": {},
   "cell_type": "markdown",
   "metadata": {},
   "source": [
    "> `'Swaroop'`가 `{0}`의 위치를 대체하여 문자열을 완성한다."
   ]
  },
  {
   "cell_type": "code",
   "execution_count": 9,
   "metadata": {
    "collapsed": false
   },
   "outputs": [
    {
     "name": "stdout",
     "output_type": "stream",
     "text": [
      "20 was Swaroop years old when he wrote this book\n"
     ]
    }
   ],
   "source": [
    "print('{} was {} years old when he wrote this book'.format(20, 'Swaroop'))\n"
   ]
  },
  {
   "attachments": {},
   "cell_type": "markdown",
   "metadata": {},
   "source": [
    "> 첫번째 인자(argument)인 `'20'`이 첫번째 `{}`를, 두번째 인자인 `Swaroop`가 두번째`{}`를 대체하여 문자열을 완성한다."
   ]
  },
  {
   "attachments": {},
   "cell_type": "markdown",
   "metadata": {
    "collapsed": false
   },
   "source": [
    "> 매개변수(parameters)의 이름을 정해서 사용할 수도 있다"
   ]
  },
  {
   "cell_type": "code",
   "execution_count": 9,
   "metadata": {
    "collapsed": false
   },
   "outputs": [
    {
     "name": "stdout",
     "output_type": "stream",
     "text": [
      "Swaroop was 20 years old when he wrote this book\n",
      "Why is Swaroop playing with that python?\n"
     ]
    }
   ],
   "source": [
    "print('{name} was {age} years old when he wrote this book'.format(name='Swaroop', age=20))\n",
    "print('Why is {name} playing with that python?'.format(name='Swaroop'))"
   ]
  },
  {
   "attachments": {},
   "cell_type": "markdown",
   "metadata": {
    "collapsed": false
   },
   "source": [
    "> `\"f-strings\"`을 사용하면, 미리 정의된 변수들을 이용해서 formatting 할 수 있다."
   ]
  },
  {
   "cell_type": "code",
   "execution_count": 5,
   "metadata": {
    "collapsed": false
   },
   "outputs": [
    {
     "name": "stdout",
     "output_type": "stream",
     "text": [
      "Swaroop was 20 years old when he wrote this book\n",
      "Why is Swaroop playing with that python?\n"
     ]
    }
   ],
   "source": [
    "age = 20\n",
    "name = 'Swaroop'\n",
    "\n",
    "print(f'{name} was {age} years old when he wrote this book')  # notice the 'f' before the string\n",
    "print(f'Why is {name} playing with that python?')  # notice the 'f' before the string"
   ]
  },
  {
   "attachments": {},
   "cell_type": "markdown",
   "metadata": {
    "collapsed": false
   },
   "source": [
    "> 십진수의 소수점 자리수 등을 저세히 지정할 수도 있다\n"
   ]
  },
  {
   "cell_type": "code",
   "execution_count": 10,
   "metadata": {
    "collapsed": false
   },
   "outputs": [
    {
     "name": "stdout",
     "output_type": "stream",
     "text": [
      "0.333\n",
      "__hello__\n",
      "__Swaroop__ wrote A Byte of Python\n"
     ]
    }
   ],
   "source": [
    "# decimal (.) precision of 3 for float '0.333'\n",
    "print('{0:.3f}'.format(1/3))\n",
    "# fill with underscores (_) with the text centered\n",
    "# (^) to 9 width '___hello___'\n",
    "print('{0:_^9}'.format('hello'))\n",
    "# keyword-based 'Swaroop wrote A Byte of Python'\n",
    "print('{name:_^11} wrote {book}'.format(name='Swaroop', book='A Byte of Python'))"
   ]
  },
  {
   "attachments": {},
   "cell_type": "markdown",
   "metadata": {
    "collapsed": false
   },
   "source": [
    "> `print`는 문장 끝에 자동으로(default) \"new line\" character (`\\n`) 를 삽입하여 출력하는 함수이다.\n",
    ">\n",
    "> 문장 끝을 다르게 처리하려면 keyword argument를 이용한다. 즉 `end` 키워드를 이용해서 원하는 처리를 지정해준다.\n",
    "\n"
   ]
  },
  {
   "cell_type": "code",
   "execution_count": 11,
   "metadata": {
    "collapsed": false
   },
   "outputs": [
    {
     "name": "stdout",
     "output_type": "stream",
     "text": [
      "ab c\n"
     ]
    }
   ],
   "source": [
    "print('a', end='')\n",
    "print('b', end=' ')\n",
    "print('c')"
   ]
  },
  {
   "attachments": {},
   "cell_type": "markdown",
   "metadata": {
    "collapsed": false
   },
   "source": [
    "### Escape Sequences \n",
    "\n",
    "single quote 문자열을 가정하자\n",
    ">- `\\'`\n",
    ">- `\\t`\n",
    ">- `\\n`\n",
    ">- `\\\\`\n",
    "\n",
    "An example is:\n"
   ]
  },
  {
   "cell_type": "code",
   "execution_count": 14,
   "metadata": {
    "collapsed": false
   },
   "outputs": [
    {
     "name": "stdout",
     "output_type": "stream",
     "text": [
      "This is \tthe 'first' line\n",
      "This is \tthe second line\n"
     ]
    }
   ],
   "source": [
    "print('This is \\tthe \\'first\\' line\\nThis is \\tthe second line')"
   ]
  },
  {
   "attachments": {},
   "cell_type": "markdown",
   "metadata": {
    "collapsed": false
   },
   "source": [
    "> 문자열이 두 줄에 나누어서 작성될 때, 하나의 문자열로 이어쓰려면 첫 줄의 마지막에 `\\`를 삽입한다.\n",
    "\n",
    "For example:\n"
   ]
  },
  {
   "cell_type": "code",
   "execution_count": 14,
   "metadata": {
    "collapsed": false
   },
   "outputs": [
    {
     "name": "stdout",
     "output_type": "stream",
     "text": [
      "This is the first sentence. This is the second sentence.\n"
     ]
    }
   ],
   "source": [
    "st = \"This is the first sentence. \\\n",
    "This is the second sentence.\"\n",
    "print(st)"
   ]
  },
  {
   "attachments": {},
   "cell_type": "markdown",
   "metadata": {
    "collapsed": false
   },
   "source": [
    "> [Raw String] 이스케이프 시퀀스를 처리하지 않고 _raw_ 문자열을 출력하려면, 문자열 앞에 `r` 또는 `R` 을 붙여라\n",
    "\n",
    "An example is:\n"
   ]
  },
  {
   "cell_type": "code",
   "execution_count": 4,
   "metadata": {
    "collapsed": false
   },
   "outputs": [
    {
     "name": "stdout",
     "output_type": "stream",
     "text": [
      "Newlines are indicated by \\n. How do you think?\n"
     ]
    }
   ],
   "source": [
    "print(r\"Newlines are indicated by \\n. How do you think?\")"
   ]
  },
  {
   "attachments": {},
   "cell_type": "markdown",
   "metadata": {
    "collapsed": false
   },
   "source": [
    "## 실습\n",
    "[1] 다음은 자신의 이름과 나이, 전공을 출력하는 프로그램이다. 동일한 결과를 format() 메서드를 이용해서 문자열을 formatting한 후 출력하라.\n"
   ]
  },
  {
   "cell_type": "code",
   "execution_count": 17,
   "metadata": {},
   "outputs": [
    {
     "name": "stdout",
     "output_type": "stream",
     "text": [
      "내 이름은 강동욱입니다. 나이는 21 살이고요, 전자공학을 전공하고 있습니다.\n",
      "내 이름은 강동욱입니다. 나이는 21 살이고요, 전자공학을 전공하고 있습니다.\n"
     ]
    }
   ],
   "source": [
    "name = '강동욱'\n",
    "age = 21\n",
    "major = '전자공학'\n",
    "\n",
    "print('내 이름은 ' + name + '입니다.', end=' ')\n",
    "print('나이는 ' + str(age) + ' 살이고요,', end=' ')\n",
    "print(major + '을 전공하고 있습니다.')\n",
    "\n",
    "# format() 활용\n",
    "print(f'내 이름은 {name}입니다.', end=' ')\n",
    "print(f'나이는 {age} 살이고요,', end=' ')\n",
    "print(f'{major}을 전공하고 있습니다.')"
   ]
  },
  {
   "attachments": {},
   "cell_type": "markdown",
   "metadata": {},
   "source": [
    "[2] 소월의 시 '진달래꽃'을 화면에 출력하라."
   ]
  },
  {
   "cell_type": "code",
   "execution_count": 22,
   "metadata": {
    "collapsed": false
   },
   "outputs": [
    {
     "name": "stdout",
     "output_type": "stream",
     "text": [
      "진달래꽃\n",
      "                김소월\n",
      "\n",
      "나 보기가 역겨워\n",
      "가실 때에는\n",
      "말업시 고히 보내드리우리다.\n",
      "\n",
      "영변의 약산\n",
      "진달래꽃\n",
      "아름따다 가실 길에 뿌리우리다.\n",
      "\n",
      "가시는 거름거름\n",
      "노힌 그꽃츨\n",
      "삽분히 즈려밝고 가시옵소서.\n",
      "\n",
      "나 보기가 역겨워\n",
      "가실 때에는\n",
      "죽어도 아니 눈물 흘니우리다.\n"
     ]
    }
   ],
   "source": [
    "poem = '''진달래꽃\n",
    "                김소월\\n\n",
    "나 보기가 역겨워\n",
    "가실 때에는\n",
    "말업시 고히 보내드리우리다.\\n\n",
    "영변의 약산\n",
    "진달래꽃\n",
    "아름따다 가실 길에 뿌리우리다.\\n\n",
    "가시는 거름거름\n",
    "노힌 그꽃츨\n",
    "삽분히 즈려밝고 가시옵소서.\\n\n",
    "나 보기가 역겨워\n",
    "가실 때에는\n",
    "죽어도 아니 눈물 흘니우리다.'''\n",
    "\n",
    "print(poem)"
   ]
  },
  {
   "attachments": {},
   "cell_type": "markdown",
   "metadata": {
    "collapsed": false
   },
   "source": [
    "[3] 1/3, 1/5의 계산 결과를 출력하라. 출력 형식을 적당하게 지정하여 보라."
   ]
  },
  {
   "cell_type": "code",
   "execution_count": 33,
   "metadata": {},
   "outputs": [
    {
     "name": "stdout",
     "output_type": "stream",
     "text": [
      "a = 0.33\n",
      "b = 0.2\n"
     ]
    }
   ],
   "source": [
    "a = 1/3\n",
    "\n",
    "print(f'a = {a:0.2f}\\nb = {b:g}')\n"
   ]
  }
 ],
 "metadata": {
  "kernelspec": {
   "display_name": "Python 3.11.0 64-bit",
   "language": "python",
   "name": "python3"
  },
  "language_info": {
   "codemirror_mode": {
    "name": "ipython",
    "version": 3
   },
   "file_extension": ".py",
   "mimetype": "text/x-python",
   "name": "python",
   "nbconvert_exporter": "python",
   "pygments_lexer": "ipython3",
   "version": "3.11.0"
  },
  "vscode": {
   "interpreter": {
    "hash": "10340f3b4385e401792eeb44b8b5edca2cd8c002c17926bde515355c1d6e3c5e"
   }
  }
 },
 "nbformat": 4,
 "nbformat_minor": 0
}
