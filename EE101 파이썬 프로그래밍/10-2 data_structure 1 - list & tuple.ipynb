{
 "cells": [
  {
   "attachments": {},
   "cell_type": "markdown",
   "metadata": {
    "collapsed": false
   },
   "source": [
    "# 자료 구조 (Data Structures)\n",
    "\n",
    "연관 데이터의 모음을 `자료 구조`라 한다.\n",
    "\n",
    "파이썬의 내장 자료 구조(built-in data structure) (이를 `container`라 한다)\n",
    "- <font color='orange'>_list_</font>\n",
    "- <font color='orange'>_tuple_</font>\n",
    "- <font color='orange'>_dictionary_</font>\n",
    "- <font color='orange'>_set_</font>\n",
    "\n",
    "4개의 container 외에 numpy 패키지는 <font color='orange'>_ndarray_</font>라는 강력한 배열(array)형 자료 구조를 사용할 수 있게 해준다.\n"
   ]
  },
  {
   "attachments": {},
   "cell_type": "markdown",
   "metadata": {
    "collapsed": false
   },
   "source": [
    "## 리스트 (List)\n",
    "\n",
    "A `list` is a data structure that holds an ordered collection of items i.e. you can store a *sequence* of items in a list. \n",
    "\n",
    "#### 1) 리스트의 개념 ~ \"가변 책받침으로 구분된 책꽂이\"\n",
    "\n",
    "책꽂이의 책은 끼워넣기와 제거하기 (즉, 바꾸기), 검색하기 등이 가능하다.\n",
    "\n",
    "![리스트의 개념](./img/concept_of_list.png)\n",
    "\n",
    "- List는 객체들을 순서대로 묶은 모음이다. 이때 객체들은 **서로 다른 타입**도 가능하다.\n",
    "\n",
    "- 대괄호(square bracket) 안에서 콤마로 각 요소를 구분한다. 예: **\\[1,2,3,4,5\\]**\n",
    "\n",
    "- **indexing**과 **slicing**을 이용해서 리스트의 개별 요소나 부분 집합에 접근할 수 있으며, 수정 가능(**mutable**)하다.\n",
    "\n",
    "- 리스트 처리를 위해서 list class의 다양한 메소드들이 사용된다."
   ]
  },
  {
   "attachments": {},
   "cell_type": "markdown",
   "metadata": {
    "collapsed": false
   },
   "source": [
    "#### 2) 리스트 클래스(`Classes`)\n",
    "\n",
    "> 변수 `i`를 선언하여 정수 `5`를 지정(대입)한다면, `int` 클래스(자료형)의 객체(인스턴스)를 생성한 것이다.\n",
    ">\n",
    "> 클래스에는 클래스 고유의 함수인 메서드(*methods*, `멤버 함수`)가 정의되어 있다. 즉 그 클래스에서만 사용될 수 있는 함수들을 가지고 있다. 예를 들어 `append()` 메서드는 `list` 클래스에서만 사용되는 함수이다.\n",
    ">- `append()`: 리스트에 새로운 값을 추가,  예) list1.append(4)\n",
    ">- `remove()`: 리스트에 존재하는 특정 값 지우기. 여러 개의 값이 있는 경우 가장 앞에 있는 하나만 지워짐. 예) list1.remove(40)을 하면 리스트에 40이라는 값이 있는 경우 삭제\n",
    ">- `reverse()`\n",
    ">- `sort()`\n",
    ">\n",
    "> 클래스에는 클래스 고유의 변수인 필드(*fields*, `멤버 변수`)가 정의되어 있다. \n",
    "\n",
    "\n",
    "Example (save as `ds_using_list.py`):\n",
    "\n"
   ]
  },
  {
   "cell_type": "code",
   "execution_count": null,
   "metadata": {
    "collapsed": false
   },
   "outputs": [],
   "source": [
    "# This is my shopping list\n",
    "shoplist = ['apple', 'mango', 'carrot', 'banana']\n",
    "\n",
    "print(type(shoplist))\n",
    "print(dir(shoplist))\n",
    "print(help(list.append))\n",
    "print(help(list.clear))\n",
    "print(help(list.sort))"
   ]
  },
  {
   "cell_type": "code",
   "execution_count": null,
   "metadata": {},
   "outputs": [],
   "source": [
    "print('I have', len(shoplist), 'items to purchase.')\n",
    "print('I have', shoplist.count('apple'), 'apples to purchase.')\n"
   ]
  },
  {
   "cell_type": "code",
   "execution_count": null,
   "metadata": {},
   "outputs": [],
   "source": [
    "print('These items are:', end=' ')\n",
    "for item in shoplist:\n",
    "    print(item, end=' ')\n",
    "\n",
    "print('\\nI also have to buy rice.')\n",
    "shoplist.append('rice')\n",
    "print('My shopping list is now', shoplist)\n",
    "\n",
    "print('I will sort my list now')\n",
    "shoplist.sort()\n",
    "print('Sorted shopping list is', shoplist)\n",
    "\n",
    "print('The first item I will buy is', shoplist[0])\n",
    "olditem = shoplist[0]\n",
    "del shoplist[0]\n",
    "print('I bought the', olditem)\n",
    "print('My shopping list is now', shoplist)\n"
   ]
  },
  {
   "attachments": {},
   "cell_type": "markdown",
   "metadata": {
    "collapsed": false
   },
   "source": [
    "**How It Works**\n",
    "\n",
    ">1. 리스트의 아이템들은 서로 동일한 자료형이 아니라도 상관 없다.\n",
    ">2. `append` 메서드와 `sort` 메서드는 리스트 클래스의 멤버 함수\n",
    ">3. `del` 명령어는 해당 아이템을 리스트에서 제거한다.\n",
    ">4. `in` 연산 : 리스트에 값이 들어있는지 확인하는 방법\n",
    "\n"
   ]
  },
  {
   "attachments": {},
   "cell_type": "markdown",
   "metadata": {
    "collapsed": false
   },
   "source": [
    "#### 3) Indexing\n",
    "\n",
    "인덱싱을 통해 리스트의 개별 요소에 접근\n",
    "\n",
    "인덱싱은 **0** 부터 시작한다.\n",
    "\n",
    "**-1** 로 시작하는 음수를 이용해서 역순의 인덱싱도 가능하다.\n",
    ">- 앞에서부터 첫 번째 값 list1\\[0\\]\n",
    ">- 뒤에서부터 첫 번째 값 list1\\[-1\\]\n",
    ">- 뒤에서 두 번째 값 list1\\[-2\\]\n",
    "\n",
    "리스트에 들어있는 값 보다 큰 값을 읽어오려고 하면 에러"
   ]
  },
  {
   "attachments": {},
   "cell_type": "markdown",
   "metadata": {
    "collapsed": false
   },
   "source": [
    "#### 4) Slicing\n",
    "\n",
    "Slicing을 통해 리스트의 부분 (집합)에 대한 접근과 수정이 가능하다.\n",
    "\n",
    "**Slicing syntax**: colors\\[start:stop:stride\\]\n",
    "\n",
    "예를 들어 **2:4** slicing의 의미는 2부터 4 **미만** 의 인덱스들의 집합(**2**와 **3**)을 의미한다."
   ]
  },
  {
   "cell_type": "code",
   "execution_count": null,
   "metadata": {
    "collapsed": false
   },
   "outputs": [],
   "source": [
    "colors = ['red', 'blue', 'green', 'black', 'white']\n",
    "colors.append('pink')\n",
    "print(colors)\n",
    "print(colors.pop()) # removes and returns the last item\n",
    "print(colors)\n",
    "colors.extend(['pink', 'purple']) # extend colors, in-place\n",
    "print(colors)\n",
    "colors = colors[:-2]\n",
    "print(colors)\n"
   ]
  },
  {
   "cell_type": "code",
   "execution_count": null,
   "metadata": {
    "collapsed": false
   },
   "outputs": [],
   "source": [
    "rcolors = colors[::-1]\n",
    "print(rcolors)\n",
    "# rcolors2 = list(colors)\n",
    "rcolors2 = colors.copy()\n",
    "# rcolors2 = colors\n",
    "print(rcolors2)\n",
    "rcolors2.reverse() # in-place\n",
    "print(rcolors2, colors)\n"
   ]
  },
  {
   "cell_type": "code",
   "execution_count": null,
   "metadata": {
    "collapsed": false
   },
   "outputs": [],
   "source": [
    "colors = ['red', 'blue', 'green', 'black', 'white']\n",
    "rcolors = colors.copy() # new object\n",
    "print(sorted(rcolors), rcolors) # new object\n",
    "print(rcolors.sort(), rcolors)  # in-place\n"
   ]
  },
  {
   "cell_type": "code",
   "execution_count": null,
   "metadata": {
    "collapsed": false
   },
   "outputs": [],
   "source": [
    "colors = ['red', 'blue', 'green', 'black', 'white']\n",
    "rcolors = colors[::2] # new object\n",
    "print(rcolors + colors)\n",
    "print(rcolors * 2)"
   ]
  },
  {
   "attachments": {},
   "cell_type": "markdown",
   "metadata": {
    "collapsed": false
   },
   "source": [
    "## Tuple\n",
    "\n",
    "Tuples are used to hold together multiple objects. Think of them as similar to lists, but without the extensive functionality that the list class gives you. One major feature of tuples is that they are *immutable* like strings i.e. you cannot modify tuples.\n",
    "\n",
    "#### 1) Tuple(튜플)의 개념 ~ \"쌓은 책 무더기\"\n",
    "\n",
    "쌓여있는 책은 개별적으로 바꿔끼워넣기가 불가능하고, 해체해서 낱개로 구분한 후 이용 가능하다.\n",
    "\n",
    "![튜플의 개념](./img/concept_of_tuple.png)\n",
    "\n",
    "- 아이템과 아이템을 콤마로 구분\n",
    "- 전체를 괄호(parantheses)로 싸도 된다.\n",
    "- 리스트로부터 tuple 만들기 가능하다.\n",
    "- 튜플은 한번 정해진 순서를 바꿀 수 없다.\n",
    "- 튜플은 값의 변경과 삭제가 불가능\n",
    "- Packing과 unpacking을 통해 C언어에서의 구조체 활용을 대체한다!"
   ]
  },
  {
   "cell_type": "markdown",
   "metadata": {},
   "source": [
    "Example (save as `ds_using_tuple.py`):\n"
   ]
  },
  {
   "cell_type": "code",
   "execution_count": null,
   "metadata": {
    "collapsed": false
   },
   "outputs": [],
   "source": [
    "# I would recommend always using parentheses\n",
    "# to indicate start and end of tuple\n",
    "# even though parentheses are optional.\n",
    "# Explicit is better than implicit.\n",
    "zoo = ('python', 'elephant', 'penguin')\n",
    "print('Number of animals in the zoo is', len(zoo))\n",
    "\n",
    "new_zoo = 'monkey', 'camel', zoo    # parentheses not required but are a good idea\n",
    "print('Number of cages in the new zoo is', len(new_zoo))\n",
    "print('All animals in new zoo are', new_zoo)\n",
    "print('Animals brought from old zoo are', new_zoo[2])\n",
    "print('Last animal brought from old zoo is', new_zoo[2][2])\n",
    "print('Number of animals in the new zoo is', len(new_zoo)-1+len(new_zoo[2]))\n",
    "\n"
   ]
  },
  {
   "attachments": {},
   "cell_type": "markdown",
   "metadata": {
    "collapsed": false
   },
   "source": [
    "**How It Works**\n",
    ">1. 변수 `zoo`는 튜플 클래스의 인스턴스\n",
    ">2. 튜플도 시퀀스[sequence](#sequence) 이다. `in` 연산과 `len()` 함수를 적용할 수 있으며, 인덱싱(indexing)을 통해서 아이템 접근이 가능하다.\n",
    ">3. 튜플의 아이템들도 모두 동일한 자료형이어야 한다는 제약이 없다.\n",
    "\n",
    "\n",
    "**Tuple with 0 or 1 items**\n",
    ">- 빈 튜프을 생성하려면 `myempty = ()`. \n",
    ">- 하나의 아이템만 갖는 튜플을 생성하는 예: `singleton = (2 , )` \n"
   ]
  },
  {
   "attachments": {},
   "cell_type": "markdown",
   "metadata": {},
   "source": [
    "#### 2) tuple을 해체한 후 새 tuple의 원소들로 넣기"
   ]
  },
  {
   "cell_type": "code",
   "execution_count": null,
   "metadata": {},
   "outputs": [],
   "source": [
    "new_zoo = 'monkey', 'camel', *zoo    # zoo의 개별 원소를 new_zoo의 원소들로 가져온다\n",
    "print('Number of cages in the new zoo is', len(new_zoo))\n",
    "print('All animals in new zoo are', new_zoo)\n",
    "print('Animals brought from old zoo are', new_zoo[2])\n"
   ]
  },
  {
   "attachments": {},
   "cell_type": "markdown",
   "metadata": {},
   "source": [
    "#### 3) Tuple class의 매서드"
   ]
  },
  {
   "cell_type": "code",
   "execution_count": null,
   "metadata": {},
   "outputs": [],
   "source": [
    "print(dir(tuple))\n",
    "\n",
    "help(tuple.count)\n",
    "help(tuple.index)\n",
    "\n",
    "print(new_zoo.count('python'))  # new_zoo에 'python' 이 몇 번 나타나는가?\n",
    "print(new_zoo.index('python'))  # new_zoo에서 'python'이 존재하는 위치는?"
   ]
  },
  {
   "attachments": {},
   "cell_type": "markdown",
   "metadata": {},
   "source": [
    "## 실습\n",
    "[1] 입력된 가변 개수의 정수 매개변수 중에서 최소값, 평균값, 최대값, gcd, lcm을 계산하여 반환하는 함수를 작성하라."
   ]
  },
  {
   "cell_type": "code",
   "execution_count": null,
   "metadata": {},
   "outputs": [],
   "source": [
    "import math\n",
    "\n",
    "def analysis(*number):\n",
    "    return min(*number), sum(number)/len(number), max(*number), math.gcd(*number), math.lcm(*number)\n",
    "    \n",
    "\n",
    "print(analysis(1,2,3,4,5,4,3,2,1))"
   ]
  }
 ],
 "metadata": {
  "kernelspec": {
   "display_name": "Python 3.11.0 64-bit",
   "language": "python",
   "name": "python3"
  },
  "language_info": {
   "codemirror_mode": {
    "name": "ipython",
    "version": 3
   },
   "file_extension": ".py",
   "mimetype": "text/x-python",
   "name": "python",
   "nbconvert_exporter": "python",
   "pygments_lexer": "ipython3",
   "version": "3.11.0"
  },
  "vscode": {
   "interpreter": {
    "hash": "10340f3b4385e401792eeb44b8b5edca2cd8c002c17926bde515355c1d6e3c5e"
   }
  }
 },
 "nbformat": 4,
 "nbformat_minor": 0
}
