{
 "cells": [
  {
   "attachments": {},
   "cell_type": "markdown",
   "metadata": {
    "collapsed": false
   },
   "source": [
    "# 함수\n",
    "\n",
    "#### 4) 지역 변수(Local Variables)\n",
    "\n",
    "> 함수의 매개변수는 지역변수이다.\n",
    ">- 함수 블록에서 선언된 변수도 지역변수이다.\n",
    ">- 변수의 스코프(*`scope`*)는 함수 블록 내로 한정된다.\n",
    "\n",
    "Example (save as `function_local.py`):\n"
   ]
  },
  {
   "cell_type": "code",
   "execution_count": 3,
   "metadata": {
    "collapsed": false
   },
   "outputs": [
    {
     "name": "stdout",
     "output_type": "stream",
     "text": [
      "x is 50\n",
      "Changed local x(140732654998344) to 2\n",
      "x(140732654999880) is still 50\n"
     ]
    }
   ],
   "source": [
    "x = 50\n",
    "\n",
    "\n",
    "def func(x):\n",
    "    '''\n",
    "    매개변수 x는 지역 변수이며, 함수 내부에서는 전역 변수(x=50)을 가린다.\n",
    "    '''\n",
    "    print('x is', x)\n",
    "    y = int(input('정수'))  # y도 지역 변수이다. 이 객체는 이 블록 외부에서 접근할 수 없다(보이지 않는다).\n",
    "    x = y\n",
    "    print('Changed local x({}) to'.format(id(x)), x)\n",
    "\n",
    "\n",
    "func(x)\n",
    "print('x({}) is still'.format(id(x)), x)\n",
    "# print('y is not to be seen here', y)"
   ]
  },
  {
   "attachments": {},
   "cell_type": "markdown",
   "metadata": {
    "collapsed": false
   },
   "source": [
    "**How It Works**\n",
    "\n",
    "> `x` 라는 이름의 변수가 `func()` 함수 바깥과 함수 내부에서 각각 선언되었다.\n",
    ">- `func()` 함수 내부에서는 매개변수로서 선언된 `x`가 사용되고\n",
    ">- `func()` 함수 바깥에서는 전역변수(global variable)로 선언된 `x`가 사용된다.\n"
   ]
  },
  {
   "attachments": {},
   "cell_type": "markdown",
   "metadata": {
    "collapsed": false
   },
   "source": [
    "#### 5) 함수 내부에서 전역 변수를 사용하는 법\n",
    " \n",
    "> `global` 키워드를 사용해서 함수 바깥에서 선언된 전역 변수를 선언해주면, 함수 블록 내부에서 그 변수에 대한 사용(접근 및 갱신)이 가능하다.\n",
    ">- `global` 로 선언되지 않은 전역 변수는 함수 블록에서 접근할 수 없다.\n",
    ">- 같은 이름의 지역 변수를 생성하게 된다.\n",
    "\n",
    "Example (save as `function_global.py`):\n"
   ]
  },
  {
   "cell_type": "code",
   "execution_count": 4,
   "metadata": {
    "collapsed": false
   },
   "outputs": [
    {
     "name": "stdout",
     "output_type": "stream",
     "text": [
      "Changed global x to 2\n",
      "Value of x is 2\n"
     ]
    }
   ],
   "source": [
    "x = 50\n",
    "\n",
    "def func():\n",
    "    '''\n",
    "    함수 외부에서 선언된 전역 변수를 함수 블록에서 사용하려면, 먼저 global 선언을 해야 한다.\n",
    "    '''\n",
    "    global x\n",
    "\n",
    "    x = 2\n",
    "    print('Changed global x to', x)\n",
    "\n",
    "\n",
    "\n",
    "func()\n",
    "print('Value of x is', x)\n"
   ]
  },
  {
   "cell_type": "code",
   "execution_count": 6,
   "metadata": {},
   "outputs": [
    {
     "name": "stdout",
     "output_type": "stream",
     "text": [
      "Changed x to 2\n",
      "Value of x is 50\n"
     ]
    }
   ],
   "source": [
    "x = 50\n",
    "\n",
    "def func():\n",
    "    '''\n",
    "    함수 외부에서 선언된 전역 변수를 함수 블록에서 사용하려면, 먼저 global 선언을 해야 한다.\n",
    "    '''\n",
    "    # global x\n",
    "\n",
    "    x = 2\n",
    "    print('Changed x to', x)\n",
    "\n",
    "\n",
    "\n",
    "func()\n",
    "print('Value of x is', x)"
   ]
  },
  {
   "attachments": {},
   "cell_type": "markdown",
   "metadata": {
    "collapsed": false
   },
   "source": [
    "**How It Works**\n",
    "\n",
    ">1. `global` 키워드는 `x`를 위한 객체를 새로 생성하는 대신에 함수 외부에서 선언된 변수(객체) `x`를 함수 내부에서 공유하겠다는 명령이다.\n",
    ">2. `global x, y, z` 처럼 한꺼번에 여러 개의 전역 변수를 선언할 수 있다.\n"
   ]
  },
  {
   "attachments": {},
   "cell_type": "markdown",
   "metadata": {
    "collapsed": false
   },
   "source": [
    "## 실습\n",
    "\n",
    "[1] 두 양의 정수 a, b의 최대공약수를 출력하는 함수를 작성하고 이를 이용하여 사용자로부터 두 개의 양의 정수를 입력 받아 그 수들의 최대공약수를 출력하는 프로그램을 작성하시오.\n",
    "\n",
    "(Ex. 128 48 -> 16)\n",
    "\n"
   ]
  },
  {
   "cell_type": "code",
   "execution_count": 7,
   "metadata": {},
   "outputs": [
    {
     "name": "stdout",
     "output_type": "stream",
     "text": [
      "16\n"
     ]
    }
   ],
   "source": [
    "import math\n",
    "\n",
    "msg='integer'\n",
    "print(math.gcd(int(input(msg)), int(input(msg))))"
   ]
  },
  {
   "attachments": {},
   "cell_type": "markdown",
   "metadata": {},
   "source": [
    "[2] 두 양의 정수 a, b의 최소공배수를 계산하여 출력하는 함수를 작성하고 사용자로부터 두 양의 정수를 입력 받아 그 수들의 최소공배수를 출력하는 프로그램을 작성하시오.\n",
    "\n",
    "(Ex. 128 48 -> 384 / 1024 3072 -> 3072)\n"
   ]
  },
  {
   "cell_type": "code",
   "execution_count": 10,
   "metadata": {
    "collapsed": false
   },
   "outputs": [
    {
     "name": "stdout",
     "output_type": "stream",
     "text": [
      "384\n"
     ]
    }
   ],
   "source": [
    "import math\n",
    "\n",
    "msg='integer'\n",
    "print(math.lcm(int(input(msg)), int(input(msg))))"
   ]
  }
 ],
 "metadata": {
  "kernelspec": {
   "display_name": "Python 3",
   "language": "python",
   "name": "python3"
  },
  "language_info": {
   "codemirror_mode": {
    "name": "ipython",
    "version": 3
   },
   "file_extension": ".py",
   "mimetype": "text/x-python",
   "name": "python",
   "nbconvert_exporter": "python",
   "pygments_lexer": "ipython3",
   "version": "3.11.0"
  },
  "vscode": {
   "interpreter": {
    "hash": "10340f3b4385e401792eeb44b8b5edca2cd8c002c17926bde515355c1d6e3c5e"
   }
  }
 },
 "nbformat": 4,
 "nbformat_minor": 0
}
