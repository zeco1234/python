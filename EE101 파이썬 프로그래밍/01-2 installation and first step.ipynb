{
 "cells": [
  {
   "attachments": {},
   "cell_type": "markdown",
   "metadata": {
    "collapsed": false
   },
   "source": [
    "# 1. Python 설치\n"
   ]
  },
  {
   "attachments": {},
   "cell_type": "markdown",
   "metadata": {
    "collapsed": false
   },
   "source": [
    "### 1) 윈도우 시스템에서 설치하기\n",
    "\n",
    "**https://www.python.org/downloads** 사이트에 접속하여 최신 버전의 파이썬을 다운로드하라.\n",
    "\n",
    "> 최신 버전: [Python 3.11.1](https://www.python.org/downloads/)\n",
    "\n",
    "![python_org](./img/python800x500_org.png)\n",
    "\n",
    "다음 윈도우 소프트웨어를 설치하는 것과 동일한 방식으로 파이썬을 설치하라.\n",
    "\n",
    "주의: \n",
    "> 다음 옵션을 체크하라: `Add Python 3.11 to PATH`.\n",
    ">\n",
    "> 만일 체크하지 않고 설치했다면, 설치된 앱을 **제거하고 다시 설치**하는 것이 좋다."
   ]
  },
  {
   "attachments": {},
   "cell_type": "markdown",
   "metadata": {
    "collapsed": false
   },
   "source": [
    "### 2) 설치 확인: 윈도우에서 파이썬 프롬프트 실행\n",
    "\n",
    "1) 윈도우에서 하나의 터미널을 연다: 시작 버튼과 `Run`을 클릭하고 다이얼로그 박스에 `cmd`라고 치고 `[enter]` 키를 누른다\n",
    "2) DOS prompt 터미널에 `python` 를 타이핑하여 오류가 발생하지 않으면 설치가 정상적으로 된 것이다.\n",
    "\n",
    "![DOS Prompt](./img/running_python_prompt_on_windows.png)\n"
   ]
  },
  {
   "attachments": {},
   "cell_type": "markdown",
   "metadata": {
    "collapsed": false
   },
   "source": [
    "### 3) 인터프리터 프롬프트(Interpreter Prompt) 이용하기\n",
    "\n",
    "DOS 터미널의 프롬프트가 `>>>` 로 바꿔져 있는 상태를 _Python interpreter prompt_ 라 한다.\n",
    "\n",
    "파이썬 명령어를 입력할 수 있는 환경이다.\n",
    "\n",
    "파이썬 인터프리터 프롬프트에서, 다음과 같이 타이핑하고 `[enter]` 키를 입력하라:\n",
    "```python\n",
    "print(\"Hello World\")\n",
    "```\n",
    "\n",
    "화면에 `Hello World` 라고 나오는가?\n",
    "\n",
    "![hello world](./img/python_prompt.png)\n",
    "\n",
    "기본적으로 파이썬 인터프리터 프롬프트에서 하나의 파이썬 명령어 (_statement_)를 입력하고 `[enter]` 키를 치면, 파이썬은 바로 해당 라인 출력을 내보낸다.\n",
    "\n",
    "`print` 는 매개변수로 전달된 `Hello World` 텍스트를 화면에 출력하는 파이썬 내장 함수이다."
   ]
  },
  {
   "attachments": {},
   "cell_type": "markdown",
   "metadata": {
    "collapsed": false
   },
   "source": [
    "### 4) 인터프리터 프롬프트에서 빠져나오는 방법\n",
    "\n",
    "윈도우 코맨드 프롬프트를 사용하는 경우이라면, `[ctrl + z]` 와 `[enter]` 키를 차례대로 입력하면 인터프리터 프롬프트에서 빠져나와 DOS 프롬프트로 되돌아간다.\n",
    "\n",
    "![run hello.py](./img/python_prompt.png)\n"
   ]
  },
  {
   "attachments": {},
   "cell_type": "markdown",
   "metadata": {
    "collapsed": false
   },
   "source": [
    "# 2. Editor 선택 및 설치\n",
    "\n",
    "간단한 명령어 몇 개는 `Interpreter Prompt`에서 바로 입력하여 실행시킬 수 있겠지만, \n",
    "조금만 긴 무언가를 실행하고 싶다면, 실행할 때마다 매번 인터프리터 프롬프트에서 프로그램을 입력하는 것은 낭비적이다.\n",
    "\n",
    "이 문제를 해결하는 방법이 프로그램을 파일(이를 `파이썬 소스 파일`이라 한다)에 작성해서 저장해두는 것이다. 그러면 파일에 작성된 프로그램은 언제든지 여러 번 실행할 수 있다.\n",
    "\n",
    "파이썬 소스 파일을 만들기 위해서는 편집기 소프트웨어가 필요하다. \n",
    "좋은 편집기는 소스 파일 쓰는 것을 더 쉽게 해준다. 그래서 편집기의 선택은 정말로 중요하다. \n",
    "\n",
    "사고 싶은 차를 고르듯이 편집기를 선택해야 한다. 훌륭한 편집기는 파이썬 프로그램을 쉽게 작성할 수 있도록 도와주며, 여행을 더 편안하게 만들고 훨씬 더 빠르고 안전한 방법으로 목적지에 도달할 수 있도록 도와줄 것이다.\n",
    "\n",
    "편집기 선택에 대한 더 깊이 있는 조언을 원하면 [Finding the Perfect Python Code Editor](https://realpython.com/courses/finding-perfect-python-code-editor/) 을 참조하라.\n",
    "\n",
    "파이썬 프로그래밍을 위해 많은 편집기들이 추천되고 있지만, 많은 개발자들이 주로 이용하는 것은 `Pycharm`과 `Visual Studio Code` 두 가지다. \n",
    "\n",
    "둘 모두 훌륭한 통합개발환경(IDE)을 제공한다(두 환경의 장단점을 비교한 사이트도 많이 있다). \n",
    "그리고 `Jupyter notebooks`는 IDE는 아니지만 대화형 편집에 특화된 편집기로서 실시간 교육에 많이 이용된다.\n",
    "\n",
    "편집기에는 _syntax highlighting_ 기능이 있어서 프로그래밍 도중에 올바른 신텍스를 바로 시각화하여 확인할 수 있다.\n",
    "\n",
    "본 수업에서는 조금 더 가벼운 편집기인 `VSCode`에 `Jupyter notebooks`를 연결하여 프로그래밍 교육과 실습을 병행할 예정이다.\n",
    "참고로, 본 강의의 기초 자료인 'A byte of python'의 저자는 `Pycahrm`을 강력하게 추천하고 있다.\n",
    "\n"
   ]
  },
  {
   "attachments": {},
   "cell_type": "markdown",
   "metadata": {},
   "source": [
    "### 1) VSCode 설치\n",
    "\n",
    "https://code.visualstudio.com/ 를 방문하여 [Visual Studio Code](https://code.visualstudio.com/)를 설치하라.\n",
    "\n",
    "`VSCode`는 파이썬 프로그램을 작성하는데 이용할 수 있는 무료 편집기이다.\n",
    "\n",
    "![VSCode](./img/vscode_org.png)\n"
   ]
  },
  {
   "attachments": {},
   "cell_type": "markdown",
   "metadata": {},
   "source": [
    "### 2) Python extension 설치 및 인터프리터 연결하기\n",
    "\n",
    "좌측 메뉴 바에서 Extensions 을 click한 후, Marketplace에서 `Python` 과 `jupyter` 를 선택하여 설치해야 한다.\n",
    "\n",
    "https://evols-atirev.tistory.com/31 등을 참조해서 VSCode Python 작업 환경을 자신의 힘으로 완성해보자."
   ]
  },
  {
   "attachments": {},
   "cell_type": "markdown",
   "metadata": {
    "collapsed": false
   },
   "source": [
    "### 3) 파이썬 학습의 기초\n",
    "\n",
    "인터넷 검색을 일상화하라.\n",
    "\n",
    "의문이 생기면 즉시 검색창에 <font color='orange'>**\"파이썬3 ...\"**</font> 라고 입력하라.\n",
    "\n",
    "다음과 같은 입문 강좌 싸이트를 방문하여 파이썬 자습을 해볼 수도 있다.\n",
    "\n",
    "파이썬 입문 강좌 - [파이썬 입문](https://programmers.co.kr/learn/courses/2)\n",
    "\n",
    "Python의 함수나 문에 대한 빠른 정보가 필요하다면 내장된 `help` 기능을 사용할 수 있다. 이것은 특히 인터프리터 프롬프트를 사용할 때 매우 유용합니다. 예를 들어 `help('len')`를 실행하면 항목 수를 세는 데 사용되는 `len` 함수에 대한 도움말이 표시된다.\n"
   ]
  },
  {
   "attachments": {},
   "cell_type": "markdown",
   "metadata": {
    "collapsed": false
   },
   "source": [
    "# 3. 시작\n",
    "\n",
    "파이썬 인터프리터 프롬프트를 통해 'Hello World' 출력하는 것은 설치 확인 과정에서 이미 경험하였다.\n",
    "\n",
    "이제 'Hello World'를 출력할 수 있는 소스 파일의 작성과 저장, 그리고 실행해보자.\n",
    ">1) `VSCode`를 실행시킨다.\n",
    ">2) `File`->`New File...` 선택한 후, 다이얼로그 창이 나오면 창 아래에서  `Python file`을 click한다.\n",
    ">3) `Untitled.py` 가 하이라이트되고 있는지 확인하고, editor 창에 다음과 같이 입력한다.\n",
    "```python\n",
    "print('Hello, World')\n",
    "```\n",
    ">4) `File`->`Save` 선택한 후, 저장될 폴더를 확인한 후 창에 다이얼로그 창에 `hello`라고 입력하여 파일을 저장한다.\n",
    ">5) editor 창 상단 모서리에 있는 가로 삼각형(`Run`) 버튼을 둘러 실행시킬 수 있다."
   ]
  },
  {
   "cell_type": "markdown",
   "metadata": {
    "collapsed": false
   },
   "source": [
    "**How It Works**\n",
    "\n",
    "A Python program is composed of _statements_. In our first program, we have only one statement. In this statement, we call the `print` _statement_ to which we supply the text \"hello world\".\n"
   ]
  },
  {
   "attachments": {},
   "cell_type": "markdown",
   "metadata": {
    "collapsed": false
   },
   "source": [
    "## Summary\n",
    "\n",
    "You should now be able to write, save and run Python programs at ease.\n",
    "\n",
    "Now that you are a Python user, let's learn some more Python concepts.\n",
    "\n",
    "---"
   ]
  },
  {
   "attachments": {},
   "cell_type": "markdown",
   "metadata": {
    "collapsed": false
   },
   "source": [
    "## 실습문제\n",
    "\n",
    "[1] 파이썬 사이트(https://www.python.org/)에 접속하여 최신 버전의 python을 다운로드하여 노트북에 설치하고, 파이썬 인터프리터 프롬프트를 생성시켜서 설치가 정상적으로 되었음을 확인하라.\n",
    "\n",
    "[2] DOS 창에서 다음과 같이 입력하여 명령을 통해 jupyter notebooks을 설치하라.\n",
    "```python\n",
    "pip install jupyter\n",
    "``` \n",
    "[3] Visual Studio Code 사이트(https://code.visualstudio.com/)에 접속한 후, VSCode를 다운로드하여 컴퓨터에 설치하라.\n",
    "\n",
    "[4] VSCode에서 `Python`과 `Jupyter`를 연결하라."
   ]
  }
 ],
 "metadata": {
  "kernelspec": {
   "display_name": "Python 3.11.0 64-bit",
   "language": "python",
   "name": "python3"
  },
  "language_info": {
   "codemirror_mode": {
    "name": "ipython",
    "version": 3
   },
   "file_extension": ".py",
   "mimetype": "text/x-python",
   "name": "python",
   "nbconvert_exporter": "python",
   "pygments_lexer": "ipython3",
   "version": "3.11.0 (main, Oct 24 2022, 18:26:48) [MSC v.1933 64 bit (AMD64)]"
  },
  "vscode": {
   "interpreter": {
    "hash": "10340f3b4385e401792eeb44b8b5edca2cd8c002c17926bde515355c1d6e3c5e"
   }
  }
 },
 "nbformat": 4,
 "nbformat_minor": 0
}
