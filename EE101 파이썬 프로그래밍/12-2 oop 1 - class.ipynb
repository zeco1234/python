{
 "cells": [
  {
   "attachments": {},
   "cell_type": "markdown",
   "metadata": {
    "collapsed": false
   },
   "source": [
    "# Object Oriented Programming\n",
    "> 프로그래밍 기법\n",
    ">- `절차 지향` (_procedure-oriented_): 함수 중심, 데이터 조작에 집중\n",
    ">- `객체 지향` (_object oriented_): 데이터와 기능을 결합하여 객체라고 불리는 것 안에 포장\n",
    "> 대부분의 경우 절차적 프로그래밍을 사용할 수 있지만, 큰 프로그램을 작성하거나 이 방법에 더 적합한 문제가 있을 때는 객체 지향 프로그래밍 기법을 사용할 수 있다.\n",
    "\n",
    "**클래스**와 **객체**\n",
    "> **class**는 새 _type_ 을 생성한다. \n",
    ">- 클래스는 `class` 키워드를 사용하여 생성한다. \n",
    ">- *objects*는 클래스의 *instance*이다. \n",
    ">- `int` 형 변수를 선언하면, 정수를 저장하는 변수들이 `int` 클래스의 인스턴스(객체)로 해석되는 것과 유사하다. \n",
    ">\n",
    "> 객체는 객체에 속하는 일반 변수를 사용하여 데이터를 저장할 수 있다. 객체 또는 클래스에 속하는 변수를 **fields**라고 한다. \n",
    ">\n",
    "> 객체는 클래스에 속하는 함수를 사용하여 기능성을 가질 수도 있다. 이러한 함수를 클래스의 **methods**라고 한다. \n",
    ">\n",
    "> 필드와 메서드를 집합적으로 해당 클래스의 **속성**이라고 부른다.\n",
    ">\n",
    "> 필드는 클래스의 각 인스턴스/객체에 속하거나 클래스 자체에 속하는 두 가지 유형이 있다. 각각 **instance variables** 및 **class variables**라고 한다.\n",
    "\n"
   ]
  },
  {
   "attachments": {},
   "cell_type": "markdown",
   "metadata": {
    "collapsed": false
   },
   "source": [
    "#### 1) `self`\n",
    "\n",
    "> 클래스 메소드는 일반 함수와 한 가지 구체적인 차이점이 있는데, 매개 변수 목록의 시작 부분에 부가적인 하나의 이름 `self`를 추가해야 한다.\n",
    ">\n",
    "> 메소드를 호출할 때 이 매개 변수에 대한 값을 주지 않으면 파이썬이 스스로 제공한다. 이 특정 변수는 객체 _자체_ 를 가리킨다.\n",
    ">- 예를 들어 `MyClass`라는 클래스와 이 클래스의 인스턴스 `myobject`가 있다고 하자. 이 객체의 메서드를 `myobject.method(arg1, arg2)` 라고 부를 때 Python에 의해 자동으로 `MyClass.method(myobject, arg1, arg2)`로 변환된다. \n",
    ">- 인수를 사용하지 않는 메서드을 선언하면, 실제로 그 메서드는 하나의 인수인 `self`를 가지고 있음을 의미한다.\n",
    ">\n",
    "> 이 매개 변수에 대해 어떤 이름이든 지정할 수 있지만 `self`라는 이름을 사용하는 것이 좋다. \n",
    "\n",
    "\n"
   ]
  },
  {
   "attachments": {},
   "cell_type": "markdown",
   "metadata": {
    "collapsed": false
   },
   "source": [
    "#### 2) `class`\n",
    "\n",
    "Example (save as `oop_simplestclass.py`).\n"
   ]
  },
  {
   "cell_type": "code",
   "execution_count": 2,
   "metadata": {
    "collapsed": false
   },
   "outputs": [
    {
     "name": "stdout",
     "output_type": "stream",
     "text": [
      "['__class__', '__delattr__', '__dict__', '__dir__', '__doc__', '__eq__', '__format__', '__ge__', '__getattribute__', '__getstate__', '__gt__', '__hash__', '__init__', '__init_subclass__', '__le__', '__lt__', '__module__', '__ne__', '__new__', '__reduce__', '__reduce_ex__', '__repr__', '__setattr__', '__sizeof__', '__str__', '__subclasshook__', '__weakref__']\n",
      "<class '__main__.Person'>\n",
      "<__main__.Person object at 0x0000016E9B384690>\n",
      "['In', 'Out', 'Person', '_', '__', '___', '__builtin__', '__builtins__', '__doc__', '__loader__', '__name__', '__package__', '__spec__', '__vsc_ipynb_file__', '_dh', '_i', '_i1', '_i2', '_ih', '_ii', '_iii', '_oh', 'exit', 'get_ipython', 'open', 'os', 'p', 'quit', 'sys']\n"
     ]
    }
   ],
   "source": [
    "class Person:\n",
    "    pass  # An empty block\n",
    "\n",
    "p = Person()\n",
    "\n",
    "print(dir(p))\n",
    "print(type(p))\n",
    "print(p)\n",
    "print(dir())"
   ]
  },
  {
   "attachments": {},
   "cell_type": "markdown",
   "metadata": {
    "collapsed": false
   },
   "source": [
    "**How It Works**\n",
    "\n",
    ">1. 새 클래스를 만든다. 클래스 블록에 `pass` 문만 존재\n",
    ">- 새 클래스는 `__main__` 모듈의 멤버이다.\n",
    ">2. 이 클래스의 객체(인스턴스) `p`를 생성한다. \n",
    "\n"
   ]
  },
  {
   "attachments": {},
   "cell_type": "markdown",
   "metadata": {
    "collapsed": false
   },
   "source": [
    "#### 3) Methods\n",
    "\n",
    "Example (save as `oop_method.py`).\n"
   ]
  },
  {
   "cell_type": "code",
   "execution_count": 2,
   "metadata": {
    "collapsed": false
   },
   "outputs": [
    {
     "name": "stdout",
     "output_type": "stream",
     "text": [
      "Hello, how are you?\n"
     ]
    }
   ],
   "source": [
    "class Person:\n",
    "    def say_hi(self):\n",
    "        print('Hello, how are you?')\n",
    "\n",
    "p = Person()\n",
    "p.say_hi()\n",
    "# The previous 2 lines can also be written as\n",
    "# Person().say_hi()\n"
   ]
  },
  {
   "attachments": {},
   "cell_type": "markdown",
   "metadata": {
    "collapsed": false
   },
   "source": [
    "**How It Works**\n",
    "\n",
    ">1. `say_hi()` 메서드 호출시 인자가 사용되지 않지만, 함수 정의에서는 `self`라는 매개변수가 포함되어 있다.\n"
   ]
  },
  {
   "attachments": {},
   "cell_type": "markdown",
   "metadata": {
    "collapsed": false
   },
   "source": [
    "#### 4) `__init__` 메서드\n",
    "\n",
    "> `__init__` 메서드는 클래스의 객체가 인스턴스화되는 즉시 실행되는 특별한 매서드 \n",
    ">\n",
    "> 생성되는 객체의 **초기화**(즉, 객체에 초기 값 전달)를 수행 \n",
    "\n",
    "Example (save as `oop_init.py`):\n"
   ]
  },
  {
   "cell_type": "code",
   "execution_count": 3,
   "metadata": {
    "collapsed": false
   },
   "outputs": [
    {
     "name": "stdout",
     "output_type": "stream",
     "text": [
      "Hello, my name is Swaroop\n"
     ]
    }
   ],
   "source": [
    "class Person:\n",
    "    def __init__(self, name):\n",
    "        self.name = name  # self.name은 객체 변수가 된다.\n",
    "\n",
    "    def say_hi(self):\n",
    "        print('Hello, my name is', self.name)\n",
    "\n",
    "p = Person('Swaroop')\n",
    "p.say_hi()\n",
    "# The previous 2 lines can also be written as\n",
    "# Person('Swaroop').say_hi()\n"
   ]
  },
  {
   "attachments": {},
   "cell_type": "markdown",
   "metadata": {
    "collapsed": false
   },
   "source": [
    "**How It Works**\n",
    "\n",
    ">1. `name` 매개변수를 갖는 `__init__` 메서드를 정의하고 있다. \n",
    ">- 새로운 필드 `name`을 선언하고, 매개변수로 받은 스트링으로 초기화\n",
    ">- `self.name`은 지역 변수로서 다른 모든 메서드에서 사용할 수 있다.\n",
    ">2. 새 인스턴스 `p`를 생성할 때, 인자로 'Swaroop'을 전달하면, `__init__` 메서드를 명시적으로 호출하지 않아도 내부적으로 이 메서드가 실행된다.\n",
    "\n"
   ]
  },
  {
   "attachments": {},
   "cell_type": "markdown",
   "metadata": {
    "collapsed": false
   },
   "source": [
    "## 실습\n",
    "[1] Homework class를 선언하고, 초기화 함수를 사용하여 Homework의 제목을 self.title field에 저장하도록 하라."
   ]
  },
  {
   "cell_type": "code",
   "execution_count": 4,
   "metadata": {},
   "outputs": [
    {
     "name": "stdout",
     "output_type": "stream",
     "text": [
      "mathematics\n",
      "circuit analysis\n"
     ]
    }
   ],
   "source": [
    "class Homework:\n",
    "    def __init__(self, title):\n",
    "        self.title = title\n",
    "\n",
    "    def say_title(self):\n",
    "        print(self.title)\n",
    "\n",
    "hw1 = Homework('mathematics')\n",
    "hw2 = Homework('circuit analysis')\n",
    "\n",
    "hw1.say_title()\n",
    "hw2.say_title()\n"
   ]
  }
 ],
 "metadata": {
  "kernelspec": {
   "display_name": "Python 3",
   "language": "python",
   "name": "python3"
  },
  "language_info": {
   "codemirror_mode": {
    "name": "ipython",
    "version": 3
   },
   "file_extension": ".py",
   "mimetype": "text/x-python",
   "name": "python",
   "nbconvert_exporter": "python",
   "pygments_lexer": "ipython3",
   "version": "3.11.0"
  },
  "vscode": {
   "interpreter": {
    "hash": "10340f3b4385e401792eeb44b8b5edca2cd8c002c17926bde515355c1d6e3c5e"
   }
  }
 },
 "nbformat": 4,
 "nbformat_minor": 0
}
