{
 "cells": [
  {
   "attachments": {},
   "cell_type": "markdown",
   "metadata": {},
   "source": [
    "# Algorithm"
   ]
  },
  {
   "attachments": {},
   "cell_type": "markdown",
   "metadata": {},
   "source": [
    "#### Algorithm (위키백과)\n",
    "알고리즘, 셈법은 수학과 컴퓨터과학, 언어학 또는 엮인 분야에서 어떠한 문제를 해결하기 위해 정해진 일련의 절차이다. \n",
    "\n",
    "계산을 실행하기 위한 단계적 절차를 의미하기도 한다. 즉, 문제 풀이에 필요한 계산절차 또는 처리과정의 순서를 뜻한다. \n",
    "\n",
    "프로그램명령어의 집합을 의미하기도 한다."
   ]
  },
  {
   "attachments": {},
   "cell_type": "markdown",
   "metadata": {
    "collapsed": false
   },
   "source": [
    "#### 예제 : 거스름돈\n",
    "거스름돈으로 사용할 1달러, 50페니(1하프), 25페니(1쿼터), 10페니와 1페니 동전이 무한히 존재한다고 가정하고,\n",
    "\n",
    "사용자로부터 거슬러줘야 할 돈(xxx.xx 달러)을 입력받아, 거슬러줘야 할 동전의 최소 개수를 구해보자.\n"
   ]
  },
  {
   "attachments": {},
   "cell_type": "markdown",
   "metadata": {},
   "source": [
    "(1) Greedy algorithm\n",
    "\n",
    "가장 큰 화폐 단위부터 돈을 거술러 준다. \n",
    "즉 가장 큰 화폐 단위부터 거스름 돈을 넘지 않는 가장 많은 개수의 동전을 거슬러주고, 남은 돈에 대해서 다음 화폐 단위에 대해서 같은 방식을 적용한다."
   ]
  },
  {
   "cell_type": "code",
   "execution_count": null,
   "metadata": {},
   "outputs": [],
   "source": [
    "a = float(input(\"거스름 돈('xx.xx'):\"))\n",
    "\n",
    "# 전처리: 페니 단위로 변환한 정수를 얻는다.\n",
    "a = round(a,2)\n",
    "a = int(100*a)\n",
    "\n",
    "coins = [100, 50, 25, 10, 1]\n",
    "\n",
    "count = 0  # 동전의 개수\n",
    "cnt_coin = []\n",
    "\n",
    "changes = a\n",
    "for coin in coins:\n",
    "    cnt = changes // coin\n",
    "    count += cnt\n",
    "    changes -= coin * cnt\n",
    "    cnt_coin.append(cnt)\n",
    "\n",
    "print(f'{count} coins')\n",
    "print(cnt_coin)\n"
   ]
  },
  {
   "attachments": {},
   "cell_type": "markdown",
   "metadata": {},
   "source": [
    "(2) Local minimum 문제의 해결\n",
    "\n",
    "30페니 거스름돈을 25페니 1개 + 1페니 5개로 구성하는 것보다 10페니 3개로 구성하는 동전의 개수가 적다\n",
    "\n",
    "이는 25페니가 10페니의 배수가 아니기 때문에 발생할 수 있는 경우이다.\n",
    "\n",
    "위와 같은 문제가 발생하는 경우는 25페니를 1개 포함하는 경우에 한정된다. \n",
    "\n",
    "따라서 이 경우에 대해서 25페니를 포함하지 않고 거스름돈을 구하여 동전의 개수를 비교하여 해결한다."
   ]
  },
  {
   "cell_type": "code",
   "execution_count": null,
   "metadata": {},
   "outputs": [],
   "source": [
    "a = float(input(\"거스름 돈('xx.xx'):\"))\n",
    "\n",
    "# 전처리: 페니 단위로 변환한 정수를 얻는다.\n",
    "a = round(a,2)\n",
    "a = int(100*a)\n",
    "\n",
    "coins = [100, 50, 25, 10, 1]\n",
    "\n",
    "count = 0  # 동전의 개수\n",
    "cnt_coin = []\n",
    "\n",
    "# using 25 penny coins\n",
    "changes = a\n",
    "for coin in coins:\n",
    "    cnt = changes // coin\n",
    "    count += cnt\n",
    "    changes -= coin * cnt\n",
    "    cnt_coin.append(cnt)\n",
    "\n",
    "print(f'{count} coins with quater coins')\n",
    "print(cnt_coin)\n",
    "\n",
    "# without 25 penny coins\n",
    "count1 = 0\n",
    "cnt_coin1 = []\n",
    "changes = a\n",
    "for coin in coins:\n",
    "    if coin == 25:\n",
    "        cnt_coin1.append(0)\n",
    "        continue\n",
    "    cnt = changes // coin\n",
    "    count1 += cnt\n",
    "    changes -= coin * cnt\n",
    "    cnt_coin1.append(cnt)\n",
    "\n",
    "print(f'{count1} coins without quater coins')\n",
    "print(cnt_coin1)\n",
    "\n",
    "if count > count1:\n",
    "    count = count1\n",
    "    cnt_coin = cnt_coin1\n",
    "\n",
    "print(f'minimum coins is {count}')\n",
    "print(cnt_coin)"
   ]
  },
  {
   "attachments": {},
   "cell_type": "markdown",
   "metadata": {},
   "source": [
    "(3) 발상의 전환"
   ]
  },
  {
   "cell_type": "code",
   "execution_count": null,
   "metadata": {},
   "outputs": [],
   "source": [
    "coins = [100, 50, 25, 10, 1]\n",
    "\n",
    "\n",
    "without_25 = []\n",
    "\n",
    "for a in range(25,50):\n",
    "    # using 25 penny coins\n",
    "    count = 0  # 동전의 개수\n",
    "    changes = a\n",
    "    for coin in coins:\n",
    "        cnt = changes // coin\n",
    "        count += cnt\n",
    "        changes -= coin * cnt\n",
    "\n",
    "    # without 25 penny coins\n",
    "    count1 = 0\n",
    "    changes = a\n",
    "    for coin in coins:\n",
    "        if coin == 25:\n",
    "            continue\n",
    "        cnt = changes // coin\n",
    "        count1 += cnt\n",
    "        changes -= coin * cnt\n",
    "\n",
    "    if count > count1:\n",
    "        without_25.append(a)\n",
    "\n",
    "print(without_25)"
   ]
  },
  {
   "cell_type": "code",
   "execution_count": null,
   "metadata": {},
   "outputs": [],
   "source": [
    "a = float(input(\"거스름 돈('xx.xx'):\"))\n",
    "\n",
    "# 전처리: 페니 단위로 변환한 정수를 얻는다.\n",
    "a = round(a,2)\n",
    "a = int(100*a)\n",
    "\n",
    "coins = [100, 50, 25, 10, 1]\n",
    "\n",
    "count = 0  # 동전의 개수\n",
    "cnt_coin = []\n",
    "\n",
    "changes = a\n",
    "for coin in coins:\n",
    "    if coin == 25 and (30 <= changes < 35 or 40 <= changes < 45):\n",
    "        cnt_coin.append(0)\n",
    "        continue\n",
    "    cnt = changes // coin\n",
    "    count += cnt\n",
    "    changes -= coin * cnt\n",
    "    cnt_coin.append(cnt)\n",
    "\n",
    "print(f'{count} coins')\n",
    "print(cnt_coin)\n"
   ]
  },
  {
   "attachments": {},
   "cell_type": "markdown",
   "metadata": {},
   "source": [
    "#### Detection of Digits"
   ]
  },
  {
   "attachments": {},
   "cell_type": "markdown",
   "metadata": {},
   "source": [
    "1) Global thresholding"
   ]
  },
  {
   "cell_type": "code",
   "execution_count": 70,
   "metadata": {},
   "outputs": [],
   "source": [
    "import cv2\n",
    "import numpy as np\n",
    "\n",
    "image = cv2.imread('./img/sudoku.png', cv2.IMREAD_COLOR)\n",
    "grey = cv2.cvtColor(image, cv2.COLOR_BGR2GRAY)\n",
    "\n",
    "_,digits = cv2.threshold(grey,0,255,cv2.THRESH_BINARY_INV|cv2.THRESH_OTSU)\n",
    "\n",
    "cv2.imshow('grey vs digits', np.hstack([grey,digits]))\n",
    "cv2.waitKey()\n",
    "cv2.destroyAllWindows()"
   ]
  },
  {
   "attachments": {},
   "cell_type": "markdown",
   "metadata": {},
   "source": [
    "2) Adaptive thresholding"
   ]
  },
  {
   "cell_type": "code",
   "execution_count": 71,
   "metadata": {},
   "outputs": [],
   "source": [
    "import cv2\n",
    "import numpy as np\n",
    "\n",
    "image = cv2.imread('./img/sudoku.png', cv2.IMREAD_COLOR)\n",
    "grey = cv2.cvtColor(image, cv2.COLOR_BGR2GRAY)\n",
    "\n",
    "digits = cv2.adaptiveThreshold(grey,255,cv2.ADAPTIVE_THRESH_MEAN_C,cv2.THRESH_BINARY_INV,11,5)\n",
    "\n",
    "cv2.imshow('grey vs digits', np.hstack([grey,digits]))\n",
    "cv2.waitKey()\n",
    "cv2.destroyAllWindows()"
   ]
  },
  {
   "attachments": {},
   "cell_type": "markdown",
   "metadata": {},
   "source": [
    "3) Find objects by using cv2.findContours()"
   ]
  },
  {
   "cell_type": "code",
   "execution_count": 75,
   "metadata": {},
   "outputs": [
    {
     "name": "stdout",
     "output_type": "stream",
     "text": [
      "927 objects found\n",
      "26 digits found\n"
     ]
    }
   ],
   "source": [
    "import cv2\n",
    "import numpy as np\n",
    "\n",
    "grey = cv2.imread('./img/sudoku.png', cv2.IMREAD_GRAYSCALE)\n",
    "rows,cols = grey.shape\n",
    "\n",
    "thrs = cv2.adaptiveThreshold(grey,255,cv2.ADAPTIVE_THRESH_MEAN_C,cv2.THRESH_BINARY_INV,11,5)\n",
    "\n",
    "contours,_ = cv2.findContours(thrs,cv2.RETR_CCOMP,cv2.CHAIN_APPROX_SIMPLE)\n",
    "\n",
    "print(len(contours), 'objects found')\n",
    "\n",
    "digits = np.zeros_like(grey)\n",
    "n_digits = 0\n",
    "for cnt in contours:\n",
    "    x,y,w,h = cv2.boundingRect(cnt)\n",
    "    if 25 <= h <= 40 and 10 <= w <= 35 and x < cols-60 and y > 50:\n",
    "        mask = grey[y:y+h,x:x+w]\n",
    "        _, mask = cv2.threshold(mask,0,255,cv2.THRESH_BINARY_INV|cv2.THRESH_OTSU)\n",
    "        digits[y:y+h,x:x+w] = mask\n",
    "        n_digits += 1\n",
    "\n",
    "print(n_digits, 'digits found')\n",
    "\n",
    "cv2.imshow('grey vs digits', np.hstack([grey,digits]))\n",
    "cv2.waitKey()\n",
    "cv2.destroyAllWindows()\n"
   ]
  }
 ],
 "metadata": {
  "kernelspec": {
   "display_name": "Python 3.11.0 64-bit",
   "language": "python",
   "name": "python3"
  },
  "language_info": {
   "codemirror_mode": {
    "name": "ipython",
    "version": 3
   },
   "file_extension": ".py",
   "mimetype": "text/x-python",
   "name": "python",
   "nbconvert_exporter": "python",
   "pygments_lexer": "ipython3",
   "version": "3.11.0 (main, Oct 24 2022, 18:26:48) [MSC v.1933 64 bit (AMD64)]"
  },
  "vscode": {
   "interpreter": {
    "hash": "10340f3b4385e401792eeb44b8b5edca2cd8c002c17926bde515355c1d6e3c5e"
   }
  }
 },
 "nbformat": 4,
 "nbformat_minor": 0
}
