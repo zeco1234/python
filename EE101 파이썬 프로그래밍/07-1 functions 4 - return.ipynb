{
 "cells": [
  {
   "attachments": {},
   "cell_type": "markdown",
   "metadata": {
    "collapsed": false
   },
   "source": [
    "# 함수\n",
    "\n",
    "#### 8) `return` 문\n",
    "\n",
    "> `return` 문은 함수를 빠져나올 때 사용한다.\n",
    ">\n",
    "> 함수의 반환 값을 반환할 수 있다.(optional)\n",
    "\n",
    "Example (save as `function_return.py`):\n"
   ]
  },
  {
   "cell_type": "code",
   "execution_count": 2,
   "metadata": {
    "collapsed": false
   },
   "outputs": [
    {
     "name": "stdout",
     "output_type": "stream",
     "text": [
      "3\n",
      "The numbers are equal\n"
     ]
    }
   ],
   "source": [
    "def maximum(x, y):\n",
    "    if x > y:\n",
    "        return x\n",
    "    elif x == y:\n",
    "        return 'The numbers are equal'\n",
    "    else:\n",
    "        return y\n",
    "\n",
    "\n",
    "print(maximum(2, 3))\n",
    "print(maximum(3, 3))"
   ]
  },
  {
   "attachments": {},
   "cell_type": "markdown",
   "metadata": {
    "collapsed": false
   },
   "source": [
    "**How It Works**\n",
    "\n",
    ">1. 반환형 데이터의 자료형이 한 가지일 필요는 없다\n",
    ">2. 반환되는 데이터가 없는 경우는 `return None`\n",
    ">3. 모든 함수의 끝에는 `return None`를 포함하는 것으로 간주한다.\n",
    "\n",
    "Example"
   ]
  },
  {
   "cell_type": "code",
   "execution_count": 1,
   "metadata": {},
   "outputs": [
    {
     "name": "stdout",
     "output_type": "stream",
     "text": [
      "None\n"
     ]
    }
   ],
   "source": [
    "def some_function():\n",
    "    pass\n",
    "\n",
    "\n",
    "print(some_function())\n",
    "\n"
   ]
  },
  {
   "attachments": {},
   "cell_type": "markdown",
   "metadata": {
    "collapsed": false
   },
   "source": [
    "**How It Works**\n",
    ">4. `pass` 문은 빈 블록을 나타내기 위해 사용\n"
   ]
  },
  {
   "attachments": {},
   "cell_type": "markdown",
   "metadata": {
    "collapsed": false
   },
   "source": [
    "#### 9) DocStrings 활용\n",
    "\n",
    "> 파이썬은 *documentation strings* (약자로 *docstrings*) 이라는 도구를 제공한다. \n",
    ">- *docstrings*은 함수 헤더와 함수 블록(바디) 사이에 적히는 삼중 따옴표(triple quotes)로 작성된 주석문을 의미한다.\n",
    ">- 해당 함수의 멤버 변수로 호출하거나 `help()` 메서드를 이용해서 내용을 참조할 수 있다.\n",
    "\n",
    "Example (save as `function_docstring.py`):\n"
   ]
  },
  {
   "cell_type": "code",
   "execution_count": 4,
   "metadata": {
    "collapsed": false
   },
   "outputs": [
    {
     "name": "stdout",
     "output_type": "stream",
     "text": [
      "\n",
      "    Prints the maximum of two numbers.\n",
      "    The two values must be integers.\n",
      "    \n",
      "Help on function print_max in module __main__:\n",
      "\n",
      "print_max(x, y)\n",
      "    Prints the maximum of two numbers.\n",
      "    The two values must be integers.\n",
      "\n",
      "5 is maximum\n"
     ]
    }
   ],
   "source": [
    "def print_max(x, y):\n",
    "    \"\"\"\n",
    "    Prints the maximum of two numbers.\n",
    "    The two values must be integers.\n",
    "    \"\"\"\n",
    "    # convert to integers, if possible\n",
    "    x = int(x)\n",
    "    y = int(y)\n",
    "\n",
    "    if x > y:\n",
    "        print(x, 'is maximum')\n",
    "    else:\n",
    "        print(y, 'is maximum')\n",
    "\n",
    "\n",
    "print(print_max.__doc__)\n",
    "\n",
    "help(print_max)\n",
    "\n",
    "print_max(3, '5')"
   ]
  },
  {
   "attachments": {},
   "cell_type": "markdown",
   "metadata": {
    "collapsed": false
   },
   "source": [
    "**How It Works**\n",
    "\n",
    ">1. 함수, 모듈, 클래스 블록의 첫 번째 논리적 한 줄 문장이 *docstring* 이다.\n",
    ">- 멀티 라인 주석문을 사용하면, 긴 설명문을 작성할 수 있다.\n",
    ">2. 함수의 `__doc__` attribute에 그 내용을 담는다.\n"
   ]
  },
  {
   "attachments": {},
   "cell_type": "markdown",
   "metadata": {
    "collapsed": false
   },
   "source": [
    "#### 10) 가변 길이 매개변수 (VarArgs parameters)\n",
    "\n",
    "> 별표시를 사용해서 **var**iable number of **arg**uments 를 구현할 수 있다\n",
    "\n",
    "Example (save as `function_varargs.py`):\n"
   ]
  },
  {
   "cell_type": "code",
   "execution_count": null,
   "metadata": {
    "collapsed": false
   },
   "outputs": [
    {
     "name": "stdout",
     "output_type": "stream",
     "text": [
      "a 10\n",
      "single_item 1\n",
      "single_item 2\n",
      "single_item 3\n",
      "Jack 1123\n",
      "John 2231\n",
      "Inge 1560\n"
     ]
    }
   ],
   "source": [
    "def total(a=5, *numbers, **phonebook):\n",
    "    print('a', a)\n",
    "\n",
    "    #iterate through all the items in tuple\n",
    "    for single_item in numbers:\n",
    "        print('single_item', single_item)\n",
    "\n",
    "    #iterate through all the items in dictionary\n",
    "    for first_part, second_part in phonebook.items():\n",
    "        print(first_part,second_part)\n",
    "\n",
    "total(10,1,2,3,Jack=1123,John=2231,Inge=1560)"
   ]
  },
  {
   "attachments": {},
   "cell_type": "markdown",
   "metadata": {
    "collapsed": false
   },
   "source": [
    "**How It Works**\n",
    "\n",
    ">1. `*number`가 선언되면, 모든 순서형 인자들이 `number` 튜플에 저장되어 호출된다.\n",
    ">2. `**phonebook`가 선언되면, 모든 키워드형 인자들을 `phonebook` 딕셔너리에 저장되어 호출된다.\n",
    ">3. 함수 호출시, 모든 순서형 인자들은 키워드형 인자들보다 앞에 입력되어야 한다."
   ]
  },
  {
   "attachments": {},
   "cell_type": "markdown",
   "metadata": {
    "collapsed": false
   },
   "source": [
    "## 실습\n",
    "[1] 두 양의 정수 a, b의 최소공배수를 계산하여 리턴하는 함수를 작성하고 이를 이용하여 0이 입력될 때까지 둘 이상의 임의의 개수의 양의 정수를 입력 받아 그 수들의 최소공배수를 출력하는 프로그램을 작성하시오. \n",
    "\n",
    "(Ex. 128 48 1024 0 -> 3072 / 128 48 1024 3072 0 -> 3072)\n",
    "\n"
   ]
  },
  {
   "cell_type": "code",
   "execution_count": 2,
   "metadata": {},
   "outputs": [
    {
     "name": "stdout",
     "output_type": "stream",
     "text": [
      "lcm([128, 48, 1024]) = 3072\n"
     ]
    }
   ],
   "source": [
    "import math\n",
    "\n",
    "data = []\n",
    "while True:\n",
    "    a = int(input('non-negative integer (0 to quit) :'))\n",
    "    if a == 0:\n",
    "        break\n",
    "    data.append(a)\n",
    "\n",
    "l = math.lcm(*data)\n",
    "\n",
    "print(f'lcm({data}) = {l}')"
   ]
  },
  {
   "cell_type": "markdown",
   "metadata": {},
   "source": [
    "[2] 복소수 z의 크기의 제곱을 리턴하는 함수를 작성하고 이를 이용하여 원점(0+0j)이 입력될 때까지 복소수를 입력 받은 후에 그 크기가 가장 큰 복소수를  출력하는 프로그램을 작성하시오. 단 크기가 같은 복소수가 여럿인 경우 그 중에서 실수부의 크기가 가장 작은 것을 출력하시오. 또한 가장 큰 크기를 갖는 복소수들 중에서 실수부가 가장 작은 것도 여럿일 경우에는 그 복소수들 중에서 가장 나중에 입력된 복소수를 출력하시오. \n",
    "\n",
    "(Ex. -5 -3+4j 5 4+3j 0 -> (-3+4j) / -5.0 -3-4j 5 4+3j 6+6j 1+1j 0 -> (6+6j)\n",
    "\n"
   ]
  },
  {
   "cell_type": "code",
   "execution_count": 4,
   "metadata": {},
   "outputs": [
    {
     "name": "stdout",
     "output_type": "stream",
     "text": [
      "(3-4j)\n"
     ]
    }
   ],
   "source": [
    "import math\n",
    "\n",
    "data = []\n",
    "while True:\n",
    "    a = complex(input('non-negative integer (0 to quit) :'))\n",
    "    if a == complex(0):\n",
    "        break\n",
    "    data.append(a)\n",
    "\n",
    "ans = data[0]\n",
    "for a in data[1:]:\n",
    "    if abs(a) > abs(ans):\n",
    "        ans = a\n",
    "    elif abs(a) == abs(ans) and abs(a.real) <= abs(ans.real):\n",
    "        ans = a\n",
    "\n",
    "print(ans)"
   ]
  },
  {
   "cell_type": "markdown",
   "metadata": {},
   "source": [
    "[3] 세 개의 수를 전달 받아 최소값, 중간값, 최대값의 순서대로 재배열한 튜플(tuple)을 반환하는 함수를 작성하고, 이를 이용해서 사용자로부터 0이 입력될 때까지 양수를 입력 받아 입력된 수중 최소값과 최대값을 출력하는 프로그램을 작성하라.\n",
    "- 작성된 함수에 DocString을 추가하라."
   ]
  },
  {
   "cell_type": "code",
   "execution_count": 5,
   "metadata": {
    "collapsed": false
   },
   "outputs": [
    {
     "name": "stdout",
     "output_type": "stream",
     "text": [
      "min = 1, max = 6\n"
     ]
    }
   ],
   "source": [
    "import math\n",
    "\n",
    "data = []\n",
    "while True:\n",
    "    a = int(input('non-negative integer (0 to quit) :'))\n",
    "    if a == 0:\n",
    "        break\n",
    "    data.append(a)\n",
    "\n",
    "data.sort()\n",
    "\n",
    "print(f'min = {data[0]}, max = {data[-1]}')"
   ]
  },
  {
   "attachments": {},
   "cell_type": "markdown",
   "metadata": {
    "collapsed": false
   },
   "source": [
    "[4] 전달되는 정수 x가 소수인지 여부(True/False)를 반환하는 is_prime(x) 함수를 작성하라. 또 이를 활용하여 전달되는 가변 개수의 정수 중에서 소수를 찾아 반환하는 함수를 작성하라. 이 함수들을 이용해서 30보다 작은 모든 소수를 출력하시오.\n"
   ]
  },
  {
   "cell_type": "code",
   "execution_count": 6,
   "metadata": {
    "collapsed": false
   },
   "outputs": [
    {
     "name": "stdout",
     "output_type": "stream",
     "text": [
      "2 3 4 5 7 11 13 17 19 23 29 "
     ]
    }
   ],
   "source": [
    "def is_prime(x):\n",
    "    \"\"\"x가 소수이면 그 소수를 반환하고, 그렇지 않으면 None을 반환하는 함수\"\"\"\n",
    "    if x < 2:  # 1은 소수가 아니다.\n",
    "        return None\n",
    "    for j in range(2,(x+1)//2):\n",
    "        if x%j == 0: # j(1보다 크고 x보다 작은 정수)가 x를 나누므로, x는 소수가 아니다.\n",
    "            return None\n",
    "    # x를 나누는 x보다 작은 정수가 없으므로, x는 소수이다.\n",
    "    return x\n",
    "#end of function\n",
    "\n",
    "\n",
    "for n in range(1, 30):\n",
    "    if is_prime(n) is not None:\n",
    "        print(n, end=' ')"
   ]
  }
 ],
 "metadata": {
  "kernelspec": {
   "display_name": "Python 3",
   "language": "python",
   "name": "python3"
  },
  "language_info": {
   "codemirror_mode": {
    "name": "ipython",
    "version": 3
   },
   "file_extension": ".py",
   "mimetype": "text/x-python",
   "name": "python",
   "nbconvert_exporter": "python",
   "pygments_lexer": "ipython3",
   "version": "3.11.0"
  },
  "vscode": {
   "interpreter": {
    "hash": "10340f3b4385e401792eeb44b8b5edca2cd8c002c17926bde515355c1d6e3c5e"
   }
  }
 },
 "nbformat": 4,
 "nbformat_minor": 0
}
