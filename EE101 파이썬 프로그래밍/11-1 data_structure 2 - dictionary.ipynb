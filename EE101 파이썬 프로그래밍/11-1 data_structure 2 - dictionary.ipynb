{
 "cells": [
  {
   "attachments": {},
   "cell_type": "markdown",
   "metadata": {
    "collapsed": false
   },
   "source": [
    "## 딕셔너리 (Dictionary)\n",
    "\n",
    "> *keys* (name)와 *values* (details)를 결합한 `dict` class. 예: `d = {key1 : value1, key2 : value2 }`\n",
    ">\n",
    "> 모든 키들은 서로 달라야(unique) 한다.\n",
    ">- `key`는 스트링과 같은 immutable object만 사용 가능하고, `value`는 mutable과 immutable object 모두 사용 가능\n",
    "\n",
    "\n",
    "#### 1) 딕셔너리 (Dictionanry) 의 개념 ~ \"서랍장\"\n",
    "\n",
    "서랍장 안에 들어 있는 책은 서랍별로 key(키)를 통해 접근이 가능하다.\n",
    "\n",
    "![딕셔너리의 개념](./img/concept_of_dictionary.png)\n",
    "\n",
    "- 딕서너리는 **key**에 **value**를 대응시키는 테이블이다.\n",
    "- 어떤 이름과 관련된 값들을 저장하고 참조하기 위한 편리한 방법\n",
    "- 서로 다른 유형의 key와 value들로 하나의 딕서너리를 구성하는 것도 가능하다.\n",
    "- 중괄호를 사용해서 딕셔너리를 선언한다.\n",
    "\n",
    "Example (save as `ds_using_dict.py`):\n"
   ]
  },
  {
   "cell_type": "code",
   "execution_count": 3,
   "metadata": {
    "collapsed": false
   },
   "outputs": [
    {
     "name": "stdout",
     "output_type": "stream",
     "text": [
      "Swaroop's address is swaroop@swaroopch.com\n",
      "\n",
      "There are 3 contacts in the address-book\n",
      "\n",
      "Contact Swaroop at swaroop@swaroopch.com\n",
      "Contact Larry at larry@wall.org\n",
      "Contact Matsumoto at matz@ruby-lang.org\n",
      "\n",
      "Guido's address is guido@python.org\n"
     ]
    }
   ],
   "source": [
    "# 'ab' is short for 'a'ddress'b'ook\n",
    "\n",
    "ab = {\n",
    "    'Swaroop': 'swaroop@swaroopch.com',\n",
    "    'Larry': 'larry@wall.org',\n",
    "    'Matsumoto': 'matz@ruby-lang.org',\n",
    "    'Spammer': 'spammer@hotmail.com'\n",
    "}\n",
    "\n",
    "print(\"Swaroop's address is\", ab['Swaroop'])\n",
    "\n",
    "# Deleting a key-value pair\n",
    "del ab['Spammer']\n",
    "\n",
    "print('\\nThere are {} contacts in the address-book\\n'.format(len(ab)))\n",
    "\n",
    "for name, address in ab.items():\n",
    "    print('Contact {} at {}'.format(name, address))\n",
    "\n",
    "# Adding a key-value pair\n",
    "ab['Guido'] = 'guido@python.org'\n",
    "\n",
    "if 'Guido' in ab:\n",
    "    print(\"\\nGuido's address is\", ab['Guido'])"
   ]
  },
  {
   "attachments": {},
   "cell_type": "markdown",
   "metadata": {
    "collapsed": false
   },
   "source": [
    "**How It Works**\n",
    "\n",
    ">1. key를 사용해서 아이템 인덱싱 가능\n",
    ">2. `in` 연산자와 `items()` 메서드를 이용해서 개별 아이템에 대한 접근\n",
    ">3. 새로운 아이템의 추가: ab['Guido'] = 'guido@python.org'\n",
    ">4. see `help(dict)`.\n",
    "\n",
    "**Keyword Arguments and Dictionaries**\n",
    "> 함수 호출 시 이용할 수 있는 키워드 인자는 딕셔너리의 한 예\n"
   ]
  },
  {
   "attachments": {},
   "cell_type": "markdown",
   "metadata": {
    "collapsed": false
   },
   "source": [
    "## 시퀀스 (Sequence, 수열)\n",
    "\n",
    "`Lists, tuples and strings` are examples of sequences, but what are sequences and what is so special about them?\n",
    "\n",
    "* Sequence class가 별도로 존재하는 것은 아님\n",
    "\n",
    "The major features are \n",
    "> `membership tests`, (i.e. the `in` and `not in` expressions) \n",
    ">\n",
    "> `indexing` *operations*, which allow us to fetch a particular item in the sequence directly.\n",
    ">\n",
    "> `slicing` *operations*, which allows us to retrieve a slice of the sequence i.e. a part of the sequence.\n",
    "\n",
    "Example (save as `ds_seq.py`):\n"
   ]
  },
  {
   "cell_type": "code",
   "execution_count": 2,
   "metadata": {
    "collapsed": false
   },
   "outputs": [
    {
     "name": "stdout",
     "output_type": "stream",
     "text": [
      "<class 'list'>\n",
      "Item 0 is apple\n",
      "Item 1 is mango\n",
      "Item 2 is carrot\n",
      "Item 3 is banana\n",
      "Item -1 is banana\n",
      "Item -2 is carrot\n",
      "Character 0 is s\n",
      "Item 1 to 3 is ['mango', 'carrot']\n",
      "Item 2 to end is ['carrot', 'banana']\n",
      "Item 1 to -1 is ['mango', 'carrot']\n",
      "Item start to end is ['apple', 'mango', 'carrot', 'banana']\n",
      "characters 1 to 3 is wa\n",
      "characters 2 to end is aroop\n",
      "characters 1 to -1 is waroo\n",
      "characters start to end is swaroop\n"
     ]
    }
   ],
   "source": [
    "shoplist = ['apple', 'mango', 'carrot', 'banana']\n",
    "name = 'swaroop'\n",
    "\n",
    "print(type(shoplist))\n",
    "\n",
    "# Indexing or 'Subscription' operation #\n",
    "print('Item 0 is', shoplist[0])\n",
    "print('Item 1 is', shoplist[1])\n",
    "print('Item 2 is', shoplist[2])\n",
    "print('Item 3 is', shoplist[3])\n",
    "print('Item -1 is', shoplist[-1])\n",
    "print('Item -2 is', shoplist[-2])\n",
    "print('Character 0 is', name[0])\n",
    "\n",
    "# Slicing on a list #\n",
    "print('Item 1 to 3 is', shoplist[1:3])\n",
    "print('Item 2 to end is', shoplist[2:])\n",
    "print('Item 1 to -1 is', shoplist[1:-1])\n",
    "print('Item start to end is', shoplist[:])\n",
    "\n",
    "# Slicing on a string #\n",
    "print('characters 1 to 3 is', name[1:3])\n",
    "print('characters 2 to end is', name[2:])\n",
    "print('characters 1 to -1 is', name[1:-1])\n",
    "print('characters start to end is', name[:])"
   ]
  },
  {
   "attachments": {},
   "cell_type": "markdown",
   "metadata": {
    "collapsed": false
   },
   "source": [
    "**How It Works**\n",
    "\n",
    ">1. _subscription operation_: 인덱스를 이용한 개별 아이템의 접근\n",
    ">2. 음수 인덱스\n",
    ">3. 스라이싱은 시퀀스의 슬라이스를 반환\n",
    ">4. `shoplist[:-1]` 는 마지막 아이템을 제외한 shoplist를 생성\n"
   ]
  },
  {
   "cell_type": "code",
   "execution_count": 6,
   "metadata": {
    "collapsed": false
   },
   "outputs": [
    {
     "name": "stdout",
     "output_type": "stream",
     "text": [
      "['apple', 'mango', 'carrot', 'banana']\n",
      "['apple', 'carrot']\n",
      "['apple', 'banana']\n",
      "['banana', 'carrot', 'mango', 'apple']\n"
     ]
    }
   ],
   "source": [
    "shoplist = ['apple', 'mango', 'carrot', 'banana']\n",
    "print(shoplist[::1])\n",
    "print(shoplist[::2])\n",
    "print(shoplist[::3])\n",
    "print(shoplist[::-1])"
   ]
  },
  {
   "attachments": {},
   "cell_type": "markdown",
   "metadata": {
    "collapsed": false
   },
   "source": [
    "## 집합 (Set)\n",
    "\n",
    "Sets are _unordered_ collections of simple objects. These are used when the existence of an object in a collection is more important than the order or how many times it occurs.\n",
    "\n",
    "* 집합 연산(교집합, 합집합, 부분집합 등)을 수행하려면 리스트를 `set` class로 변환하라.\n"
   ]
  },
  {
   "cell_type": "code",
   "execution_count": 11,
   "metadata": {
    "collapsed": false
   },
   "outputs": [
    {
     "name": "stdout",
     "output_type": "stream",
     "text": [
      "<class 'set'>\n",
      "['__and__', '__class__', '__class_getitem__', '__contains__', '__delattr__', '__dir__', '__doc__', '__eq__', '__format__', '__ge__', '__getattribute__', '__getstate__', '__gt__', '__hash__', '__iand__', '__init__', '__init_subclass__', '__ior__', '__isub__', '__iter__', '__ixor__', '__le__', '__len__', '__lt__', '__ne__', '__new__', '__or__', '__rand__', '__reduce__', '__reduce_ex__', '__repr__', '__ror__', '__rsub__', '__rxor__', '__setattr__', '__sizeof__', '__str__', '__sub__', '__subclasshook__', '__xor__', 'add', 'clear', 'copy', 'difference', 'difference_update', 'discard', 'intersection', 'intersection_update', 'isdisjoint', 'issubset', 'issuperset', 'pop', 'remove', 'symmetric_difference', 'symmetric_difference_update', 'union', 'update']\n",
      "True\n",
      "False\n",
      "True\n",
      "{'india', 'brazil'}\n"
     ]
    }
   ],
   "source": [
    "bri = set(['brazil', 'russia', 'india'])\n",
    "\n",
    "print(type(bri))\n",
    "print(dir(set))\n",
    "\n",
    "print('india' in bri)\n",
    "print('usa' in bri)\n",
    "bric = bri.copy()\n",
    "bric.add('china')\n",
    "print(bric.issuperset(bri))\n",
    "bri.remove('russia')\n",
    "print(bri & bric)"
   ]
  },
  {
   "attachments": {},
   "cell_type": "markdown",
   "metadata": {
    "collapsed": false
   },
   "source": [
    "**How It Works**\n",
    "\n",
    ">1. \"set theory\" and \"Venn diagram\"\n"
   ]
  },
  {
   "attachments": {},
   "cell_type": "markdown",
   "metadata": {
    "collapsed": false
   },
   "source": [
    "## References\n",
    "\n",
    "어떤 변수를 대입하는 대입문을 사용해서 새로운 인스턴스를 생성하면, 새 변수는 원래의 변수가 가리키는 객체에 단순히 *binding* 시킨다. (원래 변수 이름 이외에 하나의 이름을 더 갖게 하는 효과)\n",
    "\n",
    "바인딩된 객체와 원래의 변수는 컴퓨터의 동일한 메모리를 참조한다. \n",
    "\n",
    "Example (save as `ds_reference.py`):\n"
   ]
  },
  {
   "cell_type": "code",
   "execution_count": 8,
   "metadata": {
    "collapsed": false
   },
   "outputs": [
    {
     "name": "stdout",
     "output_type": "stream",
     "text": [
      "Simple Assignment\n",
      "shoplist의 메모리 주소 = 2368764107904\n",
      "mylist의 메모리 주소 = 2368764107904\n"
     ]
    }
   ],
   "source": [
    "print('Simple Assignment')\n",
    "shoplist = ['apple', 'mango', 'carrot', 'banana']\n",
    "# mylist is just another name pointing to the same object!\n",
    "mylist = shoplist\n",
    "\n",
    "print('shoplist의 메모리 주소 =', id(shoplist))\n",
    "print('mylist의 메모리 주소 =', id(mylist))\n"
   ]
  },
  {
   "cell_type": "code",
   "execution_count": 5,
   "metadata": {},
   "outputs": [
    {
     "name": "stdout",
     "output_type": "stream",
     "text": [
      "shoplist is ['mango', 'carrot', 'banana']\n",
      "mylist is ['mango', 'carrot', 'banana']\n"
     ]
    }
   ],
   "source": [
    "# I purchased the first item, so I remove it from the list\n",
    "del shoplist[0]\n",
    "\n",
    "print('shoplist is', shoplist)\n",
    "print('mylist is', mylist)\n",
    "# Notice that both shoplist and mylist both print\n",
    "# the same list without the 'apple' confirming that\n",
    "# they point to the same object\n"
   ]
  },
  {
   "cell_type": "code",
   "execution_count": 9,
   "metadata": {},
   "outputs": [
    {
     "name": "stdout",
     "output_type": "stream",
     "text": [
      "Copy by making a full slice\n",
      "shoplist의 메모리 주소 = 2368764107904\n",
      "mylist의 메모리 주소 = 2368764268416\n"
     ]
    }
   ],
   "source": [
    "print('Copy by making a full slice')\n",
    "# Make a copy by doing a full slice\n",
    "mylist = shoplist[:]\n",
    "\n",
    "print('shoplist의 메모리 주소 =', id(shoplist))\n",
    "print('mylist의 메모리 주소 =', id(mylist))"
   ]
  },
  {
   "cell_type": "code",
   "execution_count": 10,
   "metadata": {},
   "outputs": [
    {
     "name": "stdout",
     "output_type": "stream",
     "text": [
      "shoplist is ['apple', 'mango', 'carrot', 'banana']\n",
      "mylist is ['mango', 'carrot', 'banana']\n"
     ]
    }
   ],
   "source": [
    "# Remove first item\n",
    "del mylist[0]\n",
    "\n",
    "print('shoplist is', shoplist)\n",
    "print('mylist is', mylist)\n",
    "# Notice that now the two lists are different"
   ]
  },
  {
   "attachments": {},
   "cell_type": "markdown",
   "metadata": {
    "collapsed": false
   },
   "source": [
    "**How It Works**\n",
    "\n",
    ">1. 리스트의 복사본을 얻기 위해서는 *slicing* 연산을 활용하라!\n",
    ">2. 단순히 변수 자체를 대입하면 새로운 객체를 생성해서 내용을 복사하는 것이 아니라 동일한 객체에 *binding* 할 뿐이다.\n",
    "\n",
    "\n"
   ]
  }
 ],
 "metadata": {
  "kernelspec": {
   "display_name": "Python 3",
   "language": "python",
   "name": "python3"
  },
  "language_info": {
   "codemirror_mode": {
    "name": "ipython",
    "version": 3
   },
   "file_extension": ".py",
   "mimetype": "text/x-python",
   "name": "python",
   "nbconvert_exporter": "python",
   "pygments_lexer": "ipython3",
   "version": "3.11.0"
  },
  "vscode": {
   "interpreter": {
    "hash": "10340f3b4385e401792eeb44b8b5edca2cd8c002c17926bde515355c1d6e3c5e"
   }
  }
 },
 "nbformat": 4,
 "nbformat_minor": 0
}
