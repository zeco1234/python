{
 "cells": [
  {
   "attachments": {},
   "cell_type": "markdown",
   "metadata": {},
   "source": [
    "# 파이썬을 공학용 계산기로 사용하기"
   ]
  },
  {
   "attachments": {},
   "cell_type": "markdown",
   "metadata": {},
   "source": [
    "#### 1) Python에 내장된 함수\n",
    "> 다음의 함수들은 파이썬에 내장(built-in)되어 있다.\n",
    "- min, max\n",
    "- sum\n",
    "- abs\n",
    "- pow\n",
    "- round"
   ]
  },
  {
   "cell_type": "code",
   "execution_count": 1,
   "metadata": {},
   "outputs": [
    {
     "name": "stdout",
     "output_type": "stream",
     "text": [
      "15\n",
      "1\n",
      "4\n",
      "5.0 2\n",
      "16\n",
      "3 3.14\n"
     ]
    }
   ],
   "source": [
    "print(sum([1,2,3,4,5]))\n",
    "print(min(1,2,3,4))\n",
    "print(max(1,2,3,4))\n",
    "print(abs(3+4j), abs(-2))\n",
    "print(pow(2,4))\n",
    "print(round(3.141592), round(3.141592, 2))"
   ]
  },
  {
   "attachments": {},
   "cell_type": "markdown",
   "metadata": {},
   "source": [
    "#### 2) 내장 함수를 더 알아보는 법\n",
    "\n",
    "> 또 다른 내장 함수`dir()`를 활용하면 파이썬에 내장된 다른 함수들도 알 수 있다."
   ]
  },
  {
   "cell_type": "code",
   "execution_count": 7,
   "metadata": {},
   "outputs": [
    {
     "name": "stdout",
     "output_type": "stream",
     "text": [
      "['In', 'Out', '_', '__', '___', '__builtin__', '__builtins__', '__doc__', '__loader__', '__name__', '__package__', '__spec__', '__vsc_ipynb_file__', '_dh', '_i', '_i1', '_i2', '_i3', '_i4', '_i5', '_i6', '_i7', '_ih', '_ii', '_iii', '_oh', 'a', 'exit', 'get_ipython', 'math', 'open', 'os', 'p', 'quit', 'sys']\n",
      "['__abs__', '__add__', '__bool__', '__class__', '__complex__', '__delattr__', '__dir__', '__doc__', '__eq__', '__format__', '__ge__', '__getattribute__', '__getnewargs__', '__getstate__', '__gt__', '__hash__', '__init__', '__init_subclass__', '__le__', '__lt__', '__mul__', '__ne__', '__neg__', '__new__', '__pos__', '__pow__', '__radd__', '__reduce__', '__reduce_ex__', '__repr__', '__rmul__', '__rpow__', '__rsub__', '__rtruediv__', '__setattr__', '__sizeof__', '__str__', '__sub__', '__subclasshook__', '__truediv__', 'conjugate', 'imag', 'real']\n"
     ]
    }
   ],
   "source": [
    "print(dir())\n",
    "\n",
    "print(dir(complex))\n"
   ]
  },
  {
   "attachments": {},
   "cell_type": "markdown",
   "metadata": {},
   "source": [
    "#### 3) math 모듈에 포함된 주요 math 함수\n",
    "\n",
    "> math 패키지의 메서드들은 해석학의 기본이 되는 함수들로 구성되어 있다.\n",
    ">\n",
    "> 다음 함수들은 math 모듈을 import한 후 사용할 수 있는 주요 함수와 상수들이다.\n",
    "- ceil(), floor()\n",
    "- sqrt()\n",
    "- fabs()\n",
    "- pi, e, inf\n",
    "- exp()\n",
    "- log(), log10(), log2()\n",
    "- sin(), cos(), tan(), asin(), acos(), atan()\n",
    "- degrees(), radians()\n"
   ]
  },
  {
   "attachments": {},
   "cell_type": "markdown",
   "metadata": {},
   "source": [
    "(1) math 모듈의 import"
   ]
  },
  {
   "cell_type": "code",
   "execution_count": 20,
   "metadata": {},
   "outputs": [],
   "source": [
    "import math"
   ]
  },
  {
   "attachments": {},
   "cell_type": "markdown",
   "metadata": {},
   "source": [
    "(2) math 멤버 함수와 변수(상수)"
   ]
  },
  {
   "cell_type": "code",
   "execution_count": 21,
   "metadata": {},
   "outputs": [
    {
     "name": "stdout",
     "output_type": "stream",
     "text": [
      "['__doc__', '__loader__', '__name__', '__package__', '__spec__', 'acos', 'acosh', 'asin', 'asinh', 'atan', 'atan2', 'atanh', 'cbrt', 'ceil', 'comb', 'copysign', 'cos', 'cosh', 'degrees', 'dist', 'e', 'erf', 'erfc', 'exp', 'exp2', 'expm1', 'fabs', 'factorial', 'floor', 'fmod', 'frexp', 'fsum', 'gamma', 'gcd', 'hypot', 'inf', 'isclose', 'isfinite', 'isinf', 'isnan', 'isqrt', 'lcm', 'ldexp', 'lgamma', 'log', 'log10', 'log1p', 'log2', 'modf', 'nan', 'nextafter', 'perm', 'pi', 'pow', 'prod', 'radians', 'remainder', 'sin', 'sinh', 'sqrt', 'tan', 'tanh', 'tau', 'trunc', 'ulp']\n"
     ]
    }
   ],
   "source": [
    "print(dir(math))"
   ]
  },
  {
   "attachments": {},
   "cell_type": "markdown",
   "metadata": {},
   "source": [
    "(3) math 멤버 함수와 변수(상수)의 사용법(예)"
   ]
  },
  {
   "cell_type": "code",
   "execution_count": null,
   "metadata": {},
   "outputs": [],
   "source": [
    "import math\n",
    "\n",
    "print(math.ceil(3.141592), math.floor(3.141592))\n",
    "print(math.sqrt(2))\n",
    "print(math.fabs(-2))  # 복소수에 대한 절대값 계산은 지원하지 않는다.\n",
    "print(math.pi)\n",
    "print(math.exp(-1))\n",
    "print(math.e**-1)\n",
    "\n",
    "print(math.degrees(math.pi))\n",
    "print(math.radians(60)/math.pi, 'X pi radians')\n",
    "\n"
   ]
  },
  {
   "attachments": {},
   "cell_type": "markdown",
   "metadata": {
    "collapsed": false
   },
   "source": [
    "## 실습\n",
    "\n",
    "[1] 저항에서는 옴의 법칙이 성립한다: $V(전압) = RI(저항 \\times 전류)$. 또 저항에서 소모되는 전력을 P라 하면, 다음 관계식을 만족한다: $P = VI$. \n",
    "\n",
    "$10ohm$ 저항에서 소모되는 전력이 $20W$일 때, 저항에 흐르는 전류와 저항 양단에 걸리는 전압을 구하라.\n"
   ]
  },
  {
   "cell_type": "code",
   "execution_count": 2,
   "metadata": {},
   "outputs": [
    {
     "name": "stdout",
     "output_type": "stream",
     "text": [
      "I = 1.41 A\n",
      "V = 14.14 V\n"
     ]
    }
   ],
   "source": [
    "import math\n",
    "\n",
    "R = 10\n",
    "P = 20\n",
    "\n",
    "I = math.sqrt(P/R)\n",
    "V = R*I\n",
    "\n",
    "print(f'I = {I:0.2f} A')\n",
    "print(f'V = {V:0.2f} V')"
   ]
  },
  {
   "attachments": {},
   "cell_type": "markdown",
   "metadata": {},
   "source": [
    "[2] 사용자로부터 복소수를 직교좌표 형식으로 입력받아, 그 크기와 위상각을 출력하는 프로그램을 작성하라. 단 위상각은 degree ($\\degree$)로 나타내어라."
   ]
  },
  {
   "cell_type": "code",
   "execution_count": 5,
   "metadata": {},
   "outputs": [
    {
     "name": "stdout",
     "output_type": "stream",
     "text": [
      "(5+5j) = 7.07/_45.0\n"
     ]
    }
   ],
   "source": [
    "import math\n",
    "\n",
    "x = complex(input('복소수: '))\n",
    "\n",
    "# amplitude\n",
    "m = abs(x)\n",
    "# angle\n",
    "p = math.degrees(math.atan2(x.imag, x.real))\n",
    "\n",
    "print(x, '= {:0.2f}/_{:0.1f}'.format(m, p))\n"
   ]
  },
  {
   "attachments": {},
   "cell_type": "markdown",
   "metadata": {},
   "source": [
    "[3] $f(t)=10cos(377t) - 20sin(377t)$를 축약형 cosin 함수로 표현하라. 단,\n",
    "\n",
    "$cos(wt+\\theta) = cos(\\theta)cos(wt) - sin(\\theta)sin(wt)$"
   ]
  },
  {
   "cell_type": "code",
   "execution_count": 6,
   "metadata": {},
   "outputs": [
    {
     "name": "stdout",
     "output_type": "stream",
     "text": [
      "22.36 * cos(377t+63.4)\n"
     ]
    }
   ],
   "source": [
    "import math\n",
    "\n",
    "a = math.sqrt(10**2 + (-20)**2)\n",
    "p = math.degrees(math.atan2(-20,10))\n",
    "\n",
    "print('{:0.2f} * cos(377t+{:0.1f})'.format(a,-p))"
   ]
  },
  {
   "attachments": {},
   "cell_type": "markdown",
   "metadata": {},
   "source": [
    "[4] $f(t)=20cos(377t-45\\degree)$를 $Acos(377t)+Bsin(377t)$로 나타내어라."
   ]
  },
  {
   "cell_type": "code",
   "execution_count": 9,
   "metadata": {},
   "outputs": [
    {
     "name": "stdout",
     "output_type": "stream",
     "text": [
      "14.14cos(377t)+14.14sin(377t)\n"
     ]
    }
   ],
   "source": [
    "import math\n",
    "\n",
    "r = 20\n",
    "p = 45\n",
    "A = 20*math.cos(math.radians(p))\n",
    "B = 20*math.sin(math.radians(p))\n",
    "\n",
    "print('{:0.2f}cos(377t)+{:0.2f}sin(377t)'.format(A,B))"
   ]
  }
 ],
 "metadata": {
  "kernelspec": {
   "display_name": "Python 3.11.0 64-bit",
   "language": "python",
   "name": "python3"
  },
  "language_info": {
   "codemirror_mode": {
    "name": "ipython",
    "version": 3
   },
   "file_extension": ".py",
   "mimetype": "text/x-python",
   "name": "python",
   "nbconvert_exporter": "python",
   "pygments_lexer": "ipython3",
   "version": "3.11.0 (main, Oct 24 2022, 18:26:48) [MSC v.1933 64 bit (AMD64)]"
  },
  "vscode": {
   "interpreter": {
    "hash": "10340f3b4385e401792eeb44b8b5edca2cd8c002c17926bde515355c1d6e3c5e"
   }
  }
 },
 "nbformat": 4,
 "nbformat_minor": 0
}
