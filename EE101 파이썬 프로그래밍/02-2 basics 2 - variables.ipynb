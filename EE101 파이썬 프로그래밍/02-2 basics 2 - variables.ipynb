{
 "cells": [
  {
   "attachments": {},
   "cell_type": "markdown",
   "metadata": {
    "collapsed": false
   },
   "source": [
    "## 변수 (Variables)\n",
    "\n",
    "데이터를 저장할 수 있도록 할당된 메모리 공간(의 일부)\n",
    "\n",
    "특정 이름(변수명, _identifiers_)을 지정해서 이 공간에 접근한다.\n",
    "\n",
    "> 변수를 사용하는 방법\n",
    "- 변수는 데이터를 저장하고, 그 값을 직관적으로 참조할 수 있도록 하는 용도로 사용한다.\n",
    "- 변수의 선언은 데이터 저장이 필요할 때:   `변수의 이름 = 객체(상수 또는 다른 변수)`\n",
    "- 변수의 이름을 가지고 그 값을 불러와서 사용할 수 있다.\n",
    "- 변수에 새로운 값을 입력하는 방법은 변수를 선언하는 것과 같다."
   ]
  },
  {
   "attachments": {},
   "cell_type": "markdown",
   "metadata": {
    "collapsed": false
   },
   "source": [
    "### 1) Identifier 작명법\n",
    "\n",
    "- 문자 또는 밑줄로 시작 (uppercase ASCII or lowercase ASCII or Unicode character or an underscore (`_`).\n",
    "- 이후는 문자 또는 숫자 (uppercase ASCII or lowercase ASCII or Unicode character, underscores (`_`) or digits (0-9).\n",
    "- 대소문자를 구분한다. For example, `myname` and `myName` are _not_ the same. Note the lowercase `n` in the former and the uppercase `N` in the latter.\n",
    "- _valid_ : `i`, `name_2_3`\n",
    "- _invalid_ : `2things`, `this is spaced out`, `my-name` and `>a1b2_c3`.\n"
   ]
  },
  {
   "attachments": {},
   "cell_type": "markdown",
   "metadata": {
    "collapsed": false
   },
   "source": [
    "### 2) 자료형 (Data Types)\n",
    "\n",
    "파이썬은 integer, float, complex, bool, string를 기본 자료형으로 제공한다.\n",
    "\n",
    "- <font color='orangered'>integer</font>\n",
    "\n",
    ">- 정수끼리 더하거나 곱하거나 빼면 정수\n",
    ">- 정수끼리 나누면 실수\n",
    ">- 정수로 나누어 그 몫을 구하려면 <font color='red'>//</font>, 나머지를 구하려면 <font color='red'>%</font> 연산자를 이용\n",
    ">- 실수를 정수로 바꾸려면 int()를 이용해서 casting\n",
    "\n",
    "- <font color='orangered'>float</font>\n",
    "\n",
    ">- 어느정도의 계산 정확도는 가지지만, 계산에 있어서 완벽한 정확성은 가지지 않는다.\n",
    ">- 정수를 실수로 바꾸려면 float() 사용해서 casting\n",
    "\n",
    "- <font color='orangered'>complex</font>\n",
    "\n",
    ">-  허수부를 나타내기 위해 `상수 뒤에` _j_ 를 덧붙이는 형태로 복소수를 표현한다.\n",
    "\n",
    "- <font color='orangered'>bool</font>\n",
    "\n",
    ">- `TRUE` 와 `FALSE` 중의 하나를 값으로 가지는 데이터\n"
   ]
  },
  {
   "attachments": {},
   "cell_type": "markdown",
   "metadata": {
    "collapsed": false
   },
   "source": [
    "### 3) 객체(Object)\n",
    "\n",
    "파이썬은 모든 것이 객체(_object_)로 구성된다. \n",
    "\n",
    "임의의 객체는 숫자와 문자열과 함수를 포함하고 있다.\n",
    "\n"
   ]
  },
  {
   "attachments": {},
   "cell_type": "markdown",
   "metadata": {
    "collapsed": false
   },
   "source": [
    "# 파이썬 프로그래밍 작성 Tip\n",
    "\n",
    "### 1) 변수와 상수를 활용해서 데이터를 처리\n",
    "\n",
    "> 사용자 입력 받아 변수에 저장하기: `input()`\n",
    ">\n",
    ">- `input()` 메서드는 사용자가 ENTER 키를 입력하기 전까지 키보드에서 입력하는 문자를 문자열(string)로 구성해서 반환한다. \n",
    ">- string이 아닌 다른 데이터 타입의 데이터 입력을 처리하려면 input() 함수의 반환 값을 casting하면 된다.\n",
    ">- `input()` 메서드는 간단한 prompt 기능을 제공한다\n",
    "\n",
    "Example: `var.py`"
   ]
  },
  {
   "cell_type": "code",
   "execution_count": 3,
   "metadata": {
    "collapsed": false
   },
   "outputs": [
    {
     "name": "stdout",
     "output_type": "stream",
     "text": [
      "7\n",
      "8\n",
      "This is a multi-line string.\n",
      "This is the second line.\n"
     ]
    }
   ],
   "source": [
    "# Filename : var.py\n",
    "i = int(input('정수를 입력하세요:')) # int() 함수는 str을 int로 변환\n",
    "print(i)\n",
    "i = i + 1\n",
    "print(i)\n",
    "\n",
    "s = '''This is a multi-line string.\n",
    "This is the second line.'''\n",
    "print(s)"
   ]
  },
  {
   "attachments": {},
   "cell_type": "markdown",
   "metadata": {
    "collapsed": false
   },
   "source": [
    "**How It Works**\n",
    "\n",
    ">1. 사용자로부터 정수를 입력받아 변수 `i`에 저장(할당,대입)한다: assignment operator (`=`)\n",
    ">2. `i`의 값을 스크린에 출력한다. \n",
    ">3. `i`의 값에 `1` 을 더한 후 다시 `i` 에 저장한다. \n",
    ">4. `i`의 값을 스크린에 출력한다. \n",
    ">5. 문자열 상수를 `s`에 할당한다.\n",
    ">6. `s`의 내용을 스크린에 출력한다.\n",
    "\n",
    "- 변수는 값을 할당하면서 사용이 시작된다. 파이썬에서는 자료형에 대한 정의가 필요하지 않다.\n",
    "\n"
   ]
  },
  {
   "attachments": {},
   "cell_type": "markdown",
   "metadata": {
    "collapsed": false
   },
   "source": [
    "### 2) Logical And Physical Line\n",
    "\n",
    "`논리적 한 줄` = 하나의 명령문\n",
    "\n",
    "하나의 줄에는 `논리적 한 줄`(하나의 명령문)만 작성하는 것이 원칙(규범)이다.\n",
    "\n",
    "만일 여러 개의 명령문을 한 줄에 작성하려면, 명령문 사이를 세미콜론(`;`)으로 구분해야 한다.\n",
    "\n",
    "하나의 명령문이 물리적으로 여러 줄에 걸쳐서 작성되어야 하는 경우에는 이어질 문장의 끝에 백스래시(`\\`) 삽입: explicit line joining \n",
    "\n",
    "For example:\n"
   ]
  },
  {
   "cell_type": "code",
   "execution_count": 1,
   "metadata": {
    "collapsed": false
   },
   "outputs": [
    {
     "name": "stdout",
     "output_type": "stream",
     "text": [
      "5\n",
      "5\n",
      "5\n",
      "This is a string. This continues the string.\n"
     ]
    }
   ],
   "source": [
    "i = 5\n",
    "print(i)\n",
    "i = 5; print(i);  # not recommended\n",
    "i = 5; print(i)   # not recommended \n",
    "s = 'This is a string. \\\n",
    "This continues the string.'\n",
    "print(s)"
   ]
  },
  {
   "attachments": {},
   "cell_type": "markdown",
   "metadata": {
    "collapsed": false
   },
   "source": [
    "### 3) 들여쓰기 (Indentation)와 블록 (Block)\n",
    " \n",
    "들여쓰기 (_indentation_: *whitespace at the beginning of the line*) \n",
    "- 파이썬에서 들여쓰기는 매우 중요한 기능을 한다.\n",
    "- 보통 4개의 공란(space) 사용 (파이썬의 공식 규범)\n",
    "\n",
    "블록 (_block_: 동일한 들여쓰기 수준으로 묶인 명령어 순서열)\n",
    "- 함께 실행 되는 하나의 코드 덩어리\n",
    "- 들여쓰기로 블럭을 구분한다.\n",
    "- 들여쓰기가 어긋나면 오류가 발생한다.\n",
    "- 블럭 안에 다른 블럭이 들어갈 수 있다.\n",
    "- 내부의 블럭은 외부의 블럭에 종속적\n",
    "- 파이썬 코드 전체를 하나의 블럭으로 볼 수 있다.\n",
    "\n",
    "For example:\n"
   ]
  },
  {
   "cell_type": "code",
   "execution_count": 4,
   "metadata": {
    "collapsed": false
   },
   "outputs": [
    {
     "ename": "IndentationError",
     "evalue": "unexpected indent (128197858.py, line 3)",
     "output_type": "error",
     "traceback": [
      "\u001b[1;36m  Cell \u001b[1;32mIn [4], line 3\u001b[1;36m\u001b[0m\n\u001b[1;33m    print('Value is', i)\u001b[0m\n\u001b[1;37m    ^\u001b[0m\n\u001b[1;31mIndentationError\u001b[0m\u001b[1;31m:\u001b[0m unexpected indent\n"
     ]
    }
   ],
   "source": [
    "i = 5\n",
    "# Error below! Notice a single space at the start of the line\n",
    " print('Value is', i)\n",
    "print('I repeat, the value is', i)"
   ]
  },
  {
   "attachments": {},
   "cell_type": "markdown",
   "metadata": {
    "collapsed": false
   },
   "source": [
    "## 실습\n",
    "\n"
   ]
  },
  {
   "attachments": {},
   "cell_type": "markdown",
   "metadata": {},
   "source": [
    "[1] 사용자로부터 두 개의 실수를 입력 받아 평균을 구하는 프로그램을 작성하라.\n",
    "\n",
    "(Ex. 2 4 -> 3 / 5 6.0 -> 5.5)\n",
    "\n"
   ]
  },
  {
   "cell_type": "code",
   "execution_count": 9,
   "metadata": {},
   "outputs": [
    {
     "name": "stdout",
     "output_type": "stream",
     "text": [
      "평균(6,7) = 6.5\n"
     ]
    }
   ],
   "source": [
    "a = float(input('실수를 입력하시오:'))  # 첫 번째로 입력된 string을 실수(float)로 변환해서 a에 저장\n",
    "b = float(input('실수를 입력하시오:'))  # 두 번째로 입력된 string을 실수(float)로 변환해서 b에 저장\n",
    "\n",
    "''' 아래 built-in 함수를 대체하는 block을 작성하라'''\n",
    "avg = sum([a,b])/2 # built-in function sum()\n",
    "\n",
    "print(f\"평균({a:g},{b:g}) = {avg:g}\")"
   ]
  },
  {
   "attachments": {},
   "cell_type": "markdown",
   "metadata": {},
   "source": [
    "[2] 두 정수를 입력받아 첫번째 정수를 두번째 정수로 나눈 몫과 나머지를 구하여 출력하라.\n",
    "\n",
    "(Ex 6 3 -> 2 0 / 7 5 -> 1 2)\n",
    "\n"
   ]
  },
  {
   "cell_type": "code",
   "execution_count": 12,
   "metadata": {},
   "outputs": [
    {
     "name": "stdout",
     "output_type": "stream",
     "text": [
      "몫 = 1, 나머지 = 2\n"
     ]
    }
   ],
   "source": [
    "n = int(input('정수'))  # 첫 번째로 입력된 string을 정수(int)로 변환해서 변수 n에 저장\n",
    "k = int(input('정수'))  # 두 번째로 입력된 string을 정수(int)로 변환해서 변수 k에 저장\n",
    "\n",
    "''' 아래 built-in 함수를 대체하는 block을 작성하라'''\n",
    "div, mod = divmod(n,k)\n",
    "\n",
    "print(\"몫 = {}, 나머지 = {}\".format(div, mod))"
   ]
  },
  {
   "cell_type": "markdown",
   "metadata": {},
   "source": [
    "[3] 원의 반지름을 실수 형식으로 입력하면 그 원의 면적을 구하여 소수점 둘째 자리로 반올림하여 출력하는 프로그램을 작성하라. (원주율은 3.141592로 하여 계산하라.)\n",
    "\n",
    "(Ex: 5 -> 78.54 / 7 -> 153.94)\n",
    "\n"
   ]
  },
  {
   "cell_type": "code",
   "execution_count": 14,
   "metadata": {},
   "outputs": [
    {
     "name": "stdout",
     "output_type": "stream",
     "text": [
      "area = 153.94\n"
     ]
    }
   ],
   "source": [
    "pi = 3.141592\n",
    "\n",
    "r = float(input('반지름 :'))\n",
    "\n",
    "''' 아래 built-in 함수를 대체하는 block을 작성하라'''\n",
    "area = pi*pow(r,2)\n",
    "\n",
    "print(f'area = {area:0.2f}')"
   ]
  },
  {
   "attachments": {},
   "cell_type": "markdown",
   "metadata": {},
   "source": [
    "[4] 사용자로부터 하나의 복소수를 입력받아, 그 크기의 제곱을 구하는 프로그램을 작성하라.\n",
    "\n",
    "Ex   1+2j -> 5\n"
   ]
  },
  {
   "cell_type": "code",
   "execution_count": 18,
   "metadata": {
    "collapsed": false
   },
   "outputs": [
    {
     "name": "stdout",
     "output_type": "stream",
     "text": [
      "복소수 (3+4j)의 크기의 제곱 = 25\n"
     ]
    }
   ],
   "source": [
    "z = complex(input('complex:')) # 키보드로 입력된 string을 복소수(complex)로 변환해서 c에 저장\n",
    "\n",
    "''' 아래 built-in 함수를 대체하는 block을 작성하라'''\n",
    "a1 = pow(abs(z),2)  # 내장함수 abs()는 복소수의 크기를 반환하는 함수이다.\n",
    "\n",
    "print('복소수 {}의 크기의 제곱 = {:g}'.format(z, a1))"
   ]
  },
  {
   "cell_type": "markdown",
   "metadata": {
    "collapsed": false
   },
   "source": [
    "[5] 사용자로부터 2차원 좌표를 나타내는 두 개의 실수를 입력받아, 그 좌표와 원점으로부터의 거리를 구하는 프로그램을 작성하라."
   ]
  },
  {
   "cell_type": "code",
   "execution_count": 19,
   "metadata": {},
   "outputs": [
    {
     "name": "stdout",
     "output_type": "stream",
     "text": [
      "좌표 (3,-4)와 원점 (0,0)과의 거리 = 5\n"
     ]
    }
   ],
   "source": [
    "x = float(input('x 좌표 :'))\n",
    "y = float(input('y 좌표 :'))\n",
    "\n",
    "''' 아래 built-in 함수를 대체하는 block을 작성하라\n",
    "    math 패키지를 import하고, math.sqrt() 메서드를 활용하라.\n",
    "'''\n",
    "a1 = abs(x + y*1j)  # x를 실수부, y를 허수부로 하는 복소평면 위의 한 점이 원점에 이르는 거리를 계산한다.\n",
    "\n",
    "print('좌표 ({:g},{:g})와 원점 (0,0)과의 거리 = {:g}'.format(x,y,a1))"
   ]
  }
 ],
 "metadata": {
  "kernelspec": {
   "display_name": "Python 3.11.0 64-bit",
   "language": "python",
   "name": "python3"
  },
  "language_info": {
   "codemirror_mode": {
    "name": "ipython",
    "version": 3
   },
   "file_extension": ".py",
   "mimetype": "text/x-python",
   "name": "python",
   "nbconvert_exporter": "python",
   "pygments_lexer": "ipython3",
   "version": "3.11.0"
  },
  "vscode": {
   "interpreter": {
    "hash": "10340f3b4385e401792eeb44b8b5edca2cd8c002c17926bde515355c1d6e3c5e"
   }
  }
 },
 "nbformat": 4,
 "nbformat_minor": 0
}
