{
 "cells": [
  {
   "attachments": {},
   "cell_type": "markdown",
   "metadata": {
    "collapsed": false
   },
   "source": [
    "# 흐름 제어\n",
    "\n",
    "프로그램 명령어 실행을 탑-다운 순서가 아닌 다른 순서로 변경하고자 할 때\n",
    "\n",
    "조건(상태)에 따라 서로 다른 명령을 실행하고자 할 때\n",
    "\n",
    "흐름 제어문 (control flow statements)을 통해 구현 \n",
    "\n",
    "파이썬의 흐름 제어 문장은 3 가지 - `if`, `for` and `while`.\n"
   ]
  },
  {
   "attachments": {},
   "cell_type": "markdown",
   "metadata": {
    "collapsed": false
   },
   "source": [
    "## `if` 문\n",
    "\n",
    "> `if` 문은 조건 검사에 사용: 만일(*if*) 조건이 `True`, _if-block_ 을 실행하고, 그렇지 않으면(*else*) _else-block_ 을 실행한다. \n",
    ">\n",
    "> 단, *else* 구절 사용은 선택적이다.\n",
    "\n",
    "예 (`if.py`):\n"
   ]
  },
  {
   "cell_type": "code",
   "execution_count": 1,
   "metadata": {
    "collapsed": false
   },
   "outputs": [
    {
     "name": "stdout",
     "output_type": "stream",
     "text": [
      "No, it is a little lower than that\n",
      "Done\n"
     ]
    }
   ],
   "source": [
    "number = 0\n",
    "guess = int(input('Enter \"0\" or \"1\" or \"2\": '))\n",
    "\n",
    "if guess == number:\n",
    "    # New block starts here\n",
    "    print('Congratulations, you guessed it.')\n",
    "    # New block ends here\n",
    "elif guess < number:\n",
    "    # Another block\n",
    "    print('No, it is a little higher than that')\n",
    "    # You can do whatever you want in a block ...\n",
    "else:\n",
    "    print('No, it is a little lower than that')\n",
    "    # you must have guessed > number to reach here2\n",
    "\n",
    "print('Done')\n",
    "# This last statement is always executed,\n",
    "# after the if statement is executed."
   ]
  },
  {
   "attachments": {},
   "cell_type": "markdown",
   "metadata": {
    "collapsed": false
   },
   "source": [
    "**How It Works**\n",
    "\n",
    ">1. 변수 `number`에 `0`을 대입 \n",
    ">2. `input()`를 활용해서 사용자로부터 정수를 입력받아 변수 `guess`에 저장\n",
    ">3. `if` 조건을 만족하면 (`number`와 `guess`의 값이 일치하면), 축하 문장을 출력\n",
    ">4. `elif` 조건을 만족하면 (`if` 조건을 만족하지 않고 `guess`가 `number`보다 작으면), 'higher' 메시지를 출력 (생략 가능)\n",
    ">5. `else` (그렇지 않으면), 'lower' 메시지를 출력 (생략 가능)\n",
    ">6. 어느 블록이던 실행하고 나면 if 구절 바깥의 첫 문장의 실행으로 옮겨간다.\n",
    "\n"
   ]
  },
  {
   "cell_type": "code",
   "execution_count": 2,
   "metadata": {
    "collapsed": false
   },
   "outputs": [
    {
     "name": "stdout",
     "output_type": "stream",
     "text": [
      "Yes, it is true\n"
     ]
    }
   ],
   "source": [
    "if True:\n",
    "    print('Yes, it is true')"
   ]
  },
  {
   "attachments": {},
   "cell_type": "markdown",
   "metadata": {
    "collapsed": false
   },
   "source": [
    "## 조건\n",
    "\n",
    "> 숫자 비교를 위한 연산자 이용: `<, >, <=, >=, ==, !=`\n",
    "> \n",
    "> 비교의 결과는 `True` 또는 `False`\n",
    "- `a == b` : 두 객체가 같은 값인가를 검사\n",
    "- `a is b` : 두 객체가 동일한 것인지를 검사\n",
    "- `a in b` : 컨테이너 b가 a를 포함하고 있는지를 검사. b가 dictionary인 경우에는 b의 key 중에 a가 있는지를 검사\n",
    ">\n",
    "> BOOLEAN 연산\n",
    "- `and` : 두 조건이 모두 참인지를 체크\n",
    "- `or` : 두 조건 중 하나라도 참이다\n",
    "- `not` : True/False를 뒤집기 위해 사용"
   ]
  },
  {
   "attachments": {},
   "cell_type": "markdown",
   "metadata": {
    "collapsed": false
   },
   "source": [
    "## 실습\n",
    "[1] 사용자로부터 정수 하나를 입력받아, 입력한 정수가 짝수인지 홀수인지를 판별하여 출력하라.\n"
   ]
  },
  {
   "cell_type": "code",
   "execution_count": 1,
   "metadata": {},
   "outputs": [
    {
     "name": "stdout",
     "output_type": "stream",
     "text": [
      "9 is odd\n"
     ]
    }
   ],
   "source": [
    "# hint : 어떤 정수가 짝수이면 2로 나눈 나머지가 0, 홀수이면 1\n",
    "number = int(input('정수:'))\n",
    "\n",
    "if number % 2 == 0:\n",
    "    print('{} is even'.format(number))\n",
    "else:\n",
    "    print('{} is odd'.format(number))"
   ]
  },
  {
   "cell_type": "markdown",
   "metadata": {},
   "source": [
    "[2] 입력된 실수의 절대값을 출력하는 프로그램을 작성하시오.\n",
    "\n",
    "(Ex. -100 -> 100 / -10.5 -> 10.5)\n",
    "\n"
   ]
  },
  {
   "cell_type": "code",
   "execution_count": 4,
   "metadata": {},
   "outputs": [
    {
     "name": "stdout",
     "output_type": "stream",
     "text": [
      "Abs(-10.5) = 10.5\n"
     ]
    }
   ],
   "source": [
    "# hint : 음수와 양수로 구분하여 절대값 계산 방법을 달리 적용한다.\n",
    "number = float(input('실수:'))\n",
    "\n",
    "ans = abs(number) # built-in abs()\n",
    "\n",
    "print('Abs({:g}) = {:g}'.format(number, ans))  "
   ]
  },
  {
   "cell_type": "markdown",
   "metadata": {},
   "source": [
    "[3] 입력된 두 정수 중에서 절대값이 작은 정수를 출력하는 프로그램을 작성하시오. \n",
    "\n",
    "(Ex. 10 -3 -> -3 / 3 -10 -> 3)\n",
    "\n"
   ]
  },
  {
   "cell_type": "code",
   "execution_count": 4,
   "metadata": {},
   "outputs": [
    {
     "name": "stdout",
     "output_type": "stream",
     "text": [
      "-5.0와 6.0 중에서 -5.0의 절대값이 더 작다\n"
     ]
    }
   ],
   "source": [
    "# hint : 양수와 양수, 양수와 음수, 음수와 양수, 음수와 음수의 절대값을 서로 비교한다.\n",
    "number1 = float(input('정수:'))\n",
    "number2 = float(input('정수:'))\n",
    "\n",
    "print('{}와 {} 중에서'.format(number1,number2), end=' ')\n",
    "if abs(number1) <= abs(number2):  # built-in abs()\n",
    "    print('{}의 절대값이 더 작다'.format(number1))\n",
    "else:\n",
    "    print('{}의 절대값이 더 작다'.format(number2))"
   ]
  },
  {
   "cell_type": "markdown",
   "metadata": {},
   "source": [
    "[4] 입력된 세 실수의 최대값과 최소값을 출력하는 프로그램을 작성하시오. \n",
    "\n",
    "(Ex. 1 3 -6 -> 3 -6 / 3.5 1.5 -6.5 -> 3.5 -6.5)\n",
    "\n"
   ]
  },
  {
   "cell_type": "code",
   "execution_count": 5,
   "metadata": {},
   "outputs": [
    {
     "name": "stdout",
     "output_type": "stream",
     "text": [
      "max = 3.0, min = -6.0\n"
     ]
    }
   ],
   "source": [
    "# hint : 세 수 a,b,c의 최대값을 a라고 놓고, 이 판단이 잘못된 경우 수정한다.\n",
    "a = float(input('정수:'))\n",
    "b = float(input('정수:'))\n",
    "c = float(input('정수:'))\n",
    "\n",
    "abc = [a,b,c] # a.b.c를 원소로 하는 list (다음에 학습한다.)\n",
    "maximum = max(abc) # built-in max(), min()\n",
    "minimum = min([a,b,c])\n",
    "\n",
    "print(f'max = {maximum}, min = {minimum}')"
   ]
  },
  {
   "cell_type": "markdown",
   "metadata": {},
   "source": [
    "[5] 입력된 세 정수의 중간값과 평균값을 출력하는 프로그램을 작성하시오.\n",
    "\n",
    "(Ex. 1 3 -6 -> 1 -0.666667 / 6 -2 -1 -> -1 1)\n",
    "\n"
   ]
  },
  {
   "cell_type": "code",
   "execution_count": 12,
   "metadata": {},
   "outputs": [
    {
     "name": "stdout",
     "output_type": "stream",
     "text": [
      "[-6, 1, 3]\n",
      "median = 1, average = -0.666667\n"
     ]
    }
   ],
   "source": [
    "# hint : 중간값을 세 수를 크기 순으로 나열(정렬)할 때 중간 순위에 해당하는 수를 의미하고, \n",
    "#        평균값으로는 세 수를 더한 후 3으로 나눈 \"산술 평균\"을 계산한다.\n",
    "import math\n",
    "\n",
    "a = int(input('정수:'))\n",
    "b = int(input('정수:'))\n",
    "c = int(input('정수:'))\n",
    "\n",
    "abc = [a,b,c] # list\n",
    "abc.sort()  # abc = sorted(abc)  # built-in function\n",
    "\n",
    "print('median = {}, average = {:g}'.format(abc[1],sum(abc)/3)) # built-in sum()"
   ]
  }
 ],
 "metadata": {
  "kernelspec": {
   "display_name": "Python 3.11.0 64-bit",
   "language": "python",
   "name": "python3"
  },
  "language_info": {
   "codemirror_mode": {
    "name": "ipython",
    "version": 3
   },
   "file_extension": ".py",
   "mimetype": "text/x-python",
   "name": "python",
   "nbconvert_exporter": "python",
   "pygments_lexer": "ipython3",
   "version": "3.11.0 (main, Oct 24 2022, 18:26:48) [MSC v.1933 64 bit (AMD64)]"
  },
  "vscode": {
   "interpreter": {
    "hash": "10340f3b4385e401792eeb44b8b5edca2cd8c002c17926bde515355c1d6e3c5e"
   }
  }
 },
 "nbformat": 4,
 "nbformat_minor": 0
}
