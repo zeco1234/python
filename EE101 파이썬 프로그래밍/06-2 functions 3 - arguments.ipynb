{
 "cells": [
  {
   "attachments": {},
   "cell_type": "markdown",
   "metadata": {
    "collapsed": false
   },
   "source": [
    "# 함수\n",
    "\n",
    "#### 6) 디폴트 인자 값(Default Argument Values)을 정해두는 법\n",
    "\n",
    "> 어떤 매개변수는 함수 호출 시 선택적으로 인수를 입력하게 할 수 있다.\n",
    ">- 인수가 전달되지 않는 경우에는 매개변수는 미리 정해둔 디폴트 값으로 지정된다.\n",
    "> 함수 정의할 때, 매개변수 다음에 대입 연산자(`=`)와 디폴트 값을 적어주면 해당 매개변수의 디폴트 인자 값이 설정된다.\n",
    ">- 디폴트 인자 값은 상수(*immutable*)여야 한다.\n",
    "\n",
    "Example (save as `function_default.py`):\n"
   ]
  },
  {
   "cell_type": "code",
   "execution_count": 1,
   "metadata": {
    "collapsed": false
   },
   "outputs": [
    {
     "name": "stdout",
     "output_type": "stream",
     "text": [
      "Hello \n",
      "World World World World World \n"
     ]
    }
   ],
   "source": [
    "def say(message, times=1):\n",
    "    # message와 times는 'parameter(매개변수)'라 불리는 local variable\n",
    "    print(message * times)\n",
    "\n",
    "# 'Hello '와 '5' 는 'argument(전달인자)'라 한다. \n",
    "say('Hello ')\n",
    "say('World ', 5)"
   ]
  },
  {
   "attachments": {},
   "cell_type": "markdown",
   "metadata": {
    "collapsed": false
   },
   "source": [
    "**How It Works**\n",
    "\n",
    ">1. 첫번째 호출에서 두번째 인자가 생략된채 호출되었으므로, 매개변수 times는 디폴트 값이 1로 지정된다\n",
    ">2. 두번쨰 호출에서는 두번째 인자로 `5`입력되었으므로, 매개변수 times의 초기값은 5로 지정된다.\n",
    "\n",
    "> 주의(*CAUTION*)\n",
    ">\n",
    ">- 디폴트 인자 값을 갖는 매개변수는 매개변수 리스트의 끝 부분에 선언되어져야 한다.\n",
    ">- `def func(a,b=5)` 는 유효한 방법이지만, `def func(a=5, b)` 는 유효하지 않다.\n"
   ]
  },
  {
   "attachments": {},
   "cell_type": "markdown",
   "metadata": {
    "collapsed": false
   },
   "source": [
    "#### 7) 키워드 인자 (Keyword Arguments) 호출 방법\n",
    "\n",
    "> 함수를 호출할 때, 매개변수가 선언된 순서대로 인자를 전달해도 되지만, 매개변수명을 키워드로 하여 `매개뱐수=인자` 처럼 작성하여 인자를 전달할 수 있다.\n",
    "\n",
    "Example (save as `function_keyword.py`):\n"
   ]
  },
  {
   "cell_type": "code",
   "execution_count": 3,
   "metadata": {
    "collapsed": false
   },
   "outputs": [
    {
     "ename": "SyntaxError",
     "evalue": "positional argument follows keyword argument (2397708810.py, line 9)",
     "output_type": "error",
     "traceback": [
      "\u001b[1;36m  Cell \u001b[1;32mIn [3], line 9\u001b[1;36m\u001b[0m\n\u001b[1;33m    func(c=50, 100)\u001b[0m\n\u001b[1;37m                  ^\u001b[0m\n\u001b[1;31mSyntaxError\u001b[0m\u001b[1;31m:\u001b[0m positional argument follows keyword argument\n"
     ]
    }
   ],
   "source": [
    "def func(a, b=5, c=10):\n",
    "    print('a is', a, 'and b is', b, 'and c is', c)\n",
    "\n",
    "\n",
    "func(3)\n",
    "func(3, 7)\n",
    "func(25, c=24)\n",
    "func(c=50, a=100)\n",
    "func(c=50, 100)"
   ]
  },
  {
   "attachments": {},
   "cell_type": "markdown",
   "metadata": {
    "collapsed": false
   },
   "source": [
    "**How It Works**\n",
    "\n",
    ">1. 마지막 호출은 순서형 매개변수 `a` 보다 키워드 인자가 먼저 작성되었기 때문에 문법적 오류이다.\n"
   ]
  },
  {
   "attachments": {},
   "cell_type": "markdown",
   "metadata": {
    "collapsed": false
   },
   "source": [
    "## 실습\n",
    "\n",
    "[1] 십진수 a와 바꾸고자 하는 진수 r (default는 2)을 입력하면 a를 r진수로 바꾸어 출력하는 프로그램을 작성하시오. 단 1 < r < 10.\n",
    "\n"
   ]
  },
  {
   "cell_type": "code",
   "execution_count": 1,
   "metadata": {},
   "outputs": [
    {
     "name": "stdout",
     "output_type": "stream",
     "text": [
      "1023(4): [3, 3, 3, 3, 3]\n",
      "6(2): [1, 1, 0]\n",
      "26(8): [3, 2]\n"
     ]
    }
   ],
   "source": [
    "import math\n",
    "\n",
    "def print_radix(x, r=2):\n",
    "    '''\n",
    "    십진수 x를 r-진수로 변환해서 출력한다.\n",
    "    '''\n",
    "    radix = []\n",
    "    while x > 0:\n",
    "        x, d = divmod(x, r)\n",
    "        radix.append(d)\n",
    "\n",
    "    print(radix[::-1])\n",
    "#end of function\n",
    "\n",
    "\n",
    "print('{}({}):'.format(1023,4), end=' ')\n",
    "print_radix(1023,4)\n",
    "print('{}({}):'.format(6,2), end=' ')\n",
    "print_radix(6)\n",
    "print('{}({}):'.format(26,8), end=' ')\n",
    "print_radix(26,r=8) "
   ]
  },
  {
   "cell_type": "markdown",
   "metadata": {},
   "source": [
    "[2] 문자의 개수 n과 사용할 문자 c (default는 공백문자)를 전달하면 화면에 문자 c를 n번 연속으로 출력하는 함수를 작성하고 이를 이용하여 대각선의 길이가 7 또는 15인 속이 꽉 찬 마름모를 문자 *\\**를 사용하여 그리는 프로그램을 작성하시오."
   ]
  },
  {
   "cell_type": "code",
   "execution_count": 17,
   "metadata": {
    "collapsed": false
   },
   "outputs": [
    {
     "name": "stdout",
     "output_type": "stream",
     "text": [
      "   *\n",
      "  ***\n",
      " *****\n",
      "*******\n",
      " *****\n",
      "  ***\n",
      "   *\n",
      "       *\n",
      "      ***\n",
      "     *****\n",
      "    *******\n",
      "   *********\n",
      "  ***********\n",
      " *************\n",
      "***************\n",
      " *************\n",
      "  ***********\n",
      "   *********\n",
      "    *******\n",
      "     *****\n",
      "      ***\n",
      "       *\n"
     ]
    }
   ],
   "source": [
    "def print_c(c=' ',times=1):\n",
    "    print(c * times, end='')\n",
    "# end of function\n",
    "\n",
    "\n",
    "def print_rhombus(n):\n",
    "    for k in range(n):\n",
    "        if k < (n+1)//2:\n",
    "            be_blank = (n//2) - k\n",
    "            be_filled = 2*k + 1\n",
    "        else:\n",
    "            be_blank = k - (n//2)\n",
    "            be_filled = 2*(n-k) - 1\n",
    "        print_c(times=be_blank)\n",
    "        print_c(c='*', times=be_filled)\n",
    "        print('')\n",
    "# end of rhombus()\n",
    "\n",
    "\n",
    "print_rhombus(7)\n",
    "print_rhombus(15)\n",
    "\n"
   ]
  }
 ],
 "metadata": {
  "kernelspec": {
   "display_name": "Python 3",
   "language": "python",
   "name": "python3"
  },
  "language_info": {
   "codemirror_mode": {
    "name": "ipython",
    "version": 3
   },
   "file_extension": ".py",
   "mimetype": "text/x-python",
   "name": "python",
   "nbconvert_exporter": "python",
   "pygments_lexer": "ipython3",
   "version": "3.11.0"
  },
  "vscode": {
   "interpreter": {
    "hash": "10340f3b4385e401792eeb44b8b5edca2cd8c002c17926bde515355c1d6e3c5e"
   }
  }
 },
 "nbformat": 4,
 "nbformat_minor": 0
}
