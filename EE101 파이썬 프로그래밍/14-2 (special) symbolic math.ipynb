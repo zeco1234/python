{
 "cells": [
  {
   "cell_type": "markdown",
   "metadata": {
    "slideshow": {
     "slide_type": "slide"
    }
   },
   "source": [
    "# Sympy"
   ]
  },
  {
   "attachments": {},
   "cell_type": "markdown",
   "metadata": {
    "slideshow": {
     "slide_type": "slide"
    }
   },
   "source": [
    "#### 기호식 계산(Symbolic Computation)을 위한 패키지\n",
    "\n",
    "Symbolic computation deals with the computation of mathematical objects symbolically. This means that the mathematical objects are represented exactly, not approximately, and mathematical expressions with unevaluated variables are left in symbolic form.\n",
    "\n",
    "다음의 예를 비교해보라."
   ]
  },
  {
   "cell_type": "code",
   "execution_count": 1,
   "metadata": {},
   "outputs": [
    {
     "name": "stdout",
     "output_type": "stream",
     "text": [
      "2.8284271247461903\n",
      "2*sqrt(2)\n",
      "3.0\n",
      "3\n"
     ]
    }
   ],
   "source": [
    "import math\n",
    "import sympy as sp\n",
    "\n",
    "print(math.sqrt(8))\n",
    "print(sp.sqrt(8))\n",
    "\n",
    "print(math.sqrt(9))\n",
    "print(sp.sqrt(9))"
   ]
  },
  {
   "attachments": {},
   "cell_type": "markdown",
   "metadata": {},
   "source": [
    "#### sympy 모듈의 특징\n",
    "- Mathematica와 같은 기능을 하는 무료 CAS(Computer Algebra System)\n",
    "- 기호의 선언: symbols()\n",
    "- 수식의 전개와 인수분해: expand(), factor()\n",
    "- 분수식의 통분과 분리: together(), apart()\n",
    "- 대수 방정식의 풀이: solve(expr, x)\n",
    "- 미분: diff(f(x),x)\n",
    "- 적분: integrate(sin(t),t), integrate(sin(t)*ext(-t),(t,-oo,oo))\n",
    "- 극한: limit(f(x),x,0)\n",
    "- 미분방정식의 풀이: dsolve(x(t).diff(t,t)-x(t)-exp(t), x(t))"
   ]
  },
  {
   "attachments": {},
   "cell_type": "markdown",
   "metadata": {
    "slideshow": {
     "slide_type": "slide"
    }
   },
   "source": [
    "#### Sympy에서 미리 정의된 상수\n",
    "\n",
    "- $I, 1J, 1j$: 허수\n",
    "- $pi$: 원주율, pi.evalf() will give 3.141592...\n",
    "- $E$: 자연상수, E.evalf() will give 2.728281...\n",
    "- $nan$: not a number\n",
    "- $oo$: infinity\n",
    "- $zoo$: complex infinity"
   ]
  },
  {
   "attachments": {},
   "cell_type": "markdown",
   "metadata": {},
   "source": [
    "#### 1) 전달함수로부터 시간영역 초기값과 최종값 구하기"
   ]
  },
  {
   "cell_type": "code",
   "execution_count": 21,
   "metadata": {},
   "outputs": [
    {
     "name": "stdout",
     "output_type": "stream",
     "text": [
      "f(0)= nan\n",
      "f(0)= 1.0\n",
      "f(oo)= 5.0\n"
     ]
    }
   ],
   "source": [
    "import sympy as sp\n",
    "from sympy.abc import s,tau\n",
    "\n",
    "# 시스템의 전달함수가 다음과 같다고 가정하자.\n",
    "Fs = (s**2 + 3*s + 5)/(s*(s**2+2*s+1))\n",
    "\n",
    "# 초기값 정리를 이용한 초기값 구하기\n",
    "sFs = sp.simplify(s*Fs)\n",
    "f0 = float((sFs).subs(s, sp.oo))\n",
    "print('f(0)=',f0)\n",
    "\n",
    "# s=1/tau 로 치환한 후 tau->0을 대입하여 구한다.\n",
    "Ftau = sp.factor((sFs).subs(s, 1/tau))\n",
    "f0 = float(Ftau.subs(tau,0))\n",
    "print('f(0)=',f0)\n",
    "\n",
    "# 최종값 정리를 이용한 최종값 구하기\n",
    "foo = float((sFs).subs(s, 0))\n",
    "print('f(oo)=',foo)"
   ]
  },
  {
   "attachments": {},
   "cell_type": "markdown",
   "metadata": {},
   "source": [
    "#### 2) 회로망 해석 (예: 망 전류 해석법)\n",
    "어떤 회로에서 두 개의 망 전류 $i_1$과 $i_2$가 다음과 같은 두 개의 방정식을 동시에 만족해야 할 때, 망 전류 $i_1$과 $i_2$를 구하라.\n",
    "\n",
    "$5 i_1 -3 i_2 = 12$\n",
    "\n",
    "$-3 i_1 + 7 i_2 = 6$"
   ]
  },
  {
   "cell_type": "code",
   "execution_count": 16,
   "metadata": {
    "slideshow": {
     "slide_type": "slide"
    }
   },
   "outputs": [
    {
     "name": "stdout",
     "output_type": "stream",
     "text": [
      "i1= 51/13\n",
      "i2= 33/13\n"
     ]
    }
   ],
   "source": [
    "import sympy as sp\n",
    "\n",
    "i1, i2 = sp.symbols('i1 i2')\n",
    "eq1 = sp.Eq(5*i1-3*i2, 12)\n",
    "eq2 = sp.Eq(-3*i1+7*i2, 6)\n",
    "ans = sp.solve([eq1,eq2],[i1,i2])\n",
    "print('i1=', ans[i1])\n",
    "print('i2=', ans[i2])"
   ]
  },
  {
   "attachments": {},
   "cell_type": "markdown",
   "metadata": {},
   "source": [
    "같은 문제를 numpy.linalg 모듈을 이용해서 해결한다면"
   ]
  },
  {
   "cell_type": "code",
   "execution_count": 17,
   "metadata": {},
   "outputs": [
    {
     "name": "stdout",
     "output_type": "stream",
     "text": [
      "i1= 3.9230769230769234\n",
      "i2= 2.538461538461539\n"
     ]
    }
   ],
   "source": [
    "import numpy as np\n",
    "\n",
    "A = np.array([[5,-3],[-3,7]])\n",
    "f = np.array([12,6])\n",
    "x = np.linalg.solve(A,f)\n",
    "print('i1=', x[0])\n",
    "print('i2=', x[1])"
   ]
  },
  {
   "attachments": {},
   "cell_type": "markdown",
   "metadata": {},
   "source": [
    "#### 3) 라플라스 역변환\n",
    "\n",
    "s의 유리다항식꼴로 주어진 라플라스 변환 영역 함수를 역변환하는 방법은 변환 영역 함수를 하나의 실근 또는 컬레 복소수 근을 극점으로 갖는 부분 분수로 전개한 다음, 각 부분분수를 역변환하는 것이 유일한 실용적인 방법이다. \n",
    "\n",
    "예를 들어 다음과 같은 함수를 역변환해보자\n",
    "\n",
    "$F(s)= \\frac{(s+3)}{(s+1)(s+2)}$\n",
    "\n",
    "부분 분수로 전개하면\n",
    "\n",
    "$F(s)=\\frac{2}{s+1} -\\frac{1}{s+2}$\n",
    "\n",
    "따라서 각각의 부분분수를 역변환한 후 합하여 주어진 함수에 대한 역변환을 구한다.\n",
    "\n",
    "$f(t) = \\left(2 e^{-t} - e^{-2t} \\right) u(t)$\n",
    "\n",
    "sympy 모듈은 이 과정을 모두 수행한 결과를 반환하는 함수를 제공한다.\n"
   ]
  },
  {
   "cell_type": "code",
   "execution_count": 19,
   "metadata": {},
   "outputs": [
    {
     "name": "stdout",
     "output_type": "stream",
     "text": [
      "2*exp(-t)*Heaviside(t) - exp(-2*t)*Heaviside(t)\n"
     ]
    }
   ],
   "source": [
    "import sympy as sp\n",
    "from sympy.integrals.transforms import inverse_laplace_transform\n",
    "from sympy.abc import s,t\n",
    "\n",
    "Fs = (s+3)/((s+1)*(s+2))\n",
    "\n",
    "ft = inverse_laplace_transform(Fs, s, t)\n",
    "\n",
    "print(sp.expand(ft))"
   ]
  },
  {
   "attachments": {},
   "cell_type": "markdown",
   "metadata": {},
   "source": [
    "#### 4) 미분과 적분\n",
    "diff() 함수를 이용해서 미분을 구할 수 있고, inegrate() 함수를 이용해서 부정적분과 정적분을 계산할 수 있다."
   ]
  },
  {
   "cell_type": "code",
   "execution_count": 28,
   "metadata": {},
   "outputs": [
    {
     "name": "stdout",
     "output_type": "stream",
     "text": [
      "-50000*pi**2*cos(pi*(100*t + 1/3))\n",
      "Piecewise((2/(s + 1), Abs(arg(s)) <= pi/2), (2*Integral(exp(-t*(s + 1)), (t, 0, oo)), True))\n"
     ]
    }
   ],
   "source": [
    "import sympy as sp\n",
    "from sympy.abc import s,t\n",
    "\n",
    "xt = 5*sp.cos(sp.pi*100*t+sp.pi/3)\n",
    "yt = xt.diff(t,2)\n",
    "print(yt)\n",
    "\n",
    "ft = 2*sp.exp(-t)\n",
    "\n",
    "Fs = sp.integrate(ft*sp.exp(-s*t),(t,0,sp.oo))\n",
    "print(sp.simplify(Fs))\n",
    "\n"
   ]
  }
 ],
 "metadata": {
  "celltoolbar": "Slideshow",
  "kernelspec": {
   "display_name": "Python 3",
   "language": "python",
   "name": "python3"
  },
  "language_info": {
   "codemirror_mode": {
    "name": "ipython",
    "version": 3
   },
   "file_extension": ".py",
   "mimetype": "text/x-python",
   "name": "python",
   "nbconvert_exporter": "python",
   "pygments_lexer": "ipython3",
   "version": "3.11.0"
  },
  "vscode": {
   "interpreter": {
    "hash": "10340f3b4385e401792eeb44b8b5edca2cd8c002c17926bde515355c1d6e3c5e"
   }
  }
 },
 "nbformat": 4,
 "nbformat_minor": 2
}
