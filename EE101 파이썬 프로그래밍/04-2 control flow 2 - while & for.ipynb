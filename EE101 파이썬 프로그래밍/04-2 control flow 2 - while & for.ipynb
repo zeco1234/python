{
 "cells": [
  {
   "attachments": {},
   "cell_type": "markdown",
   "metadata": {
    "collapsed": false
   },
   "source": [
    "## `while` 루프 (loop)\n",
    "\n",
    "> 조건이 참인 한, 명령 블록을 반복적으로 (*looping*) 실행한다.\n",
    ">\n",
    "> `while` 문에도 선택적으로 `else` clause를 이용할 수 있다.\n",
    "\n",
    "Example (save as `while.py`):"
   ]
  },
  {
   "cell_type": "code",
   "execution_count": null,
   "metadata": {
    "collapsed": false
   },
   "outputs": [],
   "source": [
    "number = 23\n",
    "running = True\n",
    "msg = 'Enter an integer : '\n",
    "while running:\n",
    "    guess = int(input(msg))\n",
    "\n",
    "    if guess == number:\n",
    "        print(f'Congratulations, you guessed {number}.')\n",
    "        # this causes the while loop to stop\n",
    "        running = False\n",
    "    elif guess < number:\n",
    "        msg = f'No, it is a little higher than {guess} .'\n",
    "        print(msg)\n",
    "    else:\n",
    "        msg = f'No, it is a little lower than {guess}.'\n",
    "        print(msg)\n",
    "else:\n",
    "    print('The while loop is over.')\n",
    "    # Do anything else you want to do here\n",
    "\n",
    "print('Done')"
   ]
  },
  {
   "attachments": {},
   "cell_type": "markdown",
   "metadata": {
    "collapsed": false
   },
   "source": [
    "**How It Works**\n",
    "\n",
    "- `while` 문에 진입시 조건을 검사하고, `True`이면 *while-block*을 실행하고, 다시 조건 검사 문장으로 되돌아 온다.\n",
    "- `else` 블록은 `while` 조건이 `False`가 될 때 실행된다.\n",
    "- 루프를 탈출하는 다른 방법은 `break` 문을 사용하는 것이다.\n",
    "- `True` 와 `False` 는 각각 `1`, `0` 과 같다.\n"
   ]
  },
  {
   "attachments": {},
   "cell_type": "markdown",
   "metadata": {
    "collapsed": false
   },
   "source": [
    "## `for` 루프 (loop)\n",
    "\n",
    "> `for..in` 문은 시퀀스(리스트, 튜플 또는 스트링)의 각 item들을 한번씩 가져와서 실행하는 루프\n",
    ">\n",
    "> `else` clause를 선택적으로 추가할 수 있다. `break` 문을 통해 루프를 빠져나오지 않은 경우, 마지막 루프 실행 후 `else` clause를 실행한다.\n",
    "\n",
    "Example (save as `for.py`):"
   ]
  },
  {
   "cell_type": "code",
   "execution_count": null,
   "metadata": {
    "collapsed": false
   },
   "outputs": [],
   "source": [
    "for i in range(1, 5):\n",
    "    print(i)\n",
    "else:\n",
    "    print('The for loop is over')"
   ]
  },
  {
   "attachments": {},
   "cell_type": "markdown",
   "metadata": {
    "collapsed": false
   },
   "source": [
    "**How It Works**\n",
    "\n",
    "- `range()`는 시퀀스를 생성하는 내장 함수\n",
    "- 1부터 4까지의 정수를 차례대로 i에 대입하여 루프를 실행한다.\n",
    "- `range(start,stop,step)`는 start부터 step 만큼 증가시키면서 stop보다 작은 모든 값을 순서대로 발생시킨다.\n",
    "- `range()`의 결과가 바로 리스트는 아니다. 리스트로 캐스팅하면 리스트를 얻을 수 있다.\n",
    "\n"
   ]
  },
  {
   "cell_type": "code",
   "execution_count": null,
   "metadata": {},
   "outputs": [],
   "source": [
    "print('range() =',range(1,5))\n",
    "print('list(range()) =',list(range(1,5)))"
   ]
  },
  {
   "cell_type": "code",
   "execution_count": null,
   "metadata": {},
   "outputs": [],
   "source": [
    "for i in [1,2,3,4]:\n",
    "    print(i)\n",
    "else:\n",
    "    print('The for loop is over')"
   ]
  },
  {
   "attachments": {},
   "cell_type": "markdown",
   "metadata": {
    "collapsed": false
   },
   "source": [
    "## 실습\n",
    "[1] 사용자로부터 0이 입력될 떄까지 정수를 입력받아, 0을 제외한 수 중에서 절대값이 가장 작은 수와 가장 큰 수를 구하여 출력하라.\n",
    "\n"
   ]
  },
  {
   "cell_type": "code",
   "execution_count": 2,
   "metadata": {},
   "outputs": [
    {
     "name": "stdout",
     "output_type": "stream",
     "text": [
      "Done\n",
      "최대절대값 = -8, 최소절대값 = 1\n"
     ]
    }
   ],
   "source": [
    "isOK = True\n",
    "maxabs = 0 # 최대절대값을 0으로 초기화\n",
    "minabs = 0 # 최소절대값을 0으로 초기화\n",
    "msg = '정수를 입력하시오. (0 to quit) : '\n",
    "\n",
    "while isOK:\n",
    "    a = int(input(msg))\n",
    "    if a == 0:  # 0을 입력하면, 루프를 중단할 수 있도록 조치\n",
    "        isOK = False\n",
    "    else:\n",
    "        if maxabs == 0 or abs(a) > abs(maxabs):  # 첫 번째 입력이거나, 절대값이 더 큰 입력일 때\n",
    "            maxabs = a\n",
    "\n",
    "        if minabs == 0 or abs(a) < abs(minabs):  # 첫 번째 입력이거나, 절대값이 더 작은 입력일 때\n",
    "            minabs = a\n",
    "else:\n",
    "    print('Done')\n",
    "\n",
    "print(f'최대절대값 = {maxabs}, 최소절대값 = {minabs}')"
   ]
  },
  {
   "cell_type": "markdown",
   "metadata": {},
   "source": [
    "[2] 사용자로부터 년도를 입력받아 그해가 윤년인지 아닌지를 출력하는 과정을 무한 반복하는 프로그램을 작성하라. 단, 입력된 년도가 양수가 아니면 루프를 빠져나와 프로그램을 종료하시오. \n",
    "\n",
    "(Ex. 2023 -> 평년 / 2000 -> 윤년 / 2100 -> 평년 / 0 -> Done)\n"
   ]
  },
  {
   "cell_type": "code",
   "execution_count": 3,
   "metadata": {
    "collapsed": false
   },
   "outputs": [
    {
     "name": "stdout",
     "output_type": "stream",
     "text": [
      "2022 is not a leap year.\n",
      "2023 is not a leap year.\n",
      "2030 is not a leap year.\n",
      "2400 is a leap year.\n",
      "2024 is a leap year.\n",
      "2100 is not a leap year.\n",
      "Done\n"
     ]
    }
   ],
   "source": [
    "'''\n",
    "그레고리력의 윤년 규칙은 다음과 같다.\n",
    "1) 서력 기원 연수가 4로 나누어 떨어지는 해는 윤년으로 한다. (2020년, 2024년, 2028년, 2032년, 2036년, 2040년, 2044년 ...)\n",
    "2) 서력 기원 연수가 4와 100으로 나누어 떨어지는 해는 평년으로 한다. (2100년, 2200년, 2300년...)\n",
    "3) 서력 기원 연수가 4, 100, 400으로 나누어 떨어지는 해는 윤년으로 둔다. (1600년, 2000년, 2400년...)\n",
    "'''\n",
    "isOK = True\n",
    "msg = '년도를 입력하시오. (음수 to quit) : '\n",
    "\n",
    "while isOK:\n",
    "    year = int(input(msg))\n",
    "    \n",
    "    if year <= 0:\n",
    "        isOK = False\n",
    "    elif year % 400 == 0:\n",
    "        print(f'{year} is a leap year.')\n",
    "    elif year % 100 == 0:\n",
    "        print(f'{year} is not a leap year.')\n",
    "    elif year % 4 == 0:\n",
    "        print(f'{year} is a leap year.')\n",
    "    else:\n",
    "        print(f'{year} is not a leap year.')\n",
    "else:\n",
    "    print('Done')"
   ]
  }
 ],
 "metadata": {
  "kernelspec": {
   "display_name": "Python 3.11.0 64-bit",
   "language": "python",
   "name": "python3"
  },
  "language_info": {
   "codemirror_mode": {
    "name": "ipython",
    "version": 3
   },
   "file_extension": ".py",
   "mimetype": "text/x-python",
   "name": "python",
   "nbconvert_exporter": "python",
   "pygments_lexer": "ipython3",
   "version": "3.11.0"
  },
  "vscode": {
   "interpreter": {
    "hash": "10340f3b4385e401792eeb44b8b5edca2cd8c002c17926bde515355c1d6e3c5e"
   }
  }
 },
 "nbformat": 4,
 "nbformat_minor": 0
}
